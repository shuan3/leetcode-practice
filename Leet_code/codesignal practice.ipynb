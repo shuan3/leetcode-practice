{
 "cells": [
  {
   "cell_type": "markdown",
   "id": "74814a49",
   "metadata": {},
   "source": [
    "Given an array of integers a, your task is to find how many of its contiguous subarrays of length m contain a pair of integers with a sum equal to k.\n",
    "\n",
    "More formally, given the array a, your task is to count the number of indices 0 ≤ i ≤ a.length - m such that a subarray [a[i], a[i + 1], ..., a[i + m - 1]] contains at least one pair (a[s], a[t]), where:\n",
    "\n",
    "s ≠ t\n",
    "a[s] + a[t] = k\n",
    "Example\n",
    "\n",
    "For a = [2, 4, 7, 5, 3, 5, 8, 5, 1, 7], m = 4, and k = 10, the output should be solution(a, m, k) = 5.\n",
    "\n",
    "Let's consider all subarrays of length m = 4 and see which fit the description conditions:\n",
    "\n",
    "Subarray a[0..3] = [2, 4, 7, 5] doesn't contain any pair of integers with a sum of k = 10. Note that although the pair (a[3], a[3]) has the sum 5 + 5 = 10, it doesn't fit the requirement s ≠ t.\n",
    "Subarray a[1..4] = [4, 7, 5, 3] contains the pair (a[2], a[4]), where a[2] + a[4] = 7 + 3 = 10.\n",
    "Subarray a[2..5] = [7, 5, 3, 5] contains two pairs (a[2], a[4]) and (a[3], a[5]), both with a sum of k = 10.\n",
    "Subarray a[3..6] = [5, 3, 5, 8] contains the pair (a[3], a[5]), where a[3] + a[5] = 5 + 5 = 10.\n",
    "Subarray a[4..7] = [3, 5, 8, 5] contains the pair (a[5], a[7]), where a[5] + a[7] = 5 + 5 = 10.\n",
    "Subarray a[5..8] = [5, 8, 5, 1] contains the pair (a[5], a[7]), where a[5] + a[7] = 5 + 5 = 10.\n",
    "Subarray a[6..9] = [8, 5, 1, 7] doesn't contain any pair with a sum of k = 10.\n",
    "So the answer is 5, because there are 5 contiguous subarrays that contain a pair with a sum of k = 10.\n",
    "\n",
    "For a = [15, 8, 8, 2, 6, 4, 1, 7], m = 2, and k = 8, the output should be solution(a, m, k) = 2.\n",
    "\n",
    "There are 2 subarrays satisfying the description conditions:\n",
    "\n",
    "a[3..4] = [2, 6], where 2 + 6 = 8\n",
    "a[6..7] = [1, 7], where 1 + 7 = 8"
   ]
  },
  {
   "cell_type": "code",
   "execution_count": 1,
   "id": "22a56f32",
   "metadata": {},
   "outputs": [],
   "source": [
    "def solution(a, m, k):\n",
    "    count = 0\n",
    "    last_pos = {}  # value: last position observed\n",
    "    max_complement_pos = -1\n",
    "    for head, num in enumerate(a, 1):  # advance head by one\n",
    "        tail = head - m\n",
    "        # deletion part is to keep space complexity O(m). \n",
    "        # If this is not a concern (likely), safe to omit \n",
    "        if tail > 0 and last_pos[a[tail]] <= tail:  # time to pop last element\n",
    "            del last_pos[a[tail]]\n",
    "        max_complement_pos = max(max_complement_pos, last_pos.get(k-num, -1))\n",
    "        count += head >= m and max_complement_pos > tail\n",
    "        last_pos[num] =head  # add element at head\n",
    "    return count\n",
    "#sliding windows\n",
    "def solve(a,m,k):\n",
    "    i,j,res=0,m,0\n",
    "    while j<=len(a):\n",
    "        s=set()\n",
    "        for t in range(i,j):\n",
    "            if a[t] in s:\n",
    "                res+=1\n",
    "                break\n",
    "            s.add(k-a[t])\n",
    "        i+=1\n",
    "        j+=1\n",
    "    return res"
   ]
  },
  {
   "cell_type": "code",
   "execution_count": 71,
   "id": "9e2c92a3",
   "metadata": {},
   "outputs": [
    {
     "name": "stdout",
     "output_type": "stream",
     "text": [
      "head is 1 num is  15\n",
      "tail is  -1\n",
      "last_pos is  {}\n",
      "max_complement_pos is  -1\n",
      "0\n",
      "last_pos is final  {15: 1}\n",
      "head is 2 num is  8\n",
      "tail is  0\n",
      "last_pos is  {15: 1}\n",
      "max_complement_pos is  -1\n",
      "0\n",
      "last_pos is final  {15: 1, 8: 2}\n",
      "head is 3 num is  8\n",
      "tail is  1\n",
      "last_pos is  {15: 1, 8: 2}\n",
      "max_complement_pos is  -1\n",
      "0\n",
      "last_pos is final  {15: 1, 8: 3}\n",
      "head is 4 num is  2\n",
      "tail is  2\n",
      "last_pos is  {15: 1, 8: 3}\n",
      "max_complement_pos is  -1\n",
      "0\n",
      "last_pos is final  {15: 1, 8: 3, 2: 4}\n",
      "head is 5 num is  6\n",
      "tail is  3\n",
      "last_pos is  {15: 1, 8: 3, 2: 4}\n",
      "max_complement_pos is  4\n",
      "1\n",
      "last_pos is final  {15: 1, 8: 3, 2: 4, 6: 5}\n",
      "head is 6 num is  4\n",
      "tail is  4\n",
      "last_pos is  {15: 1, 8: 3, 2: 4, 6: 5}\n",
      "max_complement_pos is  4\n",
      "1\n",
      "last_pos is final  {15: 1, 8: 3, 2: 4, 6: 5, 4: 6}\n",
      "head is 7 num is  1\n",
      "tail is  5\n",
      "last_pos is  {15: 1, 8: 3, 2: 4, 6: 5, 4: 6}\n",
      "max_complement_pos is  4\n",
      "1\n",
      "last_pos is final  {15: 1, 8: 3, 2: 4, 6: 5, 4: 6, 1: 7}\n",
      "head is 8 num is  7\n",
      "tail is  6\n",
      "last_pos is  {15: 1, 8: 3, 2: 4, 6: 5, 4: 6, 1: 7}\n",
      "max_complement_pos is  7\n",
      "2\n",
      "last_pos is final  {15: 1, 8: 3, 2: 4, 6: 5, 4: 6, 1: 7, 7: 8}\n",
      "2\n"
     ]
    }
   ],
   "source": [
    "# Maintain a map of highest position of the last m values (add/remove/query is O(1)) and \n",
    "# highest position of the first value of a complementary pair\n",
    "# Check if complementary element is in the map, update the highest position if necessary.\n",
    "# If at least m elements were processed and higest position is in the range, increase counter\n",
    "# O(n)\n",
    "\n",
    "count = 0\n",
    "a = [15, 8, 8, 2, 6, 4, 1, 7]\n",
    "m = 2\n",
    "k = 8\n",
    "last_pos = {}  # value: last position observed\n",
    "max_complement_pos = -1\n",
    "for head, num in enumerate(a, 1):  # advance head by one\n",
    "    print(\"head is\",head,\"num is \",num)\n",
    "    tail = head - m\n",
    "    print(\"tail is \", tail)\n",
    "    # deletion part is to keep space complexity O(m). \n",
    "    # If this is not a concern (likely), safe to omit \n",
    "    if tail > 0 and last_pos[a[tail]] <= tail:\n",
    "        print(\"if condition is running\", last_pos[a[tail]])# time to pop last element\n",
    "        del last_pos[a[tail]]\n",
    "    print(\"last_pos is \",last_pos)\n",
    "    max_complement_pos = max(max_complement_pos, last_pos.get(k-num, -1))\n",
    "    print(\"max_complement_pos is \",max_complement_pos)\n",
    "    count += head>= m and max_complement_pos > tail\n",
    "    print(count)\n",
    "    last_pos[num] =head  # add element at head\n",
    "    print(\"last_pos is final \",last_pos)\n",
    "\n",
    "print(count)\n"
   ]
  },
  {
   "cell_type": "code",
   "execution_count": 58,
   "id": "633450cb",
   "metadata": {},
   "outputs": [
    {
     "name": "stdout",
     "output_type": "stream",
     "text": [
      "1 15\n",
      "2 8\n",
      "3 8\n",
      "4 2\n",
      "5 6\n",
      "6 4\n",
      "7 1\n",
      "8 7\n"
     ]
    }
   ],
   "source": [
    "# print(\"Line 1\\nLine 2\\nLine 3\")\n",
    "a = [15, 8, 8, 2, 6, 4, 1, 7]\n",
    "for head, num in enumerate(a,1):\n",
    "    print(head,num)"
   ]
  },
  {
   "cell_type": "code",
   "execution_count": 69,
   "id": "54241d16",
   "metadata": {},
   "outputs": [
    {
     "name": "stdout",
     "output_type": "stream",
     "text": [
      "1\n"
     ]
    }
   ],
   "source": [
    "# a = [15, 8, 8, 2, 6, 4, 1, 7]\n",
    "# for head, num in enumerate(a,2):\n",
    "#     print(head,num)\n",
    "#assign value without if condition\n",
    "a=3\n",
    "b=1\n",
    "c=0\n",
    "c+=a >b and a>b\n",
    "print(c)"
   ]
  },
  {
   "cell_type": "code",
   "execution_count": 62,
   "id": "aa5cbc89",
   "metadata": {},
   "outputs": [
    {
     "name": "stdout",
     "output_type": "stream",
     "text": [
      "i and j is  0 2    t is  0\n",
      "{-7}\n",
      "i and j is  0 2    t is  1\n",
      "{0, -7}\n",
      "i and j is  1 3    t is  1\n",
      "{0}\n",
      "i and j is  1 3    t is  2\n",
      "{0}\n",
      "i and j is  2 4    t is  2\n",
      "{0}\n",
      "i and j is  2 4    t is  3\n",
      "{0, 6}\n",
      "i and j is  3 5    t is  3\n",
      "{6}\n",
      "i and j is  3 5    t is  4\n",
      "at exist in s {6}\n",
      "i and j is  4 6    t is  4\n",
      "{2}\n",
      "i and j is  4 6    t is  5\n",
      "{2, 4}\n",
      "i and j is  5 7    t is  5\n",
      "{4}\n",
      "i and j is  5 7    t is  6\n",
      "{4, 7}\n",
      "i and j is  6 8    t is  6\n",
      "{7}\n",
      "i and j is  6 8    t is  7\n",
      "at exist in s {7}\n",
      "2\n"
     ]
    }
   ],
   "source": [
    "a = [15, 8, 8, 2, 6, 4, 1, 7]\n",
    "m = 2\n",
    "k = 8\n",
    "i,j,res=0,m,0\n",
    "while j<=len(a):\n",
    "    s=set()\n",
    "    for t in range(i,j):\n",
    "        print(\"i and j is \",i,j,\"   t is \",t)\n",
    "        if a[t] in s:\n",
    "            print(\"at exist in s\",s)\n",
    "            res+=1\n",
    "            break\n",
    "        s.add(k-a[t])\n",
    "        print(s)\n",
    "    i+=1\n",
    "    j+=1\n",
    "print(res)"
   ]
  },
  {
   "cell_type": "code",
   "execution_count": 67,
   "id": "7c588414",
   "metadata": {},
   "outputs": [
    {
     "name": "stdout",
     "output_type": "stream",
     "text": [
      "1\n"
     ]
    }
   ],
   "source": [
    "s=0\n",
    "s+=1\n",
    "print(s)"
   ]
  },
  {
   "cell_type": "markdown",
   "id": "8a744cd8",
   "metadata": {},
   "source": [
    "You are given an array of integers a. A new array b is generated by rearranging the elements of a in the following way:\n",
    "\n",
    "b[0] is equal to a[0];\n",
    "b[1] is equal to the last element of a;\n",
    "b[2] is equal to a[1];\n",
    "b[3] is equal to the second-last element of a;\n",
    "b[4] is equal to a[2];\n",
    "b[5] is equal to the third-last element of a;\n",
    "and so on.\n",
    "Your task is to determine whether the new array b is sorted in strictly ascending order or not.\n",
    "\n",
    "Here is how the process of generating the new array b works:\n",
    "\n",
    "\n",
    "\n",
    "Example\n",
    "\n",
    "For a = [1, 3, 5, 6, 4, 2], the output should be solution(a) = true.\n",
    "\n",
    "The new array b will look like [1, 2, 3, 4, 5, 6], which is in strictly ascending order, so the answer is true.\n",
    "\n",
    "For a = [1, 4, 5, 6, 3], the output should be solution(a) = false.\n",
    "\n",
    "The new array b will look like [1, 3, 4, 6, 5], which is not in strictly ascending order, so the answer is false."
   ]
  },
  {
   "cell_type": "code",
   "execution_count": 88,
   "id": "4f9ac330",
   "metadata": {},
   "outputs": [
    {
     "name": "stdout",
     "output_type": "stream",
     "text": [
      "0\n",
      "1\n",
      "2\n",
      "3\n",
      "4\n",
      "5\n",
      "[-92, -48, -23, -17, 0, 41, 45, 89, 89, 95, 96, 99]\n",
      "[-92, -48, -23, -17, 0, 41, 45, 89, 89, 95, 96, 99]\n",
      "6\n"
     ]
    },
    {
     "data": {
      "text/plain": [
       "True"
      ]
     },
     "execution_count": 88,
     "metadata": {},
     "output_type": "execute_result"
    }
   ],
   "source": [
    "a = [1, 3, 5, 6, 4, 2]\n",
    "a=[-52, 2, 31, 56, 47, 29, -35]\n",
    "a=[-92, -23, 0, 45, 89, 96, 99, 95, 89, 41, -17, -48]\n",
    "def solution(a):\n",
    "    b=[]\n",
    "    i=0\n",
    "    if len(a)%2==0:\n",
    "        l=int(len(a)/2)\n",
    "        while i <l:\n",
    "            print(i)\n",
    "            b.append(a[i])\n",
    "            b.append(a[len(a)-i-1])\n",
    "            i+=1\n",
    "    elif len(a)==1:\n",
    "        b=a\n",
    "    else:\n",
    "        l=int(len(a)//2)\n",
    "        while i <l:\n",
    "            b.append(a[i])\n",
    "            b.append(a[len(a)-i-1])\n",
    "            i+=1\n",
    "        b.append(a[l])\n",
    "    \n",
    "    if sorted(a)==b and all(i < j for i, j in zip(b, b[1:])):\n",
    "        lol=True\n",
    "    else:lol=False\n",
    "    print(sorted(a))\n",
    "    print(b)\n",
    "\n",
    "    return lol\n",
    "\n",
    "solution(a)"
   ]
  },
  {
   "cell_type": "code",
   "execution_count": 75,
   "id": "441c55ef",
   "metadata": {},
   "outputs": [
    {
     "data": {
      "text/plain": [
       "2"
      ]
     },
     "execution_count": 75,
     "metadata": {},
     "output_type": "execute_result"
    }
   ],
   "source": [
    "5//2"
   ]
  },
  {
   "cell_type": "code",
   "execution_count": 83,
   "id": "7e115d7e",
   "metadata": {},
   "outputs": [
    {
     "name": "stdout",
     "output_type": "stream",
     "text": [
      "[1, 2, 3, 4, 5, 6]\n"
     ]
    }
   ],
   "source": [
    "a = [1, 3, 5, 6, 4, 2]\n",
    "print(sorted(a))"
   ]
  },
  {
   "cell_type": "markdown",
   "id": "0bc8233d",
   "metadata": {},
   "source": [
    "You've created a new programming language, and now you've decided to add hashmap support to it. Actually you are quite disappointed that in common programming languages it's impossible to add a number to all hashmap keys, or all its values. So you've decided to take matters into your own hands and implement your own hashmap in your new language that has the following operations:\n",
    "\n",
    "insert x y - insert an object with key x and value y.\n",
    "get x - return the value of an object with key x.\n",
    "addToKey x - add x to all keys in map.\n",
    "addToValue y - add y to all values in map.\n",
    "To test out your new hashmap, you have a list of queries in the form of two arrays: queryTypes contains the names of the methods to be called (eg: insert, get, etc), and queries contains the arguments for those methods (the x and y values).\n",
    "\n",
    "Your task is to implement this hashmap, apply the given queries, and to find the sum of all the results for get operations.\n",
    "\n",
    "Example\n",
    "\n",
    "For queryType = [\"insert\", \"insert\", \"addToValue\", \"addToKey\", \"get\"] and query = [[1, 2], [2, 3], [2], [1], [3]], the output should be solution(queryType, query) = 5.\n",
    "\n",
    "The hashmap looks like this after each query:\n",
    "\n",
    "1 query: {1: 2}\n",
    "2 query: {1: 2, 2: 3}\n",
    "3 query: {1: 4, 2: 5}\n",
    "4 query: {2: 4, 3: 5}\n",
    "5 query: answer is 5\n",
    "The result of the last get query for 3 is 5 in the resulting hashmap."
   ]
  },
  {
   "cell_type": "code",
   "execution_count": 126,
   "id": "bc8c9b31",
   "metadata": {},
   "outputs": [
    {
     "name": "stdout",
     "output_type": "stream",
     "text": [
      "{1: 3, 2: 4}\n"
     ]
    }
   ],
   "source": [
    "# x = {key: [] for key in [1, 2, 3, 4]}\n",
    "\n",
    "# list=[[1,2],3]\n",
    "# list[0][1]=list[0][0]+5\n",
    "# print(list)\n",
    "dict1={1:2,2:3}\n",
    "for key in dict1.keys():\n",
    "                dict1[key]=dict1[key]+1\n",
    "print(dict1)"
   ]
  },
  {
   "cell_type": "code",
   "execution_count": 121,
   "id": "8b2583e7",
   "metadata": {},
   "outputs": [
    {
     "name": "stdout",
     "output_type": "stream",
     "text": [
      "{1: 2, 2: 3}\n"
     ]
    }
   ],
   "source": [
    "lol={1:2,2:3}\n",
    "lol={key:key+1 for key,val in lol.items()}\n",
    "print(lol)"
   ]
  },
  {
   "cell_type": "code",
   "execution_count": 139,
   "id": "d189be7a",
   "metadata": {},
   "outputs": [
    {
     "name": "stdout",
     "output_type": "stream",
     "text": [
      "0 insert\n",
      "{1: 2}\n",
      "1 insert\n",
      "{1: 2, 2: 3}\n",
      "2 addToValue\n",
      "n is  2 count is  2\n",
      "1\n",
      "4\n",
      "2\n",
      "5\n",
      "{1: 4, 2: 5}\n",
      "3 addToKey\n",
      "1\n",
      "2\n",
      "{2: 4, 3: 5}\n",
      "4 get\n",
      "5\n"
     ]
    },
    {
     "data": {
      "text/plain": [
       "5"
      ]
     },
     "execution_count": 139,
     "metadata": {},
     "output_type": "execute_result"
    }
   ],
   "source": [
    "def solution(queryType, query):\n",
    "    lol=dict()\n",
    "    key1=0\n",
    "    output=0\n",
    "    for count,type in enumerate(queryType):\n",
    "        print(count, type)\n",
    "        if type==\"insert\":\n",
    "            lol[query[count][0]]=query[count][1]\n",
    "#             key1=query[count][0]\n",
    "            print(lol)\n",
    "        \n",
    "        elif type==\"addToValue\":\n",
    "            n=query[count-1][0]\n",
    "            print(\"n is \",n, \"count is \",count)\n",
    "            for key in lol.keys():\n",
    "                print(key)\n",
    "                lol[key]=lol[key]+n\n",
    "                print(lol[key])\n",
    "            print(lol)\n",
    "\n",
    "        elif type==\"addToKey\":\n",
    "            x=query[count][0]\n",
    "            new_lol=dict()\n",
    "            for key in lol.keys():\n",
    "                print(key)\n",
    "                new_lol[key+x] = lol[key]\n",
    "            lol=new_lol\n",
    "            print(lol)\n",
    "\n",
    "        elif type==\"get\":\n",
    "            output=lol.get(query[count][0],\"error\")\n",
    "            print(output)\n",
    "\n",
    "        \n",
    "        else:lol=lol\n",
    "    return output\n",
    "\n",
    "queryType = [\"insert\", \"insert\", \"addToValue\", \"addToKey\", \"get\"]\n",
    "query = [[1, 2], [2, 3], [2], [1], [3]]\n",
    "solution(queryType, query)"
   ]
  },
  {
   "cell_type": "code",
   "execution_count": 94,
   "id": "d410c998",
   "metadata": {},
   "outputs": [],
   "source": [
    "def hashMap(queryType, query):\n",
    "    hashmap = {}\n",
    "    result = 0\n",
    "    \n",
    "    for i in range(len(queryType)):\n",
    "        if queryType[i] == \"insert\":\n",
    "            x, y = query[i]\n",
    "            hashmap[x] = y\n",
    "        elif queryType[i] == \"get\":\n",
    "            x = query[i][0]\n",
    "            if x in hashmap:\n",
    "                result += hashmap[x]\n",
    "        elif queryType[i] == \"addToKey\":\n",
    "            x = query[i][0]\n",
    "            new_hashmap = {}\n",
    "            for key in hashmap:\n",
    "                new_hashmap[key+x] = hashmap[key]\n",
    "            hashmap = new_hashmap\n",
    "        elif queryType[i] == \"addToValue\":\n",
    "            y = query[i][0]\n",
    "            for key in hashmap:\n",
    "                hashmap[key] += y\n",
    "    \n",
    "    return result"
   ]
  },
  {
   "cell_type": "code",
   "execution_count": 96,
   "id": "b0e1f182",
   "metadata": {},
   "outputs": [],
   "source": [
    "def solution(queryType, query):\n",
    "    ret_val = 0\n",
    "    map_ = {}\n",
    "    cumulative_k = 0\n",
    "    cumulative_v = 0\n",
    "    \n",
    "    for idx, operation in enumerate(queryType):\n",
    "\n",
    "        args = query[idx]\n",
    "\n",
    "        if operation == \"insert\":\n",
    "            key, val = args[0], args[1]\n",
    "            map_[key - cumulative_k] = val - cumulative_v\n",
    "        elif operation == \"addToValue\":\n",
    "            cumulative_v += args[0]\n",
    "        elif operation == \"addToKey\":\n",
    "            cumulative_k += args[0]\n",
    "        else:  # get: only get alters the answer\n",
    "            key = args[0]\n",
    "            key -= cumulative_k\n",
    "            val = map_[key] + cumulative_v\n",
    "            ret_val += val\n",
    "    return ret_val"
   ]
  },
  {
   "cell_type": "code",
   "execution_count": 140,
   "id": "d6f17b5a",
   "metadata": {},
   "outputs": [
    {
     "name": "stdout",
     "output_type": "stream",
     "text": [
      "[3, 2, 1]\n"
     ]
    }
   ],
   "source": [
    "s=[1,2,3]\n",
    "print(s[::-1])"
   ]
  },
  {
   "cell_type": "markdown",
   "id": "096dc840",
   "metadata": {},
   "source": [
    "Example\n",
    "\n",
    "For s = \"aaacodedoc\", the output should be solution(s) = \"\".\n",
    "\n",
    "The initial string s = \"aaacodedoc\" contains only three prefixes which are also palindromes - \"a\", \"aa\", \"aaa\". The longest one between them is \"aaa\", so we cut it from s.\n",
    "Now we have string \"codedoc\". It contains two prefixes which are also palindromes - \"c\" and \"codedoc\". The longest one between them is \"codedoc\", so we cut it from the current string and obtain the empty string.\n",
    "Finally the algorithm ends on the empty string, so the answer is \"\".\n",
    "For s = \"codesignal\", the output should be solution(s) = \"codesignal\".\n",
    "The initial string s = \"codesignal\" contains the only prefix, which is also palindrome - \"c\". This prefix is the longest, but doesn't contain two characters, so the algorithm ends with string \"codesignal\" as a result.\n",
    "\n",
    "For s = \"\", the output should be solution(s) = \"\"."
   ]
  },
  {
   "cell_type": "code",
   "execution_count": 267,
   "id": "2313a59d",
   "metadata": {},
   "outputs": [
    {
     "data": {
      "text/plain": [
       "''"
      ]
     },
     "execution_count": 267,
     "metadata": {},
     "output_type": "execute_result"
    }
   ],
   "source": [
    "def solution(s):\n",
    "    l=len(s)\n",
    "    i=1\n",
    "    k=0\n",
    "    ll=0\n",
    "    ss=\"\"\n",
    "    if s==\"\":\n",
    "        ss=\"\"\n",
    "    else:\n",
    "        while i<=l:\n",
    "            print(i)\n",
    "            print(ss,k,ll)\n",
    "            if len(s)==1:\n",
    "                ss=s\n",
    "            elif s[k:i]==s[k:i][::-1] and len(s[k:i])!=1 and ((s[k:i+1]!=s[k:i+1][::-1] and i<l) \n",
    "             or \n",
    "             (i==l)):\n",
    "                if len(s[k:i])>ll:\n",
    "                    ll=len(s[k:i])\n",
    "                k=i\n",
    "                print(\"here is i \",i)\n",
    "                ss=s[k:]\n",
    "            else:\n",
    "                ss=s[k:]\n",
    "            i+=1\n",
    "    if ll==1:\n",
    "        ss=s\n",
    "#     elif ll>1:\n",
    "        \n",
    "#     elif ll!=1 and len(ss)==1:\n",
    "#         ss=\"\"\n",
    "    else:ss=ss\n",
    "    return ss\n",
    "def solution(s):\n",
    "    i=0\n",
    "    while i<len(s):\n",
    "        x=s[0:len(s)-i]\n",
    "        if x[::]==x[::-1] and len(x)>=2:\n",
    "            s=s[len(s)-i:]\n",
    "            i=0\n",
    "        else:\n",
    "            i+=1\n",
    "    return s\n",
    "# def solution(s):\n",
    "#     l = len(s)\n",
    "#     e = l-1\n",
    "#     output_starts_from = 0\n",
    "\n",
    "#     while e>output_starts_from:\n",
    "#         # create a check_palindrome() function separately and call it here\n",
    "#         if check_palindrome(output_starts_from, e)==True:\n",
    "#             output_starts_from = e+1\n",
    "#             e = l-1\n",
    "#         else:\n",
    "#             e-=1\n",
    "#     return s[output_starts_from:]\n",
    "# def checkPalindrome(prefix):\n",
    "#   prefArr = [c.lower() for c in prefix if c.isalnum()]\n",
    "#   return prefArr == prefArr[::-1]\n",
    "# s=\"codesignal\"\n",
    "# s=\"aaacodedoc\"\n",
    "# s=\"a\"\n",
    "# s=\"abbab\"\n",
    "s=\"bbabbaabaabbbbb\"\n",
    "solution(s)"
   ]
  },
  {
   "cell_type": "code",
   "execution_count": 144,
   "id": "47675740",
   "metadata": {},
   "outputs": [
    {
     "data": {
      "text/plain": [
       "'co'"
      ]
     },
     "execution_count": 144,
     "metadata": {},
     "output_type": "execute_result"
    }
   ],
   "source": [
    "s[:2]"
   ]
  },
  {
   "cell_type": "code",
   "execution_count": 268,
   "id": "cd9093aa",
   "metadata": {},
   "outputs": [
    {
     "name": "stdout",
     "output_type": "stream",
     "text": [
      "[1, 2, 2]\n"
     ]
    }
   ],
   "source": [
    "s=[1,2,2]\n",
    "print(s[:3])"
   ]
  },
  {
   "cell_type": "code",
   "execution_count": 257,
   "id": "c5465a43",
   "metadata": {},
   "outputs": [
    {
     "name": "stdout",
     "output_type": "stream",
     "text": [
      "end and sart is  10 0\n",
      "end and sart is  10 0\n",
      "end and sart is  10 0\n",
      "end and sart is  10 0\n",
      "end and sart is  10 0\n",
      "end and sart is  10 0\n",
      "end and sart is  10 0\n",
      "end and sart is  10 0\n",
      "end and sart is  10 0\n"
     ]
    },
    {
     "data": {
      "text/plain": [
       "'codesignal'"
      ]
     },
     "execution_count": 257,
     "metadata": {},
     "output_type": "execute_result"
    }
   ],
   "source": [
    "def solution(s):\n",
    "    def prefixPalindromeHelper(s, start, end):\n",
    "        if start == end:\n",
    "            return ''\n",
    "        # start from end to find the longest palindromic prefix\n",
    "        for e in range(end, start + 1, -1):\n",
    "            print(\"end and sart is \",end,start)\n",
    "            if s[start:e] == s[start:e][::-1]:\n",
    "                print(start,e,s[start:e])\n",
    "                return prefixPalindromeHelper(s, e, end)\n",
    "        return s[start:]\n",
    "    return prefixPalindromeHelper(s, 0, len(s))\n",
    "s=\"codesignal\"\n",
    "# s=\"aaacodedoc\"\n",
    "# s=\"a\"\n",
    "# s=\"abbab\"\n",
    "# s=\"bbabbaabaabbbbb\"\n",
    "solution(s)"
   ]
  },
  {
   "cell_type": "code",
   "execution_count": null,
   "id": "e12deff1",
   "metadata": {},
   "outputs": [],
   "source": []
  },
  {
   "cell_type": "markdown",
   "id": "e4290ad9",
   "metadata": {},
   "source": [
    "You are given an array of integers a, where each element a[i] represents the length of a ribbon.\n",
    "\n",
    "Your goal is to obtain k ribbons of the same length, by cutting the ribbons into as many pieces as you want.\n",
    "\n",
    "Your task is to calculate the maximum integer length L for which it is possible to obtain at least k ribbons of length L by cutting the given ones.\n",
    "\n",
    "Example\n",
    "\n",
    "For a = [5, 2, 7, 4, 9] and k = 5, the output should be solution(a, k) = 4.\n",
    "\n",
    "example\n",
    "\n",
    "Here's a way to achieve 5 ribbons of length 4:\n",
    "\n",
    "Cut the ribbon of length 5 into one ribbon of length 1 (which can be discarded) and one ribbon of length 4.\n",
    "Cut the ribbon of length 7 into one ribbon of length 3 (which can be discarded) and one ribbon of length 4.\n",
    "Use the existing ribbon of length 4 (no need to cut it)\n",
    "Cut the ribbon of length 9 into two ribbons of length 4 (and one of length 1 which can be discarded)\n",
    "Discard the ribbon of length 2.\n",
    "And since it wouldn't be possible to make 5 ribbons of any greater length, the answer is 4.\n",
    "\n",
    "For a = [1, 2, 3, 4, 9] and k = 6, the output should be solution(a, k) = 2.\n",
    "\n",
    "Here's one way we could make 6 ribbons of length 2:\n",
    "\n",
    "Cut the ribbon of length 9 into four ribbons of length 2 and one ribbon of length 1 (which won't be used).\n",
    "Cut the ribbon of length 4 into two ribbons of length 2.\n",
    "Ignore all other ribbons (1, 2, and 3). Even though ribbons with lengths 2 and 3 can also be used to obtain the ribbon of length 2, we don't need more than 6 ribbons of that length.\n",
    "It would technically be possible to make 6 ribbons of a length as great as 2.25, but since only integer values are allowed, the answer is 2."
   ]
  },
  {
   "cell_type": "code",
   "execution_count": 243,
   "id": "e76ea5df",
   "metadata": {},
   "outputs": [
    {
     "data": {
      "text/plain": [
       "False"
      ]
     },
     "execution_count": 243,
     "metadata": {},
     "output_type": "execute_result"
    }
   ],
   "source": [
    "1//2!=0"
   ]
  },
  {
   "cell_type": "code",
   "execution_count": 251,
   "id": "44a70eee",
   "metadata": {},
   "outputs": [
    {
     "name": "stdout",
     "output_type": "stream",
     "text": [
      "l is  1 length is  1\n",
      "l is  2 length is  2\n",
      "l is  3 length is  3\n",
      "l is  4 length is  4\n",
      "l is  5 length is  4\n",
      "l is  6 length is  4\n",
      "l is  7 length is  4\n",
      "l is  8 length is  4\n"
     ]
    },
    {
     "data": {
      "text/plain": [
       "4"
      ]
     },
     "execution_count": 251,
     "metadata": {},
     "output_type": "execute_result"
    }
   ],
   "source": [
    "def solution(wood, k):\n",
    "    m=max(wood)\n",
    "    length=0\n",
    "    l=1\n",
    "    n=0\n",
    "    while l <m:\n",
    "        n=0\n",
    "        for i in wood:\n",
    "#             print(i)\n",
    "            j=int(i)//l\n",
    "            if j!=0:\n",
    "                n=n+i//l\n",
    "        if n>=k and l>length:\n",
    "            length=l\n",
    "        print(\"l is \",l,\"length is \", length)\n",
    "        l=l+1\n",
    "    return length\n",
    "        \n",
    "a = [1, 2, 3, 4, 9]       \n",
    "k = 6   \n",
    "a = [5, 2, 7, 4, 9]\n",
    "k = 5\n",
    "solution(a, k)        \n",
    "        \n",
    "        "
   ]
  },
  {
   "cell_type": "code",
   "execution_count": 269,
   "id": "5dc6acb6",
   "metadata": {},
   "outputs": [],
   "source": [
    "\n",
    "def is_valid_cut(wood, cur_len, k):\n",
    "    pieces = 0\n",
    "    for w in wood:\n",
    "        pieces += w // cur_len\n",
    "    return True if pieces >= k else False\n",
    "\n",
    "\n",
    "def solution(wood, k):\n",
    "    max_len = max(wood)\n",
    "    left, right = 1, max_len\n",
    "    while left + 1 < right:\n",
    "        mid = (left + right) // 2\n",
    "        if is_valid_cut(wood, mid, k):\n",
    "            left = mid\n",
    "        else:\n",
    "            right = mid - 1\n",
    "    if is_valid_cut(wood, right, k):\n",
    "        return right\n",
    "    elif is_valid_cut(wood, left, k):\n",
    "        return left\n",
    "    else:\n",
    "        return 0"
   ]
  },
  {
   "cell_type": "code",
   "execution_count": null,
   "id": "962f47da",
   "metadata": {},
   "outputs": [],
   "source": []
  },
  {
   "cell_type": "code",
   "execution_count": 12,
   "id": "e3ebca5b",
   "metadata": {},
   "outputs": [
    {
     "name": "stdout",
     "output_type": "stream",
     "text": [
      "0 0 1\n",
      "['', '']\n",
      "['', '']\n",
      "1 0 1\n",
      "['a', 'a']\n",
      "['a', 'a']\n",
      "yes\n"
     ]
    },
    {
     "data": {
      "text/plain": [
       "'a'"
      ]
     },
     "execution_count": 12,
     "metadata": {},
     "output_type": "execute_result"
    }
   ],
   "source": [
    "from itertools import repeat\n",
    "def longestCommonPrefix(strs):\n",
    "    i=0\n",
    "    l=0\n",
    "    match=False\n",
    "    while i<len(min(strs))+1:\n",
    "        print(i,l,len(min(strs)))\n",
    "        new_list=[]\n",
    "        repeated=[]\n",
    "        for s in strs:\n",
    "            new_list.append(s[:i])\n",
    "        for ii in range(len(new_list)):\n",
    "            repeated.append(new_list[0])\n",
    "        print(repeated)\n",
    "        print(new_list)\n",
    "        if repeated == new_list and new_list[0]!=\"\" and i>=l:\n",
    "            print(\"yes\")\n",
    "            l=i\n",
    "            match=True\n",
    "        i=i+1\n",
    "    if len(strs)!=1:\n",
    "        if l!=0:\n",
    "            return strs[0][:l]\n",
    "        elif l==0 and match==True:\n",
    "            return strs[0][0]\n",
    "        else:return \"\"\n",
    "    else:\n",
    "        return strs[0]\n",
    "strs = [\"flower\",\"flow\",\"flight\"]\n",
    "# strs =[\"dog\",\"racecar\",\"car\"]\n",
    "strs =[\"aa\",\"a\"]\n",
    "longestCommonPrefix(strs)"
   ]
  },
  {
   "cell_type": "code",
   "execution_count": 13,
   "id": "a4d2f3f9",
   "metadata": {},
   "outputs": [
    {
     "ename": "NameError",
     "evalue": "name 'List' is not defined",
     "output_type": "error",
     "traceback": [
      "\u001b[1;31m---------------------------------------------------------------------------\u001b[0m",
      "\u001b[1;31mNameError\u001b[0m                                 Traceback (most recent call last)",
      "\u001b[1;32m~\\AppData\\Local\\Temp\\ipykernel_62736\\2498876333.py\u001b[0m in \u001b[0;36m<module>\u001b[1;34m\u001b[0m\n\u001b[1;32m----> 1\u001b[1;33m \u001b[1;32mclass\u001b[0m \u001b[0mSolution\u001b[0m\u001b[1;33m:\u001b[0m\u001b[1;33m\u001b[0m\u001b[1;33m\u001b[0m\u001b[0m\n\u001b[0m\u001b[0;32m      2\u001b[0m     \u001b[1;32mdef\u001b[0m \u001b[0mlongestCommonPrefix\u001b[0m\u001b[1;33m(\u001b[0m\u001b[0mself\u001b[0m\u001b[1;33m,\u001b[0m \u001b[0mv\u001b[0m\u001b[1;33m:\u001b[0m \u001b[0mList\u001b[0m\u001b[1;33m[\u001b[0m\u001b[0mstr\u001b[0m\u001b[1;33m]\u001b[0m\u001b[1;33m)\u001b[0m \u001b[1;33m->\u001b[0m \u001b[0mstr\u001b[0m\u001b[1;33m:\u001b[0m\u001b[1;33m\u001b[0m\u001b[1;33m\u001b[0m\u001b[0m\n\u001b[0;32m      3\u001b[0m         \u001b[0mans\u001b[0m\u001b[1;33m=\u001b[0m\u001b[1;34m\"\"\u001b[0m\u001b[1;33m\u001b[0m\u001b[1;33m\u001b[0m\u001b[0m\n\u001b[0;32m      4\u001b[0m         \u001b[0mv\u001b[0m\u001b[1;33m=\u001b[0m\u001b[0msorted\u001b[0m\u001b[1;33m(\u001b[0m\u001b[0mv\u001b[0m\u001b[1;33m)\u001b[0m\u001b[1;33m\u001b[0m\u001b[1;33m\u001b[0m\u001b[0m\n\u001b[0;32m      5\u001b[0m         \u001b[0mfirst\u001b[0m\u001b[1;33m=\u001b[0m\u001b[0mv\u001b[0m\u001b[1;33m[\u001b[0m\u001b[1;36m0\u001b[0m\u001b[1;33m]\u001b[0m\u001b[1;33m\u001b[0m\u001b[1;33m\u001b[0m\u001b[0m\n",
      "\u001b[1;32m~\\AppData\\Local\\Temp\\ipykernel_62736\\2498876333.py\u001b[0m in \u001b[0;36mSolution\u001b[1;34m()\u001b[0m\n\u001b[0;32m      1\u001b[0m \u001b[1;32mclass\u001b[0m \u001b[0mSolution\u001b[0m\u001b[1;33m:\u001b[0m\u001b[1;33m\u001b[0m\u001b[1;33m\u001b[0m\u001b[0m\n\u001b[1;32m----> 2\u001b[1;33m     \u001b[1;32mdef\u001b[0m \u001b[0mlongestCommonPrefix\u001b[0m\u001b[1;33m(\u001b[0m\u001b[0mself\u001b[0m\u001b[1;33m,\u001b[0m \u001b[0mv\u001b[0m\u001b[1;33m:\u001b[0m \u001b[0mList\u001b[0m\u001b[1;33m[\u001b[0m\u001b[0mstr\u001b[0m\u001b[1;33m]\u001b[0m\u001b[1;33m)\u001b[0m \u001b[1;33m->\u001b[0m \u001b[0mstr\u001b[0m\u001b[1;33m:\u001b[0m\u001b[1;33m\u001b[0m\u001b[1;33m\u001b[0m\u001b[0m\n\u001b[0m\u001b[0;32m      3\u001b[0m         \u001b[0mans\u001b[0m\u001b[1;33m=\u001b[0m\u001b[1;34m\"\"\u001b[0m\u001b[1;33m\u001b[0m\u001b[1;33m\u001b[0m\u001b[0m\n\u001b[0;32m      4\u001b[0m         \u001b[0mv\u001b[0m\u001b[1;33m=\u001b[0m\u001b[0msorted\u001b[0m\u001b[1;33m(\u001b[0m\u001b[0mv\u001b[0m\u001b[1;33m)\u001b[0m\u001b[1;33m\u001b[0m\u001b[1;33m\u001b[0m\u001b[0m\n\u001b[0;32m      5\u001b[0m         \u001b[0mfirst\u001b[0m\u001b[1;33m=\u001b[0m\u001b[0mv\u001b[0m\u001b[1;33m[\u001b[0m\u001b[1;36m0\u001b[0m\u001b[1;33m]\u001b[0m\u001b[1;33m\u001b[0m\u001b[1;33m\u001b[0m\u001b[0m\n",
      "\u001b[1;31mNameError\u001b[0m: name 'List' is not defined"
     ]
    }
   ],
   "source": [
    "class Solution:\n",
    "    def longestCommonPrefix(self, v: List[str]) -> str:\n",
    "        ans=\"\"\n",
    "        v=sorted(v)\n",
    "        first=v[0]\n",
    "        last=v[-1]\n",
    "        for i in range(min(len(first),len(last))):\n",
    "            if(first[i]!=last[i]):\n",
    "                return ans\n",
    "            ans+=first[i]\n",
    "        return ans "
   ]
  },
  {
   "cell_type": "markdown",
   "id": "da2cd0d6",
   "metadata": {},
   "source": [
    "You are given an array of non-negative integers numbers. You are allowed to choose any number from this array and swap any two digits in it. If after the swap operation the number contains leading zeros, they can be omitted and not considered (eg: 010 will be considered just 10).\n",
    "\n",
    "Your task is to check whether it is possible to apply the swap operation at most once, so that the elements of the resulting array are strictly increasing.\n",
    "\n",
    "Example\n",
    "\n",
    "For numbers = [1, 5, 10, 20], the output should be solution(numbers) = true.\n",
    "\n",
    "The initial array is already strictly increasing, so no actions are required.\n",
    "\n",
    "For numbers = [1, 3, 900, 10], the output should be solution(numbers) = true.\n",
    "\n",
    "By choosing numbers[2] = 900 and swapping its first and third digits, the resulting number 009 is considered to be just 9. So the updated array will look like [1, 3, 9, 10], which is strictly increasing.\n",
    "\n",
    "For numbers = [13, 31, 30], the output should be solution(numbers) = false.\n",
    "\n",
    "The initial array elements are not increasing.\n",
    "By swapping the digits of numbers[0] = 13, the array becomes [31, 31, 30] which is not strictly increasing;\n",
    "By swapping the digits of numbers[1] = 31, the array becomes [13, 13, 30] which is not strictly increasing;\n",
    "By swapping the digits of numbers[2] = 30, the array becomes [13, 31, 3] which is not strictly increasing;\n",
    "So, it's not possible to obtain a strictly increasing array, and the answer is false."
   ]
  },
  {
   "cell_type": "code",
   "execution_count": 14,
   "id": "7a63af1e",
   "metadata": {},
   "outputs": [],
   "source": [
    "# def solution(numbers):\n",
    "#     inc=0\n",
    "#     i=0\n",
    "#     pre_value=0\n",
    "#     for ii in range(len(numbers)):\n",
    "        \n",
    "#         if numbers[ii]>pre_value:\n",
    "#             i+=1\n",
    "#             pre_value=numbers[ii]\n",
    "#         elif numbers[ii]<=pre_value:\n",
    "#             swap=str(numbers[ii])[::-1]\n",
    "                \n",
    "            \n",
    "            \n",
    "#     if i==len(numbers)-1:\n",
    "#         return True\n",
    "#     else:\n",
    "#         return False\n",
    "def flip(i):\n",
    "    flipper = int(''.join(str(i)[::-1]))\n",
    "    if i == flipper:\n",
    "        ans = False\n",
    "    else:\n",
    "        ans = True\n",
    "    return (flipper, ans)\n",
    "\n",
    "def is_asacending(lstt):\n",
    "    res = all(i<j for i,j in zip(lstt, lstt[1:]))\n",
    "    return res\n",
    "\n",
    "def solution(lstt):\n",
    "    if is_asacending(lstt)==True:\n",
    "        return True\n",
    "    else:\n",
    "        NewList = []\n",
    "        ans = []\n",
    "        for i in lstt:\n",
    "            CopyList = lstt.copy()\n",
    "            y = lstt.index(i)\n",
    "            CopyList[y] = flip(i)[0]\n",
    "            NewList.append(CopyList)\n",
    "            if is_asacending(CopyList):\n",
    "                ans.append(True)\n",
    "            else:\n",
    "                ans.append(False)\n",
    "        if True in ans:\n",
    "            return True\n",
    "        else:\n",
    "            return False\n",
    "\n"
   ]
  },
  {
   "cell_type": "code",
   "execution_count": null,
   "id": "13356296",
   "metadata": {},
   "outputs": [],
   "source": []
  },
  {
   "cell_type": "code",
   "execution_count": null,
   "id": "dadb3401",
   "metadata": {},
   "outputs": [],
   "source": []
  },
  {
   "cell_type": "markdown",
   "id": "80d53620",
   "metadata": {},
   "source": [
    "Given an array of positive integers a, your task is to calculate the sum of every possible a[i] ∘ a[j], where a[i] ∘ a[j] is the concatenation of the string representations of a[i] and a[j] respectively.\n",
    "\n",
    "Example\n",
    "\n",
    "For a = [10, 2], the output should be solution(a) = 1344.\n",
    "\n",
    "a[0] ∘ a[0] = 10 ∘ 10 = 1010,\n",
    "a[0] ∘ a[1] = 10 ∘ 2 = 102,\n",
    "a[1] ∘ a[0] = 2 ∘ 10 = 210,\n",
    "a[1] ∘ a[1] = 2 ∘ 2 = 22.\n",
    "So the sum is equal to 1010 + 102 + 210 + 22 = 1344.\n",
    "\n",
    "For a = [8], the output should be solution(a) = 88.\n",
    "\n",
    "There is only one number in a, and a[0] ∘ a[0] = 8 ∘ 8 = 88, so the answer is 88.\n",
    "\n",
    "For a = [1, 2, 3], the output should be solution(a) = 198.\n",
    "\n",
    "a[0] ∘ a[0] = 1 ∘ 1 = 11,\n",
    "a[0] ∘ a[1] = 1 ∘ 2 = 12,\n",
    "a[0] ∘ a[2] = 1 ∘ 3 = 13,\n",
    "a[1] ∘ a[0] = 2 ∘ 1 = 21,\n",
    "a[1] ∘ a[1] = 2 ∘ 2 = 22,\n",
    "a[1] ∘ a[2] = 2 ∘ 3 = 23,\n",
    "a[2] ∘ a[0] = 3 ∘ 1 = 31,\n",
    "a[2] ∘ a[1] = 3 ∘ 2 = 32,\n",
    "a[2] ∘ a[2] = 3 ∘ 3 = 33.\n",
    "The total result is 11 + 12 + 13 + 21 + 22 + 23 + 31 + 32 + 33 = 198."
   ]
  },
  {
   "cell_type": "code",
   "execution_count": 15,
   "id": "9d7bed85",
   "metadata": {},
   "outputs": [],
   "source": [
    "def solution(a):\n",
    "    sum=0\n",
    "    for i in a:\n",
    "        for j in a:\n",
    "            s1=int(str(i)+str(j))\n",
    "            # s2=int(str(j)+str(i))\n",
    "            sum=s1+sum\n",
    "    return sum\n",
    "            "
   ]
  },
  {
   "cell_type": "code",
   "execution_count": 20,
   "id": "f7c060a8",
   "metadata": {},
   "outputs": [
    {
     "data": {
      "text/plain": [
       "88"
      ]
     },
     "execution_count": 20,
     "metadata": {},
     "output_type": "execute_result"
    }
   ],
   "source": [
    "a = [8]\n",
    "def solution(a):\n",
    "    sumOfThePowers = sum([10**len(str(el)) for el in a])\n",
    "    return sum(a) * len(a) + sum([el * sumOfThePowers for el in a])\n",
    "solution(a)"
   ]
  },
  {
   "cell_type": "code",
   "execution_count": 18,
   "id": "7ec7b268",
   "metadata": {},
   "outputs": [
    {
     "data": {
      "text/plain": [
       "10"
      ]
     },
     "execution_count": 18,
     "metadata": {},
     "output_type": "execute_result"
    }
   ],
   "source": [
    "10**len(\"2\")"
   ]
  },
  {
   "cell_type": "code",
   "execution_count": 31,
   "id": "cde0515d",
   "metadata": {},
   "outputs": [
    {
     "data": {
      "text/plain": [
       "True"
      ]
     },
     "execution_count": 31,
     "metadata": {},
     "output_type": "execute_result"
    }
   ],
   "source": [
    "s=\"1\"\n",
    "s.isnumeric()"
   ]
  },
  {
   "cell_type": "code",
   "execution_count": 29,
   "id": "90123746",
   "metadata": {},
   "outputs": [
    {
     "data": {
      "text/plain": [
       "'lol'"
      ]
     },
     "execution_count": 29,
     "metadata": {},
     "output_type": "execute_result"
    }
   ],
   "source": [
    "s[0:1]+s[2:]"
   ]
  },
  {
   "cell_type": "code",
   "execution_count": 30,
   "id": "3d2254d1",
   "metadata": {},
   "outputs": [
    {
     "name": "stdout",
     "output_type": "stream",
     "text": [
      "l\n",
      "1\n",
      "o\n",
      "l\n"
     ]
    }
   ],
   "source": [
    "for i in s:print(i)"
   ]
  },
  {
   "cell_type": "markdown",
   "id": "ae7742d5",
   "metadata": {},
   "source": [
    "Given two strings s and t, both consisting of lowercase English letters and digits, your task is to calculate how many ways exactly one digit could be removed from one of the strings so that s is lexicographically smaller than t after the removal. Note that we are removing only a single instance of a single digit, rather than all instances (eg: removing 1 from the string a11b1c could result in a1b1c or a11bc, but not abc).\n",
    "\n",
    "Also note that digits are considered lexicographically smaller than letters.\n",
    "\n",
    "Example\n",
    "\n",
    "For s = \"ab12c\" and t = \"1zz456\", the output should be solution(s, t) = 1.\n",
    "\n",
    "Here are all the possible removals:\n",
    "\n",
    "We can remove the first digit from s, obtaining \"ab2c\". \"ab2c\" > \"1zz456\", so we don't count this removal\n",
    "We can remove the second digit from s, obtaining \"ab1c\". \"ab1c\" > \"1zz456\", so we don't count this removal\n",
    "We can remove the first digit from t, obtaining \"zz456\". \"ab12c\" < \"zz456\", so we count this removal\n",
    "We can remove the second digit from t, obtaining \"1zz56\". \"ab12c\" > \"1zz56\", so we don't count this removal\n",
    "We can remove the third digit from t, obtaining \"1zz46\". \"ab12c\" > \"1zz46\", so we don't count this removal\n",
    "We can remove the fourth digit from t, obtaining \"1zz45\". \"ab12c\" > \"1zz45\", so we don't count this removal\n",
    "The only valid case where s < t after removing a digit is \"ab12c\" < \"zz456\". Therefore, the answer is 1.\n",
    "\n",
    "For s = \"ab12c\" and t = \"ab24z\", the output should be solution(s, t) = 3.\n",
    "\n",
    "There are 4 possible ways of removing the digit:\n",
    "\n",
    "\"ab1c\" < \"ab24z\"\n",
    "\"ab2c\" > \"ab24z\"\n",
    "\"ab12c\" < \"ab4z\"\n",
    "\"ab12c\" < \"ab2z\"\n",
    "Three of these cases match the requirement that s < t, so the answer is 3."
   ]
  },
  {
   "cell_type": "code",
   "execution_count": 44,
   "id": "22746f64",
   "metadata": {},
   "outputs": [
    {
     "name": "stdout",
     "output_type": "stream",
     "text": [
      "2\n",
      "3\n",
      "ab1c ab24z\n",
      "2\n",
      "ab12c ab4z\n",
      "3\n",
      "ab12c ab2z\n"
     ]
    },
    {
     "data": {
      "text/plain": [
       "3"
      ]
     },
     "execution_count": 44,
     "metadata": {},
     "output_type": "execute_result"
    }
   ],
   "source": [
    "def solution(s, t):\n",
    "    count=0\n",
    "    ss=\"\"\n",
    "    tt=\"\"\n",
    "    for i in range(len(s)):\n",
    "\n",
    "        if s[i].isnumeric():\n",
    "            print(i)\n",
    "            ss=s[0:i]+s[i+1:]\n",
    "            if ss<t:\n",
    "                print(ss,t)\n",
    "                count=count+1\n",
    "    for i in range(len(t)):\n",
    "        ii=str(i)\n",
    "        if t[i].isnumeric():\n",
    "            print(i)\n",
    "            tt=t[0:i]+t[i+1:]\n",
    "            if s<tt:\n",
    "                print(s,tt)\n",
    "                count=count+1\n",
    "    return count\n",
    "s=\"ab12c\"\n",
    "t=\"ab24z\"\n",
    "solution(s, t)"
   ]
  },
  {
   "cell_type": "markdown",
   "id": "eb9042db",
   "metadata": {},
   "source": [
    "A sawtooth sequence is a sequence of numbers that alternate between increasing and decreasing. In other words, each element is either strictly greater than its neighbouring elements or strictly less than its neighbouring elements.\n",
    "\n",
    "examples\n",
    "\n",
    "Given an array of integers arr, your task is to count the number of contiguous subarrays that represent a sawtooth sequence of at least two elements.\n",
    "\n",
    "Example\n",
    "\n",
    "For arr = [9, 8, 7, 6, 5], the output should be solution(arr) = 4.\n",
    "\n",
    "Since all the elements are arranged in decreasing order, it won't be possible to form any sawtooth subarrays of length 3 or more. There are 4 possible subarrays containing two elements, so the answer is 4.\n",
    "\n",
    "For arr = [10, 10, 10], the output should be solution(arr) = 0.\n",
    "\n",
    "Since all of the elements are equal, none of subarrays can be sawtooth, so the answer is 0.\n",
    "\n",
    "For arr = [1, 2, 1, 2, 1], the output should be solution(arr) = 10.\n",
    "\n",
    "All contiguous subarrays containing at least two elements satisfy the condition of problem. There are 10 possible contiguous subarrays containing at least two elements, so the answer is 10."
   ]
  },
  {
   "cell_type": "code",
   "execution_count": 53,
   "id": "238e56c8",
   "metadata": {},
   "outputs": [
    {
     "name": "stdout",
     "output_type": "stream",
     "text": [
      "1 2\n"
     ]
    },
    {
     "data": {
      "text/plain": [
       "1"
      ]
     },
     "execution_count": 53,
     "metadata": {},
     "output_type": "execute_result"
    }
   ],
   "source": [
    "def sawtooth(s,count):\n",
    "    if len(s)==2:\n",
    "        print(s[0],s[1])\n",
    "        if s[0]!=s[1]:\n",
    "            count=count+1\n",
    "    if len(s)>2:\n",
    "        for i in range(len(s)-2):\n",
    "            if (s[i]>s[i+1] and s[i+1]<s[i+2]) or (s[i]<s[i+1] and s[i+1]>s[i+2]):\n",
    "                count=count+1\n",
    "    return count\n",
    "s=[1,2]\n",
    "count=0\n",
    "sawtooth(s,count)\n"
   ]
  },
  {
   "cell_type": "code",
   "execution_count": 70,
   "id": "566bc3e0",
   "metadata": {},
   "outputs": [
    {
     "name": "stdout",
     "output_type": "stream",
     "text": [
      "[1, 2] i and j is  0 1\n",
      "1 2\n",
      "count is  1\n",
      "[1, 2, 1] i and j is  0 2\n",
      "1 2 1\n",
      "count is  2\n",
      "[1, 2, 1, 2] i and j is  0 3\n",
      "1 2 1\n",
      "2 1 2\n",
      "count is  3\n",
      "[1, 2, 1, 2, 1] i and j is  0 4\n",
      "1 2 1\n",
      "2 1 2\n",
      "1 2 1\n",
      "count is  4\n",
      "[2, 1] i and j is  1 2\n",
      "2 1\n",
      "count is  5\n",
      "[2, 1, 2] i and j is  1 3\n",
      "2 1 2\n",
      "count is  6\n",
      "[2, 1, 2, 1] i and j is  1 4\n",
      "2 1 2\n",
      "1 2 1\n",
      "count is  7\n",
      "[1, 2] i and j is  2 3\n",
      "1 2\n",
      "count is  8\n",
      "[1, 2, 1] i and j is  2 4\n",
      "1 2 1\n",
      "count is  9\n",
      "[2, 1] i and j is  3 4\n",
      "2 1\n",
      "count is  10\n",
      "[[0, 1], [0, 2], [0, 3], [0, 4], [1, 2], [1, 3], [1, 4], [2, 3], [2, 4], [3, 4]] 10\n"
     ]
    },
    {
     "data": {
      "text/plain": [
       "10"
      ]
     },
     "execution_count": 70,
     "metadata": {},
     "output_type": "execute_result"
    }
   ],
   "source": [
    "def sawtooth(s):\n",
    "    count=0\n",
    "    l=0\n",
    "    if len(s)==2:\n",
    "        if s[0]!=s[1]:\n",
    "            print(s[0],s[1])\n",
    "            count=count+1\n",
    "    if len(s)>2:\n",
    "        for i in range(len(s)-2):\n",
    "            if (s[i]>s[i+1] and s[i+1]<s[i+2]) or (s[i]<s[i+1] and s[i+1]>s[i+2]):\n",
    "                print(s[i],s[i+1],s[i+2])\n",
    "                l=l+1\n",
    "        if len(s)==l+2:\n",
    "            count=count+1\n",
    "    return count\n",
    "    \n",
    "def solution(arr):\n",
    "    list=[]\n",
    "    count=0\n",
    "    jj=0\n",
    "    for i in range(len(arr)):\n",
    "        j=i+1\n",
    "        while j<len(arr):\n",
    "            if [i,j] not in list:\n",
    "                jj+=1\n",
    "                list.append([i,j])\n",
    "                s=arr[i:j+1]\n",
    "#                 print(s,\"i and j is \",i,j)\n",
    "                count=count+sawtooth(s)\n",
    "            j=j+1\n",
    "#             print(\"count is \", count)\n",
    "#     print(list,jj)\n",
    "    return count\n",
    "arr=[9, 8, 7, 6, 5]\n",
    "arr=[1, 2, 1, 2, 1]\n",
    "solution(arr)"
   ]
  },
  {
   "cell_type": "code",
   "execution_count": 1,
   "id": "383bf757",
   "metadata": {},
   "outputs": [],
   "source": [
    "def solution(arr):\n",
    "    if len(arr) < 2:\n",
    "        return 0\n",
    "\n",
    "    count = 0\n",
    "    streak = 0\n",
    "    prev_increasing = None\n",
    "\n",
    "    for i in range(1, len(arr)):\n",
    "        if arr[i] == arr[i-1]:\n",
    "            prev_increasing = None\n",
    "            streak = 0\n",
    "        else:\n",
    "            curr_increasing = arr[i] > arr[i-1]\n",
    "            if curr_increasing != prev_increasing:\n",
    "                # keep track of streak of flips between increasing and decreasing\n",
    "                streak += 1\n",
    "                prev_increasing = curr_increasing\n",
    "            else:\n",
    "                # when we break out of a streak, we reset the streak counter to 1\n",
    "                streak = 1\n",
    "\n",
    "            # number of sawtooth contiguous subarrays goes up by the current streak\n",
    "            count += streak\n",
    "\n",
    "    return count\n",
    "def samesign(a,b):\n",
    "    if a/abs(a) == b/abs(b):\n",
    "        return True\n",
    "    else:\n",
    "        return False\n",
    "\n",
    "def countSawSubarrays(arr):\n",
    "    n = len(arr)\n",
    "    \n",
    "    if n<2:\n",
    "        return 0\n",
    "\n",
    "    s = 0\n",
    "    e = 1\n",
    "    count = 0\n",
    "    \n",
    "    while(e<n):\n",
    "        sign = arr[e] - arr[s]\n",
    "        while(e<n and arr[e] != arr[e-1] and samesign(arr[e] - arr[e-1], sign)):\n",
    "            sign = -1*sign\n",
    "            e+=1\n",
    "        size = e-s\n",
    "        if (size==1):\n",
    "            e+=1\n",
    "        count += (size*(size-1))//2\n",
    "        s = e-1\n",
    "        e = s+1\n",
    "    return count"
   ]
  },
  {
   "cell_type": "markdown",
   "id": "20aff259",
   "metadata": {},
   "source": [
    "Given an array of integers a, your task is to calculate the digits that occur the most number of times in the array. Return the array of these digits in ascending order.\n",
    "\n",
    "Example\n",
    "\n",
    "For a = [25, 2, 3, 57, 38, 41], the output should be solution(a) = [2, 3, 5].\n",
    "\n",
    "Here are the number of times each digit appears in the array:\n",
    "\n",
    "0 -> 0\n",
    "1 -> 1\n",
    "2 -> 2\n",
    "3 -> 2\n",
    "4 -> 1\n",
    "5 -> 2\n",
    "6 -> 0\n",
    "7 -> 1\n",
    "8 -> 1\n",
    "The most number of times any number occurs in the array is 2, and the digits which appear 2 times are 2, 3 and 5. So the answer is [2, 3, 5]."
   ]
  },
  {
   "cell_type": "code",
   "execution_count": 17,
   "id": "06eaa832",
   "metadata": {},
   "outputs": [
    {
     "name": "stdout",
     "output_type": "stream",
     "text": [
      "25\n",
      "2\n",
      "5\n",
      "2\n",
      "2\n",
      "3\n",
      "3\n",
      "57\n",
      "5\n",
      "7\n",
      "38\n",
      "3\n",
      "8\n",
      "41\n",
      "4\n",
      "1\n",
      "{'2': 2, '5': 2, '3': 2, '7': 1, '8': 1, '4': 1, '1': 1}\n"
     ]
    },
    {
     "data": {
      "text/plain": [
       "['2', '5', '3']"
      ]
     },
     "execution_count": 17,
     "metadata": {},
     "output_type": "execute_result"
    }
   ],
   "source": [
    "def solution(a):\n",
    "    dict1=dict()\n",
    "    for i in a:\n",
    "    \n",
    "        for j in str(i):\n",
    "           \n",
    "            if j not in dict1.keys():\n",
    "                dict1[j]=1\n",
    "            elif j in dict1.keys():\n",
    "                dict1[j]=dict1[j]+1\n",
    "    ax_value = max(dict1.values())\n",
    "    \n",
    "    list1=[int(key) for  (key, value)  in dict1.items() if value==ax_value]\n",
    "    list1=sorted(list1)\n",
    "    return list1\n",
    "a = [25, 2, 3, 57, 38, 41]\n",
    "solution(a)"
   ]
  },
  {
   "cell_type": "code",
   "execution_count": 12,
   "id": "a2e5d084",
   "metadata": {},
   "outputs": [
    {
     "name": "stdout",
     "output_type": "stream",
     "text": [
      "[2]\n"
     ]
    }
   ],
   "source": [
    "dict1={1:2,2:3}\n",
    "ax_value = max(dict1.values())\n",
    "list1=[key for  (key, value)  in dict1.items() if value==ax_value]\n",
    "print(list1)"
   ]
  },
  {
   "cell_type": "markdown",
   "id": "e63b3990",
   "metadata": {},
   "source": [
    "You are given an array of integers a and an integer k. Your task is to calculate the number of ways to pick two different indices i < j, such that a[i] + a[j] is divisible by k.\n",
    "\n",
    "Example\n",
    "\n",
    "For a = [1, 2, 3, 4, 5] and k = 3, the output should be solution(a, k) = 4.\n",
    "\n",
    "There are 4 pairs of numbers that sum to a multiple of k = 3:\n",
    "\n",
    "a[0] + a[1] = 1 + 2 = 3\n",
    "a[0] + a[4] = 1 + 5 = 6\n",
    "a[1] + a[3] = 2 + 4 = 6\n",
    "a[3] + a[4] = 4 + 5 = 9"
   ]
  },
  {
   "cell_type": "code",
   "execution_count": 43,
   "id": "a8d67125",
   "metadata": {},
   "outputs": [
    {
     "data": {
      "text/plain": [
       "1"
      ]
     },
     "execution_count": 43,
     "metadata": {},
     "output_type": "execute_result"
    }
   ],
   "source": [
    "def solution(a, k):\n",
    "    count=0\n",
    "    for i in range(len(a)):\n",
    "        print(i)\n",
    "        for j in range(len(a)):\n",
    "            if (a[i]+a[j])%k==0 and i<j:\n",
    "                count+=1\n",
    "    return count\n",
    "def solution(a, k):\n",
    "    dict1=dict()\n",
    "    count=0\n",
    "    for i in range(len(a)):    \n",
    "        reminder=a[i]%k\n",
    "        complement=k-reminder\n",
    "        if complement not in dict1.keys() and complement!=0:\n",
    "            dict1[complement]=1\n",
    "        elif complement in dict1.keys() and complement!=0:\n",
    "            dict1[complement]=dict1[complement]+1\n",
    "        if reminder in dict1.keys() and reminder!=0 and dict1[reminder]>0:\n",
    "            \n",
    "            count=count+dict1[reminder]\n",
    "            dict1[reminder]=dict1[reminder]\n",
    "\n",
    "\n",
    "        print(\"ai is \",a[i],\" reminder is \", reminder, \" complement is \", complement,\" count is \",count, \" list is \",dict1)\n",
    "        \n",
    "    print(dict1)\n",
    "\n",
    "    return count\n",
    "\n",
    "def solution(a,k):\n",
    "    dict1=dict()\n",
    "    cnt=0\n",
    "    cntt=-1\n",
    "    for i in a:\n",
    "        if i%k!=0 and i**2%k!=0:\n",
    "            reminder=i%k\n",
    "            comp=k-reminder\n",
    "            if reminder in dict1.keys():\n",
    "                dict1[reminder]=dict1[reminder]+1\n",
    "            else:\n",
    "                dict1[reminder]=1\n",
    "            if comp in dict1.keys():\n",
    "                cnt=cnt+dict1[comp]\n",
    "        elif i==k or i**2%k==0:\n",
    "            cntt=cntt+1\n",
    "            cnt=cntt+cnt\n",
    "    return cnt\n",
    "# a = [1, 2, 3, 4, 5]\n",
    "# k = 3\n",
    "a = [2,2]\n",
    "k = 4\n",
    "solution(a, k)"
   ]
  },
  {
   "cell_type": "code",
   "execution_count": null,
   "id": "429649e0",
   "metadata": {},
   "outputs": [],
   "source": []
  },
  {
   "cell_type": "code",
   "execution_count": 41,
   "id": "712cd189",
   "metadata": {},
   "outputs": [
    {
     "data": {
      "text/plain": [
       "8"
      ]
     },
     "execution_count": 41,
     "metadata": {},
     "output_type": "execute_result"
    }
   ],
   "source": [
    "2**3"
   ]
  },
  {
   "cell_type": "code",
   "execution_count": 29,
   "id": "79a00277",
   "metadata": {},
   "outputs": [
    {
     "data": {
      "text/plain": [
       "2"
      ]
     },
     "execution_count": 29,
     "metadata": {},
     "output_type": "execute_result"
    }
   ],
   "source": [
    "2%3"
   ]
  },
  {
   "cell_type": "code",
   "execution_count": 30,
   "id": "5ecac688",
   "metadata": {},
   "outputs": [
    {
     "data": {
      "text/plain": [
       "1"
      ]
     },
     "execution_count": 30,
     "metadata": {},
     "output_type": "execute_result"
    }
   ],
   "source": [
    "4%3"
   ]
  },
  {
   "cell_type": "markdown",
   "id": "552dd73b",
   "metadata": {},
   "source": [
    "You are given a string s. Your task is to count the number of ways of splitting s into three non-empty parts a, b and c (s = a + b + c) in such a way that a + b, b + c and c + a are all different strings.\n",
    "\n",
    "NOTE: + refers to string concatenation.\n",
    "\n",
    "Example\n",
    "\n",
    "For s = \"xzxzx\", the output should be solution(s) = 5.\n",
    "\n",
    "Consider all the ways to split s into three non-empty parts:\n",
    "\n",
    "If a = \"x\", b = \"z\" and c = \"xzx\", then all a + b = \"xz\", b + c = \"zxzx\" and c + a = xzxx are different.\n",
    "If a = \"x\", b = \"zx\" and c = \"zx\", then all a + b = \"xzx\", b + c = \"zxzx\" and c + a = zxx are different.\n",
    "If a = \"x\", b = \"zxz\" and c = \"x\", then all a + b = \"xzxz\", b + c = \"zxzx\" and c + a = xx are different.\n",
    "If a = \"xz\", b = \"x\" and c = \"zx\", then a + b = b + c = \"xzx\". Hence, this split is not counted.\n",
    "If a = \"xz\", b = \"xz\" and c = \"x\", then all a + b = \"xzxz\", b + c = \"xzx\" and c + a = xxz are different.\n",
    "If a = \"xzx\", b = \"z\" and c = \"x\", then all a + b = \"xzxz\", b + c = \"zx\" and c + a = xxzx are different."
   ]
  },
  {
   "cell_type": "code",
   "execution_count": 1,
   "id": "14faeefb",
   "metadata": {},
   "outputs": [],
   "source": [
    "def solution(s):\n",
    "    cnt=0\n",
    "    for i in range(len(s)):\n",
    "        for j in range(i+1,len(s)-1):\n",
    "            print(i+1,j+1)\n",
    "            a=s[0:i+1]\n",
    "            print(a)\n",
    "            b=s[i+1:j+1]\n",
    "            print(b)\n",
    "            c=s[j+1::]\n",
    "            print(a,b,c)\n",
    "            if s==a+b+c and (a+b!=b+c and b+c!=c+a and a+b!=c+a):\n",
    "                cnt+=1\n",
    "    return cnt\n"
   ]
  },
  {
   "cell_type": "markdown",
   "id": "5b2a7a6e",
   "metadata": {},
   "source": [
    "Input: nums = [-1,0,1,2,-1,-4]\n",
    "Output: [[-1,-1,2],[-1,0,1]]\n",
    "Explanation: \n",
    "nums[0] + nums[1] + nums[2] = (-1) + 0 + 1 = 0.\n",
    "nums[1] + nums[2] + nums[4] = 0 + 1 + (-1) = 0.\n",
    "nums[0] + nums[3] + nums[4] = (-1) + 2 + (-1) = 0.\n",
    "The distinct triplets are [-1,0,1] and [-1,-1,2].\n",
    "Notice that the order of the output and the order of the triplets does not matter."
   ]
  },
  {
   "cell_type": "code",
   "execution_count": 52,
   "id": "266abc3b",
   "metadata": {},
   "outputs": [],
   "source": [
    "class Solution:\n",
    "    def threeSum(self, nums: List[int]) -> List[List[int]]:\n",
    "        cnt=0\n",
    "        list1=[]\n",
    "        for i in range(len(nums)):\n",
    "            for j in range(i+1,len(nums)):\n",
    "                for k in range(j+1,len(nums)):\n",
    "                    list2=[nums[i],nums[j],nums[k]]\n",
    "                    if sum(list2)==0 and sorted(list2) not in list1:\n",
    "                        list1.append(sorted(list2))\n",
    "        return list1\n",
    "class Solution:\n",
    "    def threeSum(self, nums: List[int]) -> List[List[int]]:\n",
    "        nums.sort()\n",
    "        triplets = set()\n",
    "        for i in range(len(nums) - 2):\n",
    "            firstNum = nums[i]\n",
    "            j = i + 1\n",
    "            k = len(nums) - 1\n",
    "            while j < k:\n",
    "                secondNum  = nums[j]\n",
    "                thirdNum = nums[k]\n",
    "\n",
    "                potentialSum = firstNum + secondNum + thirdNum \n",
    "                if potentialSum > 0:\n",
    "                    k -= 1\n",
    "                elif potentialSum < 0:\n",
    "                    j += 1\n",
    "                else:\n",
    "                    triplets.add((firstNum , secondNum ,thirdNum))\n",
    "                    j += 1\n",
    "                    k -= 1\n",
    "        return triplets\n",
    "from collections import defaultdict\n",
    "\n",
    "class Solution:\n",
    "    def threeSum(self, nums: List[int]) -> List[List[int]]:\n",
    "        negative = defaultdict(int)\n",
    "        positive = defaultdict(int)\n",
    "        zeros = 0\n",
    "        for num in nums:\n",
    "            if num < 0:\n",
    "                negative[num] += 1\n",
    "            elif num > 0:\n",
    "                positive[num] += 1\n",
    "            else:\n",
    "                zeros += 1\n",
    "        \n",
    "        result = []\n",
    "        if zeros:\n",
    "            for n in negative:\n",
    "                if -n in positive:\n",
    "                    result.append((0, n, -n))       \n",
    "            if zeros > 2:\n",
    "                result.append((0,0,0))\n",
    "\n",
    "        for set1, set2 in ((negative, positive), (positive, negative)):\n",
    "            set1Items = list(set1.items())\n",
    "            for i, (j, k) in enumerate(set1Items):\n",
    "                for j2, k2 in set1Items[i:]:\n",
    "                    if j != j2 or (j == j2 and k > 1):\n",
    "                        if -j-j2 in set2:\n",
    "                            result.append((j, j2, -j-j2))\n",
    "        return result\n",
    "class Solution:\n",
    "    def threeSum(self, nums: List[int]) -> List[List[int]]: \n",
    "        nums.sort() # sorting cause we need to avoid duplicates, with this duplicates will be near to each other\n",
    "        l=[]\n",
    "        for i in range(len(nums)):  #this loop will help to fix the one number i.e, i\n",
    "            if i>0 and nums[i-1]==nums[i]:  #skipping if we found the duplicate of i\n",
    "                continue \n",
    "\t\t\t\n",
    "\t\t\t#NOW FOLLOWING THE RULE OF TWO POINTERS AFTER FIXING THE ONE VALUE (i)\n",
    "            j=i+1 #taking j pointer larger than i (as said in ques)\n",
    "            k=len(nums)-1 #taking k pointer from last \n",
    "            while j<k: \n",
    "                s=nums[i]+nums[j]+nums[k] \n",
    "                if s>0: #if sum s is greater than 0(target) means the larger value(from right as nums is sorted i.e, k at right) \n",
    "\t\t\t\t#is taken and it is not able to sum up to the target\n",
    "                    k-=1  #so take value less than previous\n",
    "                elif s<0: #if sum s is less than 0(target) means the shorter value(from left as nums is sorted i.e, j at left) \n",
    "\t\t\t\t#is taken and it is not able to sum up to the target\n",
    "                    j+=1  #so take value greater than previous\n",
    "                else:\n",
    "                    l.append([nums[i],nums[j],nums[k]]) #if sum s found equal to the target (0)\n",
    "                    j+=1 \n",
    "                    while nums[j-1]==nums[j] and j<k: #skipping if we found the duplicate of j and we dont need to check \n",
    "\t\t\t\t\t#the duplicate of k cause it will automatically skip the duplicate by the adjustment of i and j\n",
    "                        j+=1   \n",
    "        return l"
   ]
  },
  {
   "cell_type": "code",
   "execution_count": 53,
   "id": "cdf5cc32",
   "metadata": {},
   "outputs": [],
   "source": [
    "nums= [-1,0,1,2,-1,-4]"
   ]
  },
  {
   "cell_type": "code",
   "execution_count": 54,
   "id": "f1734835",
   "metadata": {},
   "outputs": [
    {
     "ename": "TypeError",
     "evalue": "threeSum() missing 1 required positional argument: 'nums'",
     "output_type": "error",
     "traceback": [
      "\u001b[1;31m---------------------------------------------------------------------------\u001b[0m",
      "\u001b[1;31mTypeError\u001b[0m                                 Traceback (most recent call last)",
      "\u001b[1;32m~\\AppData\\Local\\Temp\\ipykernel_67796\\3244677331.py\u001b[0m in \u001b[0;36m<module>\u001b[1;34m\u001b[0m\n\u001b[1;32m----> 1\u001b[1;33m \u001b[0mSolution\u001b[0m\u001b[1;33m.\u001b[0m\u001b[0mthreeSum\u001b[0m\u001b[1;33m(\u001b[0m\u001b[0mnums\u001b[0m\u001b[1;33m)\u001b[0m\u001b[1;33m\u001b[0m\u001b[1;33m\u001b[0m\u001b[0m\n\u001b[0m",
      "\u001b[1;31mTypeError\u001b[0m: threeSum() missing 1 required positional argument: 'nums'"
     ]
    }
   ],
   "source": [
    "Solution.threeSum(nums)"
   ]
  },
  {
   "cell_type": "markdown",
   "id": "00fe480f",
   "metadata": {},
   "source": [
    "You have n computers. You are given the integer n and a 0-indexed integer array batteries where the ith battery can run a computer for batteries[i] minutes. You are interested in running all n computers simultaneously using the given batteries.\n",
    "\n",
    "Initially, you can insert at most one battery into each computer. After that and at any integer time moment, you can remove a battery from a computer and insert another battery any number of times. The inserted battery can be a totally new battery or a battery from another computer. You may assume that the removing and inserting processes take no time.\n",
    "\n",
    "Note that the batteries cannot be recharged.\n",
    "\n",
    "Return the maximum number of minutes you can run all the n computers simultaneously.\n",
    "Input: n = 2, batteries = [3,3,3]\n",
    "Output: 4\n",
    "Explanation: \n",
    "Initially, insert battery 0 into the first computer and battery 1 into the second computer.\n",
    "After two minutes, remove battery 1 from the second computer and insert battery 2 instead. Note that battery 1 can still run for one minute.\n",
    "At the end of the third minute, battery 0 is drained, and you need to remove it from the first computer and insert battery 1 instead.\n",
    "By the end of the fourth minute, battery 1 is also drained, and the first computer is no longer running.\n",
    "We can run the two computers simultaneously for at most 4 minutes, so we return 4.\n",
    "\n",
    " "
   ]
  },
  {
   "cell_type": "code",
   "execution_count": 55,
   "id": "3a8a741c",
   "metadata": {},
   "outputs": [
    {
     "ename": "NameError",
     "evalue": "name 'List' is not defined",
     "output_type": "error",
     "traceback": [
      "\u001b[1;31m---------------------------------------------------------------------------\u001b[0m",
      "\u001b[1;31mNameError\u001b[0m                                 Traceback (most recent call last)",
      "\u001b[1;32m~\\AppData\\Local\\Temp\\ipykernel_67796\\2737212878.py\u001b[0m in \u001b[0;36m<module>\u001b[1;34m\u001b[0m\n\u001b[1;32m----> 1\u001b[1;33m \u001b[1;32mclass\u001b[0m \u001b[0mSolution\u001b[0m\u001b[1;33m:\u001b[0m\u001b[1;33m\u001b[0m\u001b[1;33m\u001b[0m\u001b[0m\n\u001b[0m\u001b[0;32m      2\u001b[0m     \u001b[1;32mdef\u001b[0m \u001b[0mmaxRunTime\u001b[0m\u001b[1;33m(\u001b[0m\u001b[0mself\u001b[0m\u001b[1;33m,\u001b[0m \u001b[0mn\u001b[0m\u001b[1;33m:\u001b[0m \u001b[0mint\u001b[0m\u001b[1;33m,\u001b[0m \u001b[0mbatteries\u001b[0m\u001b[1;33m:\u001b[0m \u001b[0mList\u001b[0m\u001b[1;33m[\u001b[0m\u001b[0mint\u001b[0m\u001b[1;33m]\u001b[0m\u001b[1;33m)\u001b[0m \u001b[1;33m->\u001b[0m \u001b[0mint\u001b[0m\u001b[1;33m:\u001b[0m\u001b[1;33m\u001b[0m\u001b[1;33m\u001b[0m\u001b[0m\n\u001b[0;32m      3\u001b[0m         \u001b[0mm\u001b[0m\u001b[1;33m=\u001b[0m\u001b[0mlen\u001b[0m\u001b[1;33m(\u001b[0m\u001b[0mbatteries\u001b[0m\u001b[1;33m)\u001b[0m\u001b[1;33m\u001b[0m\u001b[1;33m\u001b[0m\u001b[0m\n\u001b[0;32m      4\u001b[0m         \u001b[1;32mif\u001b[0m \u001b[0mn\u001b[0m\u001b[1;33m==\u001b[0m\u001b[0mm\u001b[0m\u001b[1;33m:\u001b[0m\u001b[1;33m\u001b[0m\u001b[1;33m\u001b[0m\u001b[0m\n\u001b[0;32m      5\u001b[0m             \u001b[1;32mreturn\u001b[0m \u001b[0mmin\u001b[0m\u001b[1;33m(\u001b[0m\u001b[0mbatteries\u001b[0m\u001b[1;33m)\u001b[0m\u001b[1;33m\u001b[0m\u001b[1;33m\u001b[0m\u001b[0m\n",
      "\u001b[1;32m~\\AppData\\Local\\Temp\\ipykernel_67796\\2737212878.py\u001b[0m in \u001b[0;36mSolution\u001b[1;34m()\u001b[0m\n\u001b[0;32m      1\u001b[0m \u001b[1;32mclass\u001b[0m \u001b[0mSolution\u001b[0m\u001b[1;33m:\u001b[0m\u001b[1;33m\u001b[0m\u001b[1;33m\u001b[0m\u001b[0m\n\u001b[1;32m----> 2\u001b[1;33m     \u001b[1;32mdef\u001b[0m \u001b[0mmaxRunTime\u001b[0m\u001b[1;33m(\u001b[0m\u001b[0mself\u001b[0m\u001b[1;33m,\u001b[0m \u001b[0mn\u001b[0m\u001b[1;33m:\u001b[0m \u001b[0mint\u001b[0m\u001b[1;33m,\u001b[0m \u001b[0mbatteries\u001b[0m\u001b[1;33m:\u001b[0m \u001b[0mList\u001b[0m\u001b[1;33m[\u001b[0m\u001b[0mint\u001b[0m\u001b[1;33m]\u001b[0m\u001b[1;33m)\u001b[0m \u001b[1;33m->\u001b[0m \u001b[0mint\u001b[0m\u001b[1;33m:\u001b[0m\u001b[1;33m\u001b[0m\u001b[1;33m\u001b[0m\u001b[0m\n\u001b[0m\u001b[0;32m      3\u001b[0m         \u001b[0mm\u001b[0m\u001b[1;33m=\u001b[0m\u001b[0mlen\u001b[0m\u001b[1;33m(\u001b[0m\u001b[0mbatteries\u001b[0m\u001b[1;33m)\u001b[0m\u001b[1;33m\u001b[0m\u001b[1;33m\u001b[0m\u001b[0m\n\u001b[0;32m      4\u001b[0m         \u001b[1;32mif\u001b[0m \u001b[0mn\u001b[0m\u001b[1;33m==\u001b[0m\u001b[0mm\u001b[0m\u001b[1;33m:\u001b[0m\u001b[1;33m\u001b[0m\u001b[1;33m\u001b[0m\u001b[0m\n\u001b[0;32m      5\u001b[0m             \u001b[1;32mreturn\u001b[0m \u001b[0mmin\u001b[0m\u001b[1;33m(\u001b[0m\u001b[0mbatteries\u001b[0m\u001b[1;33m)\u001b[0m\u001b[1;33m\u001b[0m\u001b[1;33m\u001b[0m\u001b[0m\n",
      "\u001b[1;31mNameError\u001b[0m: name 'List' is not defined"
     ]
    }
   ],
   "source": [
    "class Solution:\n",
    "    def maxRunTime(self, n: int, batteries: List[int]) -> int:\n",
    "        m=len(batteries)\n",
    "        if n==m:\n",
    "            return min(batteries)\n",
    "        elif m<n:return0\n",
    "        else:\n",
    "            batteries.sort()\n",
    "            s=sum(batteries)\n",
    "            t=s//n\n",
    "            for i in range(1,n):\n",
    "                s-=batteries[-i]\n",
    "                t=min(t,s//(n-i))\n",
    "        return t\n",
    "class Solution:\n",
    "    def maxRunTime(self, n: int, batteries: List[int]) -> int:\n",
    "        batteries.sort()\n",
    "        total = sum(batteries)\n",
    "        while batteries[-1] > total//n:\n",
    "            n -= 1\n",
    "            total -= batteries.pop()\n",
    "        return total//n\n",
    "class Solution:\n",
    "    def maxRunTime(self, n: int, batteries: List[int]) -> int:\n",
    "        def check(t):\n",
    "            return sum(min(t, v) for v in batteries) >= n * t\n",
    "\n",
    "        lo, hi = 0, sum(batteries) // n\n",
    "        while lo < hi:\n",
    "            mid = (hi + lo) // 2\n",
    "            if check(mid):\n",
    "                lo = mid + 1\n",
    "            else:\n",
    "                hi = mid\n",
    "\n",
    "        return lo if check(lo) else lo - 1"
   ]
  },
  {
   "cell_type": "code",
   "execution_count": 66,
   "id": "ecaf88ff",
   "metadata": {},
   "outputs": [
    {
     "name": "stdout",
     "output_type": "stream",
     "text": [
      "[2, 6, 7]\n"
     ]
    }
   ],
   "source": [
    "batteries=[2,6,7,2]\n",
    "tuple1=set()\n",
    "tuple1=list(set(batteries))\n",
    "# batteries.pop()\n",
    "# batteries.sort()\n",
    "# print(batteries)\n",
    "print(tuple1)"
   ]
  },
  {
   "cell_type": "markdown",
   "id": "cd6c4e8f",
   "metadata": {},
   "source": [
    "You are given an array of non-negative integers numbers. You are allowed to choose any number from this array and swap any two digits in it. If after the swap operation the number contains leading zeros, they can be omitted and not considered (eg: 010 will be considered just 10).\n",
    "\n",
    "Your task is to check whether it is possible to apply the swap operation at most once, so that the elements of the resulting array are strictly increasing.\n",
    "\n",
    "Example\n",
    "\n",
    "For numbers = [1, 5, 10, 20], the output should be solution(numbers) = true.\n",
    "\n",
    "The initial array is already strictly increasing, so no actions are required.\n",
    "\n",
    "For numbers = [1, 3, 900, 10], the output should be solution(numbers) = true.\n",
    "\n",
    "By choosing numbers[2] = 900 and swapping its first and third digits, the resulting number 009 is considered to be just 9. So the updated array will look like [1, 3, 9, 10], which is strictly increasing."
   ]
  },
  {
   "cell_type": "code",
   "execution_count": 120,
   "id": "5096bfa0",
   "metadata": {},
   "outputs": [
    {
     "name": "stdout",
     "output_type": "stream",
     "text": [
      "round is  ['6', '8'] Now n is  [86, 105, 131, 396, 438, 754, 744, 817] numbers has changed to [68, 105, 131, 396, 438, 754, 744, 817]\n",
      "round is  ['0', '1', '5'] Now n is  [68, 15, 131, 396, 438, 754, 744, 817] numbers has changed to [68, 105, 131, 396, 438, 754, 744, 817]\n",
      "round is  ['5', '1', '0'] Now n is  [68, 510, 131, 396, 438, 754, 744, 817] numbers has changed to [68, 105, 131, 396, 438, 754, 744, 817]\n",
      "round is  ['5', '0', '1'] Now n is  [68, 501, 131, 396, 438, 754, 744, 817] numbers has changed to [68, 105, 131, 396, 438, 754, 744, 817]\n",
      "round is  ['3', '1', '1'] Now n is  [68, 105, 311, 396, 438, 754, 744, 817] numbers has changed to [68, 105, 131, 396, 438, 754, 744, 817]\n",
      "round is  ['1', '1', '3'] Now n is  [68, 105, 113, 396, 438, 754, 744, 817] numbers has changed to [68, 105, 131, 396, 438, 754, 744, 817]\n",
      "round is  ['1', '3', '1'] Now n is  [68, 105, 131, 396, 438, 754, 744, 817] numbers has changed to [68, 105, 131, 396, 438, 754, 744, 817]\n",
      "round is  ['9', '3', '6'] Now n is  [68, 105, 131, 936, 438, 754, 744, 817] numbers has changed to [68, 105, 131, 396, 438, 754, 744, 817]\n",
      "round is  ['6', '3', '9'] Now n is  [68, 105, 131, 639, 438, 754, 744, 817] numbers has changed to [68, 105, 131, 396, 438, 754, 744, 817]\n",
      "round is  ['6', '9', '3'] Now n is  [68, 105, 131, 693, 438, 754, 744, 817] numbers has changed to [68, 105, 131, 396, 438, 754, 744, 817]\n",
      "round is  ['3', '4', '8'] Now n is  [68, 105, 131, 396, 348, 754, 744, 817] numbers has changed to [68, 105, 131, 396, 438, 754, 744, 817]\n",
      "round is  ['8', '4', '3'] Now n is  [68, 105, 131, 396, 843, 754, 744, 817] numbers has changed to [68, 105, 131, 396, 438, 754, 744, 817]\n",
      "round is  ['8', '3', '4'] Now n is  [68, 105, 131, 396, 834, 754, 744, 817] numbers has changed to [68, 105, 131, 396, 438, 754, 744, 817]\n",
      "round is  ['5', '7', '4'] Now n is  [68, 105, 131, 396, 438, 574, 744, 817] numbers has changed to [68, 105, 131, 396, 438, 754, 744, 817]\n"
     ]
    },
    {
     "data": {
      "text/plain": [
       "True"
      ]
     },
     "execution_count": 120,
     "metadata": {},
     "output_type": "execute_result"
    }
   ],
   "source": [
    "def increasing(list1):\n",
    "    if list1==sorted(list(set(list1))):\n",
    "        return True\n",
    "    else:return False\n",
    "def solution(numbers):\n",
    "    if increasing(numbers):\n",
    "        return True\n",
    "    else:\n",
    "\n",
    "        for i in range(len(numbers)):\n",
    "            s=list(str(numbers[i]))\n",
    "            \n",
    "            if len(s)>1:\n",
    "                for j in range(len(s)):\n",
    "                    for jj in range(j+1,len(s)):\n",
    "\n",
    "                        n=numbers.copy()\n",
    "                        sjj=str(s[jj])\n",
    "                        sj=str(s[j])\n",
    "                        ss=s\n",
    "                        if len(s)==2:\n",
    "                            n[i]=int(sjj+sj)\n",
    "                        elif len(s)>2:\n",
    "#                             print(ss[jj])\n",
    "                            ss[jj]=sj\n",
    "                            ss[j]=sjj\n",
    "#                             print(ss)\n",
    "                            n[i]=int(''.join(ss))\n",
    "\n",
    "                        print(\"round is \",s,\"Now n is \",n,\"numbers has changed to\",numbers)\n",
    "                        if increasing(n):\n",
    "                            return True\n",
    "                            break\n",
    "\n",
    "    return False\n",
    "            \n",
    "numbers = [1, 5, 10, 20]  \n",
    "numbers = [1, 3, 900, 10]\n",
    "numbers= [527, 516, 216, 965, 951]\n",
    "numbers= [68, 105, 131, 396, 438, 754, 744, 817]\n",
    "solution(numbers)\n"
   ]
  },
  {
   "cell_type": "code",
   "execution_count": 106,
   "id": "e4fa243b",
   "metadata": {},
   "outputs": [
    {
     "name": "stdout",
     "output_type": "stream",
     "text": [
      "mystrung ['m', 'y', 's', 't', 'r', 'u', 'n', 'g']\n"
     ]
    }
   ],
   "source": [
    "ss='12'\n",
    "str1 = \"mystring\"\n",
    "list1 = list(str1)\n",
    "list1[5] = 'u'\n",
    "str1 = ''.join(list1)\n",
    "print(str1,list1)\n",
    "# print(ss[1])"
   ]
  },
  {
   "cell_type": "code",
   "execution_count": 215,
   "id": "1d3cff77",
   "metadata": {
    "scrolled": true
   },
   "outputs": [
    {
     "name": "stdout",
     "output_type": "stream",
     "text": [
      "i is  0 comp is  2  remin is  1 1\n",
      "yse i {0: 1}\n",
      "i is  1 comp is  1  remin is  2 2\n",
      "yse i {0: 1, 1: 2}\n",
      "i is  and key_dict is  1 {0: 1}\n",
      "0\n",
      "[0, 1]\n",
      "round is  1 list1 is  [[0, 1]] key_dict is  {0: 1} dict1 is  {0: 1, 1: 2}\n",
      "i is  2 comp is  0  remin is  0 3\n",
      "yse i {0: 1, 1: 2, 2: 0}\n",
      "i is  and key_dict is  2 {}\n",
      "round is  2 list1 is  [[0, 1]] key_dict is  {} dict1 is  {0: 1, 1: 2, 2: 0}\n",
      "i is  3 comp is  2  remin is  1 4\n",
      "yse i {0: 1, 1: 2, 2: 0, 3: 1}\n",
      "i is  and key_dict is  3 {1: 2}\n",
      "1\n",
      "[1, 3]\n",
      "round is  3 list1 is  [[0, 1], [1, 3]] key_dict is  {1: 2} dict1 is  {0: 1, 1: 2, 2: 0, 3: 1}\n",
      "i is  4 comp is  1  remin is  2 5\n",
      "yse i {0: 1, 1: 2, 2: 0, 3: 1, 4: 2}\n",
      "i is  and key_dict is  4 {0: 1, 3: 1}\n",
      "0\n",
      "[0, 4]\n",
      "3\n",
      "[3, 4]\n",
      "round is  4 list1 is  [[0, 1], [1, 3], [0, 4], [3, 4]] key_dict is  {0: 1, 3: 1} dict1 is  {0: 1, 1: 2, 2: 0, 3: 1, 4: 2}\n"
     ]
    },
    {
     "data": {
      "text/plain": [
       "4"
      ]
     },
     "execution_count": 215,
     "metadata": {},
     "output_type": "execute_result"
    }
   ],
   "source": [
    "def solution(a, k):\n",
    "    cnt=0\n",
    "\n",
    "    dict1=dict()\n",
    "    if len(a)<2:\n",
    "        return 0\n",
    "    else:\n",
    "        for i in range(len(a)):\n",
    "            remin=a[i]%k\n",
    "            comp=k-remin\n",
    "            if remin==0 and remin not in dict1.keys():\n",
    "                dict1[remin]=1\n",
    "#                 continue\n",
    "            elif remin==0 and remin in dict1.keys():\n",
    "                dict1[remin]=dict1[remin]+1\n",
    "            else:\n",
    "                if remin not in dict1.keys():\n",
    "                    dict1[remin]=1\n",
    "                else:\n",
    "                    dict1[remin]=dict1[remin]+1\n",
    "            \n",
    "            if comp in dict1.keys():\n",
    "                cnt=cnt+dict1[comp]\n",
    "            if i==len(a)-1 and comp in dict1.keys():\n",
    "                cnt=cnt-dict1[comp]\n",
    "            print(\"i is \",i,\"round is \",a[i], \"comp and remin is \",comp,remin, \"dict1 is \",dict1,\"cnt is \",cnt)\n",
    "            # for ii in range(i+1,len(a)):\n",
    "            #     if (a[i]+a[ii])%k==0:\n",
    "            #         cnt+=1\n",
    "    return cnt\n",
    "def solution(a, k):\n",
    "    cnt=0\n",
    "\n",
    "    dict1=dict()\n",
    "    list1=[]\n",
    "    if len(a)<2:\n",
    "        return 0\n",
    "    else:\n",
    "        for i in range(len(a)):\n",
    "            remin=a[i]%k\n",
    "            comp=k-remin\n",
    "            if comp==k:\n",
    "                comp=0\n",
    "            print(\"i is \",i,\"comp is \",comp,\" remin is \",remin,a[i])\n",
    "            if i not in dict1.keys():\n",
    "                \n",
    "                dict1[i]=remin\n",
    "                print(\"yse i\",dict1)\n",
    "            if comp in dict1.values():\n",
    "                key_dict=dict()\n",
    "                key_dict={key : val for key, val in dict1.items() if val==comp and key!=i}\n",
    "                print(\"i is  and key_dict is \",i,key_dict)\n",
    "                if key_dict:\n",
    "                    for key in key_dict.keys():\n",
    "                        print(key)\n",
    "                        lol=[i,key]\n",
    "                        lol.sort()\n",
    "                        print(lol)\n",
    "                        if lol not in list1:\n",
    "                                  list1.append(lol)\n",
    "                                               \n",
    "                print(\"round is \", i, \"list1 is \", list1,\"key_dict is \",key_dict,\"dict1 is \",dict1)         \n",
    "    return len(list1)\n",
    "#sum( len(i) for i in list2)\n",
    "#key=tuple(sorted(list(key_dict.keys())) )\n",
    "# from collections import defaultdict\n",
    "\n",
    "# def solution(numbers):\n",
    "#     counts = defaultdict(int)\n",
    "#     answer = 0\n",
    "#     for element in numbers:\n",
    "#         counts[element] += 1\n",
    "#         for two_power in range(21):\n",
    "#             second_element = (1 << two_power) - element\n",
    "#             answer += counts[second_element]\n",
    "#     return answer \n",
    "a = [1, 2, 3, 4, 5] \n",
    "k = 3\n",
    "# a=[1, 3, 5, 7, 9]\n",
    "# k=2\n",
    "# a=[1, 2, 3, 4, 5, 6, 7, 8, 9, 10]\n",
    "# k=5\n",
    "solution(a, k)"
   ]
  },
  {
   "cell_type": "code",
   "execution_count": 213,
   "id": "cfcf226e",
   "metadata": {},
   "outputs": [
    {
     "name": "stdout",
     "output_type": "stream",
     "text": [
      "0 1\n",
      "0 4\n",
      "1 3\n",
      "3 4\n"
     ]
    },
    {
     "data": {
      "text/plain": [
       "4"
      ]
     },
     "execution_count": 213,
     "metadata": {},
     "output_type": "execute_result"
    }
   ],
   "source": [
    "def solution(a, k):\n",
    "    cnt=0\n",
    "\n",
    "    dict1=dict()\n",
    "    if len(a)<2:\n",
    "        return 0\n",
    "    else:\n",
    "        for i in range(len(a)):\n",
    "            for ii in range(i+1,len(a)):\n",
    "                if (a[i]+a[ii])%k==0:\n",
    "                    print(i,ii)\n",
    "                    cnt+=1\n",
    "    return cnt\n",
    "a = [1, 2, 3, 4, 5] \n",
    "k = 3\n",
    "# a=[1, 3, 5, 7, 9]\n",
    "# k=2\n",
    "# a=[1, 2, 3, 4, 5, 6, 7, 8, 9, 10]\n",
    "# k=5\n",
    "solution(a, k)"
   ]
  },
  {
   "cell_type": "code",
   "execution_count": 205,
   "id": "3b7efb13",
   "metadata": {},
   "outputs": [
    {
     "data": {
      "text/plain": [
       "0"
      ]
     },
     "execution_count": 205,
     "metadata": {},
     "output_type": "execute_result"
    }
   ],
   "source": [
    "# dict2={1:2,2:3}\n",
    "# #filter dict\n",
    "# res = {key : val for key, val in dict2.items()\n",
    "#                    if val==2}\n",
    "# print(res)\n",
    "# list2=[2,1]\n",
    "# list2.sort()\n",
    "# print(list2)\n",
    "10%5"
   ]
  },
  {
   "cell_type": "code",
   "execution_count": 163,
   "id": "1ebf7b16",
   "metadata": {},
   "outputs": [
    {
     "name": "stdout",
     "output_type": "stream",
     "text": [
      "the value after the decimal point is zero\n"
     ]
    }
   ],
   "source": [
    "a = 17.000\n",
    "\n",
    "if a%1==0:\n",
    "    print(\"the value after the decimal point is zero\")\n",
    "else:\n",
    "    print(\"the value after the decimal point is not zero\")"
   ]
  },
  {
   "cell_type": "code",
   "execution_count": 1,
   "id": "0b1e4f44",
   "metadata": {},
   "outputs": [
    {
     "ename": "NameError",
     "evalue": "name 'List' is not defined",
     "output_type": "error",
     "traceback": [
      "\u001b[1;31m---------------------------------------------------------------------------\u001b[0m",
      "\u001b[1;31mNameError\u001b[0m                                 Traceback (most recent call last)",
      "\u001b[1;32m~\\AppData\\Local\\Temp\\ipykernel_35096\\2078990239.py\u001b[0m in \u001b[0;36m<module>\u001b[1;34m\u001b[0m\n\u001b[0;32m      1\u001b[0m \u001b[1;32mfrom\u001b[0m \u001b[0mcollections\u001b[0m \u001b[1;32mimport\u001b[0m \u001b[0mdefaultdict\u001b[0m\u001b[1;33m\u001b[0m\u001b[1;33m\u001b[0m\u001b[0m\n\u001b[0;32m      2\u001b[0m \u001b[1;32mfrom\u001b[0m \u001b[0mmath\u001b[0m \u001b[1;32mimport\u001b[0m \u001b[0mgcd\u001b[0m\u001b[1;33m\u001b[0m\u001b[1;33m\u001b[0m\u001b[0m\n\u001b[1;32m----> 3\u001b[1;33m \u001b[1;32mclass\u001b[0m \u001b[0mSolution\u001b[0m\u001b[1;33m:\u001b[0m\u001b[1;33m\u001b[0m\u001b[1;33m\u001b[0m\u001b[0m\n\u001b[0m\u001b[0;32m      4\u001b[0m     \u001b[1;32mdef\u001b[0m \u001b[0mcountPairs\u001b[0m\u001b[1;33m(\u001b[0m\u001b[0mself\u001b[0m\u001b[1;33m,\u001b[0m \u001b[0mnums\u001b[0m\u001b[1;33m:\u001b[0m \u001b[0mList\u001b[0m\u001b[1;33m[\u001b[0m\u001b[0mint\u001b[0m\u001b[1;33m]\u001b[0m\u001b[1;33m,\u001b[0m \u001b[0mk\u001b[0m\u001b[1;33m:\u001b[0m \u001b[0mint\u001b[0m\u001b[1;33m)\u001b[0m \u001b[1;33m->\u001b[0m \u001b[0mint\u001b[0m\u001b[1;33m:\u001b[0m\u001b[1;33m\u001b[0m\u001b[1;33m\u001b[0m\u001b[0m\n\u001b[0;32m      5\u001b[0m         \u001b[0md\u001b[0m \u001b[1;33m=\u001b[0m \u001b[0mdefaultdict\u001b[0m\u001b[1;33m(\u001b[0m\u001b[0mint\u001b[0m\u001b[1;33m)\u001b[0m\u001b[1;33m\u001b[0m\u001b[1;33m\u001b[0m\u001b[0m\n",
      "\u001b[1;32m~\\AppData\\Local\\Temp\\ipykernel_35096\\2078990239.py\u001b[0m in \u001b[0;36mSolution\u001b[1;34m()\u001b[0m\n\u001b[0;32m      2\u001b[0m \u001b[1;32mfrom\u001b[0m \u001b[0mmath\u001b[0m \u001b[1;32mimport\u001b[0m \u001b[0mgcd\u001b[0m\u001b[1;33m\u001b[0m\u001b[1;33m\u001b[0m\u001b[0m\n\u001b[0;32m      3\u001b[0m \u001b[1;32mclass\u001b[0m \u001b[0mSolution\u001b[0m\u001b[1;33m:\u001b[0m\u001b[1;33m\u001b[0m\u001b[1;33m\u001b[0m\u001b[0m\n\u001b[1;32m----> 4\u001b[1;33m     \u001b[1;32mdef\u001b[0m \u001b[0mcountPairs\u001b[0m\u001b[1;33m(\u001b[0m\u001b[0mself\u001b[0m\u001b[1;33m,\u001b[0m \u001b[0mnums\u001b[0m\u001b[1;33m:\u001b[0m \u001b[0mList\u001b[0m\u001b[1;33m[\u001b[0m\u001b[0mint\u001b[0m\u001b[1;33m]\u001b[0m\u001b[1;33m,\u001b[0m \u001b[0mk\u001b[0m\u001b[1;33m:\u001b[0m \u001b[0mint\u001b[0m\u001b[1;33m)\u001b[0m \u001b[1;33m->\u001b[0m \u001b[0mint\u001b[0m\u001b[1;33m:\u001b[0m\u001b[1;33m\u001b[0m\u001b[1;33m\u001b[0m\u001b[0m\n\u001b[0m\u001b[0;32m      5\u001b[0m         \u001b[0md\u001b[0m \u001b[1;33m=\u001b[0m \u001b[0mdefaultdict\u001b[0m\u001b[1;33m(\u001b[0m\u001b[0mint\u001b[0m\u001b[1;33m)\u001b[0m\u001b[1;33m\u001b[0m\u001b[1;33m\u001b[0m\u001b[0m\n\u001b[0;32m      6\u001b[0m         \u001b[1;32mfor\u001b[0m \u001b[0mi\u001b[0m \u001b[1;32min\u001b[0m \u001b[0mnums\u001b[0m\u001b[1;33m:\u001b[0m\u001b[1;33m\u001b[0m\u001b[1;33m\u001b[0m\u001b[0m\n",
      "\u001b[1;31mNameError\u001b[0m: name 'List' is not defined"
     ]
    }
   ],
   "source": [
    "from collections import defaultdict\n",
    "from math import gcd\n",
    "class Solution:\n",
    "    def countPairs(self, nums: List[int], k: int) -> int:\n",
    "        d = defaultdict(int)\n",
    "        for i in nums:\n",
    "            d[gcd(i, k)] += 1\n",
    "\n",
    "        ans = 0\n",
    "\n",
    "        for i in d.keys():\n",
    "            for j in d.keys():\n",
    "                if (i * j) % k == 0:\n",
    "                    if i < j:\n",
    "                        ans += d[i] * d[j]\n",
    "                    elif j == i:\n",
    "                        ans += d[i] * (d[i] - 1) // 2\n",
    "\n",
    "        return ans\n",
    "class Solution:\n",
    "    def countPairs(self, nums: List[int], k: int) -> int:\n",
    "        def gcd(x, y):\n",
    "            while x % y != 0: x, y = y, x % y\n",
    "            return y\n",
    "        gcds, cnt, ans = [gcd(num, k) for num in nums], defaultdict(int), 0\n",
    "        for g in gcds: cnt[k // g] += 1\n",
    "        for g in gcds:\n",
    "            for f in cnt: ans += cnt[f] if not g % f else 0\n",
    "            ans -= not g % (k // g) \n",
    "        return ans // 2\n",
    "from collections import Counter\n",
    "from itertools import combinations_with_replacement\n",
    "from math import comb, gcd\n",
    "\n",
    "\n",
    "class Solution:\n",
    "    def countPairs(self, A: list[int], k: int) -> int:\n",
    "        cnt = Counter(gcd(a, k) for a in A)  # gcd(a, k) is the only usable part of \"a\" during divisibility check. So\n",
    "        # if k = 6 then 2 is equivalent to 4, 8, 10 etc. This is how, we reduce the size of \"A\" and apparently this\n",
    "        # is the only optimization possible\n",
    "\n",
    "        output = 0\n",
    "\n",
    "        for a, b in combinations_with_replacement(cnt, 2):\n",
    "            # now that we iterate all the possible pairs (I was wondering if there could be an optimal approach for\n",
    "            # this, but then checked solution provided by others to discover that no such solution had been discovered),\n",
    "            # so rest of it becomes trivial\n",
    "            if a * b % k == 0:\n",
    "                output += comb(cnt[a], 2) if a == b else cnt[a] * cnt[b]\n",
    "\n",
    "        return output\n",
    "def solution(a,k):\n",
    "    dict1=dict()\n",
    "    cnt=0\n",
    "    cntt=-1\n",
    "    for i in a:\n",
    "        if i%k!=0 and i**2%k!=0:\n",
    "            reminder=i%k\n",
    "            comp=k-reminder\n",
    "            if reminder in dict1.keys():\n",
    "                dict1[reminder]=dict1[reminder]+1\n",
    "            else:\n",
    "                dict1[reminder]=1\n",
    "            if comp in dict1.keys():\n",
    "                cnt=cnt+dict1[comp]\n",
    "        elif i==k or i**2%k==0:\n",
    "            cntt=cntt+1\n",
    "            cnt=cntt+cnt\n",
    "    return cnt\n",
    "a: [51, 24, 44, 87, 64, 84, 76, 47, 31, 21, 34, 49, 30, 70, 83, 3, 38, 6, 99, 7, 92, 59, 57, 50, 73, 79, 93, 19, 68, 72, 23, 90, 71, 35, 77, 28, 36, 45, 94, 29, 39, 98, 48, 9, 60, 20, 62, 100, 1, 97, 16, 66, 56, 54, 80, 15, 46, 18, 2, 88, 8, 65, 69, 78, 40, 37, 33, 25, 89, 13, 85, 5, 32, 86, 11, 52, 63, 67, 12, 55, 82, 43, 81, 91, 26, 27, 95, 58, 75, 61, 41, 17, 14, 10, 96, 53, 4, 22, 74, 42]\n",
    "k: 10\n",
    "a: [1, 3, 5, 7, 9]\n",
    "k: 2\n",
    "a: [1, 2, 3, 4, 5]\n",
    "k: 3"
   ]
  },
  {
   "cell_type": "code",
   "execution_count": 2,
   "id": "151f690c",
   "metadata": {},
   "outputs": [
    {
     "name": "stdout",
     "output_type": "stream",
     "text": [
      "o90\n"
     ]
    }
   ],
   "source": [
    "s='o190'\n",
    "print(s[0:1]+s[2::])"
   ]
  },
  {
   "cell_type": "code",
   "execution_count": 3,
   "id": "7e6b6769",
   "metadata": {},
   "outputs": [
    {
     "ename": "SyntaxError",
     "evalue": "invalid syntax (3792761958.py, line 52)",
     "output_type": "error",
     "traceback": [
      "\u001b[1;36m  File \u001b[1;32m\"C:\\Users\\shanh\\AppData\\Local\\Temp\\ipykernel_35096\\3792761958.py\"\u001b[1;36m, line \u001b[1;32m52\u001b[0m\n\u001b[1;33m    olution:\u001b[0m\n\u001b[1;37m            ^\u001b[0m\n\u001b[1;31mSyntaxError\u001b[0m\u001b[1;31m:\u001b[0m invalid syntax\n"
     ]
    }
   ],
   "source": [
    "# roman to numbers\n",
    "class Solution:\n",
    "    def romanToInt(self, s: str) -> int:\n",
    "        roman_to_integer = {\n",
    "            'I': 1,\n",
    "            'V': 5,\n",
    "            'X': 10,\n",
    "            'L': 50,\n",
    "            'C': 100,\n",
    "            'D': 500,\n",
    "            'M': 1000,\n",
    "        }\n",
    "        s = s.replace(\"IV\", \"IIII\").replace(\"IX\", \"VIIII\").replace(\"XL\", \"XXXX\").replace(\"XC\", \"LXXXX\").replace(\"CD\", \"CCCC\").replace(\"CM\", \"DCCCC\")\n",
    "        return sum(map(lambda x: roman_to_integer[x], s))\n",
    "#     Roman numerals are represented by seven different symbols: I, V, X, L, C, D and M.\n",
    "\n",
    "# Symbol       Value\n",
    "# I             1\n",
    "# V             5\n",
    "# X             10\n",
    "# L             50\n",
    "# C             100\n",
    "# D             500\n",
    "# M             1000\n",
    "# For example, 2 is written as II in Roman numeral, just two one's added together. 12 is written as XII, which is simply X + II. The number 27 is written as XXVII, which is XX + V + II.\n",
    "\n",
    "# Roman numerals are usually written largest to smallest from left to right. However, the numeral for four is not IIII. Instead, the number four is written as IV. Because the one is before the five we subtract it making four. The same principle applies to the number nine, which is written as IX. There are six instances where subtraction is used:\n",
    "\n",
    "# I can be placed before V (5) and X (10) to make 4 and 9. \n",
    "# X can be placed before L (50) and C (100) to make 40 and 90. \n",
    "# C can be placed before D (500) and M (1000) to make 400 and 900.\n",
    "# Given an integer, convert it to a roman numeral.\n",
    "\n",
    "# class Solution:\n",
    "#     def intToRoman(self, num1: int) -> str:\n",
    "#         num = [1, 4, 5, 9, 10, 40, 50, 90,\n",
    "#             100, 400, 500, 900, 1000]\n",
    "#         sym = [\"I\", \"IV\", \"V\", \"IX\", \"X\", \"XL\",\n",
    "#             \"L\", \"XC\", \"C\", \"CD\", \"D\", \"CM\", \"M\"]\n",
    "#         i = 12\n",
    "#         s=\"\"\n",
    "#         while num1:\n",
    "#             div = num1 // num[i]\n",
    "#             num1 %= num[i]\n",
    "    \n",
    "#             while div:\n",
    "#                 s=s+sym[i]\n",
    "#                 print(sym[i], end = \"\")\n",
    "#                 div -= 1\n",
    "#             i -= 1\n",
    "#         return s\n",
    "olution:\n",
    "\n",
    "# class Solution:\n",
    "#     def intToRoman(self, num: int) -> str:\n",
    "#         # Creating Dictionary for Lookup\n",
    "#         num_map = {\n",
    "#             1: \"I\",\n",
    "#             5: \"V\",    4: \"IV\",\n",
    "#             10: \"X\",   9: \"IX\",\n",
    "#             50: \"L\",   40: \"XL\",\n",
    "#             100: \"C\",  90: \"XC\",\n",
    "#             500: \"D\",  400: \"CD\",\n",
    "#             1000: \"M\", 900: \"CM\",\n",
    "#         }\n",
    "        \n",
    "#         # Result Variable\n",
    "#         r = ''\n",
    "        \n",
    "        \n",
    "#         for n in [1000, 900, 500, 400, 100, 90, 50, 40, 10, 9, 5, 4, 1]:\n",
    "#             # If n in list then add the roman value to result variable\n",
    "#             while n <= num:\n",
    "#                 r += num_map[n]\n",
    "#                 num-=n\n",
    "class Solution:\n",
    "    def ref(self):\n",
    "        numToRoman={\n",
    "            1:\"I\",\n",
    "            5:\"V\",\n",
    "            10:\"X\",\n",
    "            50:\"L\",\n",
    "            100:\"C\",\n",
    "            500:\"D\",\n",
    "            1000:\"M\",\n",
    "            4:\"IV\",\n",
    "            9:\"IX\",\n",
    "            40:\"XL\",\n",
    "            90:\"XC\",\n",
    "            400:\"CD\",\n",
    "            900:\"CM\",\n",
    "        }\n",
    "#         myKeys = list(numToRoman.keys())\n",
    "#         myKeys.sort()\n",
    "        numToRoman = sorted(numToRoman.iterkeys(), key=lambda k: numToRoman[k], reverse=True)\n",
    "        return numToRoman\n",
    "    def intToRoman(self, num1: int) -> str:\n",
    "        ref=self.ref()\n",
    "        roman=\"\"\n",
    "        s=num1\n",
    "        for key in ref.keys():\n",
    "            while s<=key:\n",
    "                s=s-key\n",
    "                roman+=ref[key]\n",
    "        return roman\n",
    "                \n",
    "\n",
    "\n",
    "            \n"
   ]
  },
  {
   "cell_type": "markdown",
   "id": "5fad6e72",
   "metadata": {},
   "source": [
    "You are given two arrays of integers a and b of the same length, and an integer k. We will be iterating through array a from left to right, and simultaneously through array b from right to left, and looking at pairs (x, y), where x is from a and y is from b. Such a pair is called tiny if the concatenation xy is strictly less than k.\n",
    "\n",
    "Your task is to return the number of tiny pairs that you'll encounter during the simultaneous iteration through a and b.\n",
    "\n",
    "Example\n",
    "\n",
    "For a = [1, 2, 3], b = [1, 2, 3], and k = 31, the output should be\n",
    "solution(a, b, k) = 2.\n",
    "\n",
    "We're considering the following pairs during iteration:\n",
    "\n",
    "(1, 3). Their concatenation equals 13, which is less than 31, so the pair is tiny;\n",
    "(2, 2). Their concatenation equals 22, which is less than 31, so the pair is tiny;\n",
    "(3, 1). Their concatenation equals 31, which is not less than 31, so the pair is not tiny.\n",
    "As you can see, there are 2 tiny pairs during the iteration, so the answer is 2.\n",
    "\n",
    "For a = [16, 1, 4, 2, 14], b = [7, 11, 2, 0, 15], and k = 743, the output should be\n",
    "solution(a, b, k) = 4.\n",
    "\n",
    "We're considering the following pairs during iteration:\n",
    "\n",
    "(16, 15). Their concatenation equals 1615, which is greater than 743, so the pair is not tiny;\n",
    "(1, 0). Their concatenation equals 10, which is less than 743, so the pair is tiny;\n",
    "(4, 2). Their concatenation equals 42, which is less than 743, so the pair is tiny.\n",
    "(2, 11). Their concatenation equals 211, which is less than 743, so the pair is tiny;\n",
    "(14, 7). Their concatenation equals 147, which is less than 743, so the pair is tiny.\n",
    "There are 4 tiny pairs during the iteration, so the answer is 4."
   ]
  },
  {
   "cell_type": "code",
   "execution_count": 9,
   "id": "bc5c0d9e",
   "metadata": {},
   "outputs": [
    {
     "name": "stdout",
     "output_type": "stream",
     "text": [
      "{}\n"
     ]
    }
   ],
   "source": [
    "ref={1:2,3:3,2:2}\n",
    "comp=2\n",
    "i=2\n",
    "y={k:v for k,v in ref.items() if ref[k]==comp and k>i}\n",
    "print(y)"
   ]
  },
  {
   "cell_type": "code",
   "execution_count": 19,
   "id": "60ee4e16",
   "metadata": {},
   "outputs": [
    {
     "name": "stdout",
     "output_type": "stream",
     "text": [
      "2 {1: 2}\n",
      "3 {0: 1}\n",
      "5 {3: 4}\n",
      "6 {2: 3}\n",
      "7 {1: 2, 6: 2}\n",
      "8 {0: 1, 5: 1}\n",
      "{0: 1, 1: 2, 2: 3, 3: 4, 4: 0, 5: 1, 6: 2, 7: 3, 8: 4, 9: 0}\n"
     ]
    },
    {
     "data": {
      "text/plain": [
       "8"
      ]
     },
     "execution_count": 19,
     "metadata": {},
     "output_type": "execute_result"
    }
   ],
   "source": [
    "def solution(a, k):\n",
    "    ref=dict()\n",
    "    cnt=0\n",
    "    for i in range(len(a)):\n",
    "        remin=a[i]%k\n",
    "        comp=k-remin\n",
    "        if comp in ref.values():\n",
    "\n",
    "            list={key:v for key,v in ref.items() if ref[key]==comp and key<i}\n",
    "            \n",
    "            print(i,list)\n",
    "            cnt+=len(list)\n",
    "            \n",
    "        ref[i]=remin\n",
    "    print(ref)\n",
    "    return cnt\n",
    "# a=[1, 2, 3, 4, 5]\n",
    "# k= 3\n",
    "a=[1, 2, 3, 4, 5, 6, 7, 8, 9, 10]\n",
    "k=5\n",
    "solution(a,k)"
   ]
  },
  {
   "cell_type": "code",
   "execution_count": null,
   "id": "e454504a",
   "metadata": {},
   "outputs": [],
   "source": []
  }
 ],
 "metadata": {
  "kernelspec": {
   "display_name": "Python 3 (ipykernel)",
   "language": "python",
   "name": "python3"
  },
  "language_info": {
   "codemirror_mode": {
    "name": "ipython",
    "version": 3
   },
   "file_extension": ".py",
   "mimetype": "text/x-python",
   "name": "python",
   "nbconvert_exporter": "python",
   "pygments_lexer": "ipython3",
   "version": "3.7.9"
  }
 },
 "nbformat": 4,
 "nbformat_minor": 5
}
