{
 "cells": [
  {
   "cell_type": "code",
   "execution_count": 1,
   "metadata": {},
   "outputs": [
    {
     "name": "stdout",
     "output_type": "stream",
     "text": [
      "Hello/ntest\n"
     ]
    }
   ],
   "source": [
    "print(\"Hello\",end='/n')\n",
    "#print(\"Hello\",end=\"\")\n",
    "#print(\"Hello\",end=\" \")\n",
    "print(\"test\")"
   ]
  },
  {
   "cell_type": "code",
   "execution_count": 1,
   "metadata": {},
   "outputs": [],
   "source": [
    "#rows = int(input(\"Enter the number of rows:\"))  \n",
    "#n = 2 * rows - 2  # It is used for number of spaces  \n",
    "def K(r):\n",
    "    b=2 *r - 2\n",
    "    for i in range(0,r):\n",
    "        for j in range(0,b):\n",
    "            print(\"\",end=\" \")\n",
    "        b=b-1\n",
    "        for j in range(0,i+1):print(\" * \", end=\"\")\n",
    "        print(\"\")\n",
    "\n",
    "\n",
    "            \n",
    "        \n",
    "\n",
    "\n"
   ]
  },
  {
   "cell_type": "code",
   "execution_count": 3,
   "metadata": {},
   "outputs": [
    {
     "name": "stdout",
     "output_type": "stream",
     "text": [
      "     * \n",
      "    *  * \n",
      "   *  *  * \n"
     ]
    }
   ],
   "source": [
    "K(3)"
   ]
  },
  {
   "cell_type": "code",
   "execution_count": 4,
   "metadata": {},
   "outputs": [
    {
     "name": "stdout",
     "output_type": "stream",
     "text": [
      "Enter the number of rows:2\n",
      "  * \n",
      "* * \n"
     ]
    }
   ],
   "source": [
    "rows = int(input(\"Enter the number of rows:\"))  \n",
    "k = 2 * rows - 2  # It is used for number of spaces  \n",
    "for i in range(0, rows):  \n",
    "    for j in range(0, k):  \n",
    "        print(end=\" \")  \n",
    "    k = k - 2   # decrement k value after each iteration  \n",
    "    for j in range(0, i + 1):  \n",
    "        print(\"* \", end=\"\")  # printing star  \n",
    "    print(\"\")  "
   ]
  },
  {
   "cell_type": "code",
   "execution_count": 5,
   "metadata": {},
   "outputs": [
    {
     "name": "stdout",
     "output_type": "stream",
     "text": [
      "Enter the number of rows: 2\n",
      "  *   \n",
      " *  *   \n"
     ]
    }
   ],
   "source": [
    "n = int(input(\"Enter the number of rows: \"))  \n",
    "m = (2 * n) - 2  \n",
    "for i in range(0, n):  \n",
    "    for j in range(0, m):  \n",
    "        print(end=\" \")  \n",
    "    m = m - 1  # decrementing m after each loop  \n",
    "    for j in range(0, i + 1):  \n",
    "        # printing full Triangle pyramid using stars  \n",
    "        print(\"* \", end=' ')  \n",
    "    print(\" \")  "
   ]
  },
  {
   "cell_type": "code",
   "execution_count": 6,
   "metadata": {},
   "outputs": [],
   "source": [
    "class Solution(object):\n",
    "    def wordSubsets(self, A, B):\n",
    "        def count(word):\n",
    "            ans = [0] * 26\n",
    "            for letter in word:\n",
    "                ans[ord(letter) - ord('a')] += 1\n",
    "            return ans\n",
    "\n",
    "        bmax = [0] * 26\n",
    "        for b in B:\n",
    "            for i, c in enumerate(count(b)):\n",
    "                bmax[i] = max(bmax[i], c)\n",
    "\n",
    "        ans = []\n",
    "        for a in A:\n",
    "            if all(x >= y for x, y in zip(count(a), bmax)):\n",
    "                ans.append(a)\n",
    "        return ans"
   ]
  },
  {
   "cell_type": "code",
   "execution_count": 7,
   "metadata": {},
   "outputs": [],
   "source": [
    "\n",
    "A=[\"amazon\",\"apple\",\"facebook\",\"google\",\"leetcode\"]\n",
    "B=[\"e\",\"o\"]"
   ]
  },
  {
   "cell_type": "code",
   "execution_count": 21,
   "metadata": {},
   "outputs": [],
   "source": [
    "class Solution(object):\n",
    "    def wordSubsets(self, A, B):\n",
    "        def count(word):\n",
    "            ans = [0] * 26\n",
    "            for letter in word:\n",
    "                ans[ord(letter) - ord('a')] += 1\n",
    "            return ans\n",
    "\n",
    "        bmax = [0] * 26\n",
    "        for b in B:\n",
    "            for i, c in enumerate(count(b)):\n",
    "                bmax[i] = max(bmax[i], c)\n",
    "\n",
    "        ans = []\n",
    "        for a in A:\n",
    "            if all(x >= y for x, y in zip(count(a), bmax)):\n",
    "                ans.append(a)\n",
    "        return ans"
   ]
  },
  {
   "cell_type": "code",
   "execution_count": 28,
   "metadata": {},
   "outputs": [],
   "source": [
    "B=[\"e\",\"o\"]\n",
    "bmax = [0] * 26"
   ]
  },
  {
   "cell_type": "code",
   "execution_count": 30,
   "metadata": {},
   "outputs": [],
   "source": [
    "for b in B:\n",
    "    for i, c in enumerate(count(b)):\n",
    "        bmax[i] = max(bmax[i], c)"
   ]
  },
  {
   "cell_type": "code",
   "execution_count": 31,
   "metadata": {},
   "outputs": [
    {
     "name": "stdout",
     "output_type": "stream",
     "text": [
      "[0, 0, 0, 0, 1, 0, 0, 0, 0, 0, 0, 0, 0, 0, 1, 0, 0, 0, 0, 0, 0, 0, 0, 0, 0, 0]\n"
     ]
    }
   ],
   "source": [
    "print(bmax)"
   ]
  },
  {
   "cell_type": "code",
   "execution_count": 12,
   "metadata": {},
   "outputs": [
    {
     "name": "stdout",
     "output_type": "stream",
     "text": [
      "[0, 0, 0, 0, 0, 0, 0, 0, 0, 0, 0, 0, 0, 0, 0, 0, 0, 0, 0, 0, 0, 0, 0, 0, 0, 0]\n"
     ]
    }
   ],
   "source": [
    "ans = [0] * 26\n",
    "print(ans)"
   ]
  },
  {
   "cell_type": "code",
   "execution_count": 15,
   "metadata": {},
   "outputs": [
    {
     "name": "stdout",
     "output_type": "stream",
     "text": [
      "98\n"
     ]
    }
   ],
   "source": [
    "\n",
    "print(ord('b'))"
   ]
  },
  {
   "cell_type": "code",
   "execution_count": 22,
   "metadata": {},
   "outputs": [],
   "source": [
    "nums = [2,7,11,15]\n",
    "target = 9"
   ]
  },
  {
   "cell_type": "code",
   "execution_count": 30,
   "metadata": {},
   "outputs": [],
   "source": [
    "def twoSum(nums, target):\n",
    "        i=0\n",
    "        while i<len(nums):\n",
    "            if nums[i]+nums[i+1]==target:\n",
    "                print(i,i+1)\n",
    "                break\n",
    "            i=i+1\n"
   ]
  },
  {
   "cell_type": "code",
   "execution_count": 31,
   "metadata": {},
   "outputs": [
    {
     "name": "stdout",
     "output_type": "stream",
     "text": [
      "0 1\n",
      "None\n"
     ]
    }
   ],
   "source": [
    "print(twoSum(nums, target))"
   ]
  },
  {
   "cell_type": "code",
   "execution_count": 27,
   "metadata": {},
   "outputs": [
    {
     "name": "stdout",
     "output_type": "stream",
     "text": [
      "Current Letter : h\n"
     ]
    }
   ],
   "source": [
    "for letter in 'Python':\n",
    "    if letter == 'h':\n",
    "        print('Current Letter :', letter)\n",
    "        break\n",
    "        \n",
    "    "
   ]
  },
  {
   "cell_type": "code",
   "execution_count": 32,
   "metadata": {},
   "outputs": [],
   "source": [
    "class Solution:\n",
    "    def twoSum(self, nums, target):\n",
    "        \"\"\"\n",
    "        :type nums: List[int]\n",
    "        :type target: int\n",
    "        :rtype: List[int]\n",
    "        \"\"\"\n",
    "        h = {}\n",
    "        for i, num in enumerate(nums):\n",
    "            n = target - num\n",
    "            if n not in h:\n",
    "                h[num] = i\n",
    "            else:\n",
    "                return [h[n], i]"
   ]
  },
  {
   "cell_type": "code",
   "execution_count": 34,
   "metadata": {},
   "outputs": [
    {
     "ename": "NameError",
     "evalue": "name 'List' is not defined",
     "output_type": "error",
     "traceback": [
      "\u001b[1;31m---------------------------------------------------------------------------\u001b[0m",
      "\u001b[1;31mNameError\u001b[0m                                 Traceback (most recent call last)",
      "\u001b[1;32m<ipython-input-34-ca7687d7b893>\u001b[0m in \u001b[0;36m<module>\u001b[1;34m\u001b[0m\n\u001b[1;32m----> 1\u001b[1;33m \u001b[1;32mclass\u001b[0m \u001b[0mSolution\u001b[0m\u001b[1;33m:\u001b[0m\u001b[1;33m\u001b[0m\u001b[1;33m\u001b[0m\u001b[0m\n\u001b[0m\u001b[0;32m      2\u001b[0m     \u001b[1;32mdef\u001b[0m \u001b[0mtwoSum\u001b[0m\u001b[1;33m(\u001b[0m\u001b[0mself\u001b[0m\u001b[1;33m,\u001b[0m \u001b[0mnums\u001b[0m\u001b[1;33m:\u001b[0m \u001b[0mList\u001b[0m\u001b[1;33m[\u001b[0m\u001b[0mint\u001b[0m\u001b[1;33m]\u001b[0m\u001b[1;33m,\u001b[0m \u001b[0mtarget\u001b[0m\u001b[1;33m:\u001b[0m \u001b[0mint\u001b[0m\u001b[1;33m)\u001b[0m \u001b[1;33m->\u001b[0m \u001b[0mList\u001b[0m\u001b[1;33m[\u001b[0m\u001b[0mint\u001b[0m\u001b[1;33m]\u001b[0m\u001b[1;33m:\u001b[0m\u001b[1;33m\u001b[0m\u001b[1;33m\u001b[0m\u001b[0m\n\u001b[0;32m      3\u001b[0m         \u001b[0mi\u001b[0m\u001b[1;33m=\u001b[0m\u001b[1;36m0\u001b[0m\u001b[1;33m\u001b[0m\u001b[1;33m\u001b[0m\u001b[0m\n\u001b[0;32m      4\u001b[0m         \u001b[1;32mwhile\u001b[0m \u001b[0mi\u001b[0m\u001b[1;33m<\u001b[0m\u001b[0mlen\u001b[0m\u001b[1;33m(\u001b[0m\u001b[0mnums\u001b[0m\u001b[1;33m)\u001b[0m\u001b[1;33m:\u001b[0m\u001b[1;33m\u001b[0m\u001b[1;33m\u001b[0m\u001b[0m\n\u001b[0;32m      5\u001b[0m             \u001b[1;32mif\u001b[0m \u001b[0mnums\u001b[0m\u001b[1;33m[\u001b[0m\u001b[0mi\u001b[0m\u001b[1;33m]\u001b[0m\u001b[1;33m+\u001b[0m\u001b[0mnums\u001b[0m\u001b[1;33m[\u001b[0m\u001b[0mi\u001b[0m\u001b[1;33m+\u001b[0m\u001b[1;36m1\u001b[0m\u001b[1;33m]\u001b[0m\u001b[1;33m==\u001b[0m\u001b[0mtarget\u001b[0m\u001b[1;33m:\u001b[0m\u001b[1;33m\u001b[0m\u001b[1;33m\u001b[0m\u001b[0m\n",
      "\u001b[1;32m<ipython-input-34-ca7687d7b893>\u001b[0m in \u001b[0;36mSolution\u001b[1;34m()\u001b[0m\n\u001b[0;32m      1\u001b[0m \u001b[1;32mclass\u001b[0m \u001b[0mSolution\u001b[0m\u001b[1;33m:\u001b[0m\u001b[1;33m\u001b[0m\u001b[1;33m\u001b[0m\u001b[0m\n\u001b[1;32m----> 2\u001b[1;33m     \u001b[1;32mdef\u001b[0m \u001b[0mtwoSum\u001b[0m\u001b[1;33m(\u001b[0m\u001b[0mself\u001b[0m\u001b[1;33m,\u001b[0m \u001b[0mnums\u001b[0m\u001b[1;33m:\u001b[0m \u001b[0mList\u001b[0m\u001b[1;33m[\u001b[0m\u001b[0mint\u001b[0m\u001b[1;33m]\u001b[0m\u001b[1;33m,\u001b[0m \u001b[0mtarget\u001b[0m\u001b[1;33m:\u001b[0m \u001b[0mint\u001b[0m\u001b[1;33m)\u001b[0m \u001b[1;33m->\u001b[0m \u001b[0mList\u001b[0m\u001b[1;33m[\u001b[0m\u001b[0mint\u001b[0m\u001b[1;33m]\u001b[0m\u001b[1;33m:\u001b[0m\u001b[1;33m\u001b[0m\u001b[1;33m\u001b[0m\u001b[0m\n\u001b[0m\u001b[0;32m      3\u001b[0m         \u001b[0mi\u001b[0m\u001b[1;33m=\u001b[0m\u001b[1;36m0\u001b[0m\u001b[1;33m\u001b[0m\u001b[1;33m\u001b[0m\u001b[0m\n\u001b[0;32m      4\u001b[0m         \u001b[1;32mwhile\u001b[0m \u001b[0mi\u001b[0m\u001b[1;33m<\u001b[0m\u001b[0mlen\u001b[0m\u001b[1;33m(\u001b[0m\u001b[0mnums\u001b[0m\u001b[1;33m)\u001b[0m\u001b[1;33m:\u001b[0m\u001b[1;33m\u001b[0m\u001b[1;33m\u001b[0m\u001b[0m\n\u001b[0;32m      5\u001b[0m             \u001b[1;32mif\u001b[0m \u001b[0mnums\u001b[0m\u001b[1;33m[\u001b[0m\u001b[0mi\u001b[0m\u001b[1;33m]\u001b[0m\u001b[1;33m+\u001b[0m\u001b[0mnums\u001b[0m\u001b[1;33m[\u001b[0m\u001b[0mi\u001b[0m\u001b[1;33m+\u001b[0m\u001b[1;36m1\u001b[0m\u001b[1;33m]\u001b[0m\u001b[1;33m==\u001b[0m\u001b[0mtarget\u001b[0m\u001b[1;33m:\u001b[0m\u001b[1;33m\u001b[0m\u001b[1;33m\u001b[0m\u001b[0m\n",
      "\u001b[1;31mNameError\u001b[0m: name 'List' is not defined"
     ]
    }
   ],
   "source": [
    "class Solution:\n",
    "    def twoSum(self, nums: List[int], target: int) -> List[int]:\n",
    "        i=0\n",
    "        while i<len(nums):\n",
    "            if nums[i]+nums[i+1]==target:\n",
    "                return[i,i+1]\n",
    "                break\n",
    "            i=i+1\n",
    "        "
   ]
  },
  {
   "cell_type": "code",
   "execution_count": 3,
   "metadata": {},
   "outputs": [
    {
     "name": "stdout",
     "output_type": "stream",
     "text": [
      "4.5\n",
      "5.0\n",
      "5.5\n",
      "6.0\n",
      "6.5\n",
      "7.0\n",
      "7.5\n",
      "8.0\n",
      "8.5\n",
      "9.0\n",
      "9.5\n",
      "10.0\n",
      "10.5\n",
      "11.0\n",
      "11.5\n",
      "12.0\n",
      "12.5\n",
      "13.0\n",
      "13.5\n",
      "14.0\n",
      "14.5\n",
      "15.0\n",
      "15.5\n",
      "16.0\n",
      "16.5\n",
      "17.0\n",
      "17.5\n",
      "18.0\n",
      "18.5\n",
      "19.0\n",
      "19.5\n",
      "20.0\n",
      "20.5\n",
      "21.0\n",
      "21.5\n",
      "22.0\n",
      "22.5\n",
      "23.0\n",
      "23.5\n",
      "24.0\n",
      "24.5\n",
      "25.0\n"
     ]
    }
   ],
   "source": [
    "for n in range(9,51):\n",
    "    print(n/2)"
   ]
  },
  {
   "cell_type": "code",
   "execution_count": 4,
   "metadata": {},
   "outputs": [
    {
     "name": "stdout",
     "output_type": "stream",
     "text": [
      "9\n",
      "11\n",
      "13\n",
      "15\n",
      "17\n",
      "19\n",
      "21\n",
      "23\n",
      "25\n",
      "27\n",
      "29\n",
      "31\n",
      "33\n",
      "35\n",
      "37\n",
      "39\n",
      "41\n",
      "43\n",
      "45\n",
      "47\n",
      "49\n",
      "51\n"
     ]
    }
   ],
   "source": [
    "for i in range(9, 52, 2):\n",
    "    print(i)"
   ]
  },
  {
   "cell_type": "code",
   "execution_count": 5,
   "metadata": {},
   "outputs": [
    {
     "name": "stdout",
     "output_type": "stream",
     "text": [
      "1\n",
      "4\n",
      "7\n",
      "8\n",
      "15\n"
     ]
    }
   ],
   "source": [
    "numbers = [1, 4, 7, 8, 15, 20, 35, 45, 55]\n",
    "for i in numbers:\n",
    "    if i > 15:\n",
    "        # break the loop\n",
    "        break\n",
    "    else:\n",
    "        print(i)"
   ]
  },
  {
   "cell_type": "code",
   "execution_count": 6,
   "metadata": {},
   "outputs": [
    {
     "name": "stdout",
     "output_type": "stream",
     "text": [
      "Total number of m is: 2\n"
     ]
    }
   ],
   "source": [
    "name = \"mariya mennen\"\n",
    "count = 0\n",
    "for char in name:\n",
    "    if char != 'm':\n",
    "        continue\n",
    "    else:\n",
    "        count = count + 1\n",
    "\n",
    "print('Total number of m is:', count)"
   ]
  },
  {
   "cell_type": "code",
   "execution_count": 7,
   "metadata": {},
   "outputs": [],
   "source": [
    "num = [1, 4, 5, 3, 7, 8]\n",
    "for i in num:\n",
    "    # calculate multiplication in future if required\n",
    "    pass"
   ]
  },
  {
   "cell_type": "code",
   "execution_count": 8,
   "metadata": {},
   "outputs": [
    {
     "name": "stdout",
     "output_type": "stream",
     "text": [
      "1\n",
      "2\n",
      "3\n",
      "4\n",
      "5\n",
      "Done\n"
     ]
    }
   ],
   "source": [
    "for i in range(1, 6):\n",
    "    print(i)\n",
    "else:\n",
    "    print(\"Done\")"
   ]
  },
  {
   "cell_type": "code",
   "execution_count": 9,
   "metadata": {},
   "outputs": [
    {
     "name": "stdout",
     "output_type": "stream",
     "text": [
      "1\n",
      "2\n"
     ]
    }
   ],
   "source": [
    " count = 0\n",
    "for i in range(1, 6):\n",
    "    count = count + 1\n",
    "    if count > 2:\n",
    "        break\n",
    "    else:\n",
    "        print(i)\n",
    "else:\n",
    "    print(\"Done\")"
   ]
  },
  {
   "cell_type": "code",
   "execution_count": 6,
   "metadata": {},
   "outputs": [],
   "source": [
    "from typing import List\n",
    "class Solution:\n",
    "    def largestOverlap(self, A: List[List[int]], B: List[List[int]]) -> int:\n",
    "        a_1 = []\n",
    "        b_1 = []\n",
    "        for i in range(len(A)):\n",
    "            for j in range(len(A[0])):\n",
    "                if A[i][j] == 1:\n",
    "                    a_1.append((i,j))\n",
    "                if B[i][j] == 1:\n",
    "                    b_1.append((i,j))\n",
    "        d = {}\n",
    "        ans = 0\n",
    "        for a_x, a_y in a_1:\n",
    "            for b_x,b_y in  b_1:\n",
    "                tr = (b_x - a_x, b_y - a_y)\n",
    "                if tr in d:\n",
    "                    d[tr] += 1\n",
    "                else:\n",
    "                    d[tr] = 1\n",
    "                ans = max(ans, d[tr])\n",
    "        return ans"
   ]
  },
  {
   "cell_type": "code",
   "execution_count": 7,
   "metadata": {},
   "outputs": [],
   "source": [
    "img1 = [[1,1,0],[0,1,0],[0,1,0]]\n",
    "img2 = [[0,0,0],[0,1,1],[0,0,1]]"
   ]
  },
  {
   "cell_type": "code",
   "execution_count": 62,
   "metadata": {},
   "outputs": [
    {
     "name": "stdout",
     "output_type": "stream",
     "text": [
      "[(0, 0), (0, 1), (1, 1), (2, 1)]\n",
      "[(1, 1), (1, 2), (2, 2)]\n",
      "3\n",
      "{(1, 1): 3, (1, 2): 1, (2, 2): 1, (1, 0): 1, (2, 1): 1, (0, 0): 1, (0, 1): 2, (-1, 0): 1, (-1, 1): 1}\n"
     ]
    }
   ],
   "source": [
    "A = [[1,1,0],[0,1,0],[0,1,0]]\n",
    "B = [[0,0,0],[0,1,1],[0,0,1]] \n",
    "a_1 = []\n",
    "b_1 = []\n",
    "for i in range(len(A)):\n",
    "    for j in range(len(A[0])):\n",
    "        if A[i][j] == 1:\n",
    "            a_1.append((i,j))\n",
    "        if B[i][j] == 1:\n",
    "                b_1.append((i,j))\n",
    "        d = {}\n",
    "        ans = 0\n",
    "print(a_1)\n",
    "print(b_1)\n",
    "for a_x, a_y in a_1:\n",
    "            for b_x,b_y in  b_1:\n",
    "                tr = (b_x - a_x, b_y - a_y)\n",
    "                if tr in d:\n",
    "                    d[tr] += 1\n",
    "                else:\n",
    "                    d[tr] = 1\n",
    "                ans = max(ans, d[tr])\n",
    "print(ans)\n",
    "print(d)"
   ]
  },
  {
   "cell_type": "code",
   "execution_count": 60,
   "metadata": {},
   "outputs": [],
   "source": [
    "numbers= [1, 2, 1, 3, 4]\n",
    "def solution(numbers):\n",
    "    j=0\n",
    "    list=[]\n",
    "    for i in numbers:\n",
    "        if j<=len(numbers)-3:\n",
    "            if (numbers[j]>numbers[j+1] and numbers[j+2]>numbers[j+1]) or (numbers[j+2]<numbers[j+1] and numbers[j]<numbers[j+1]):\n",
    "                list.append(1)\n",
    "            else: list.append(0)\n",
    "            j=j+1\n",
    "    return list\n",
    "\n"
   ]
  },
  {
   "cell_type": "code",
   "execution_count": 61,
   "metadata": {},
   "outputs": [
    {
     "data": {
      "text/plain": [
       "[1, 1, 0]"
      ]
     },
     "execution_count": 61,
     "metadata": {},
     "output_type": "execute_result"
    }
   ],
   "source": [
    "solution(numbers)"
   ]
  },
  {
   "cell_type": "code",
   "execution_count": 87,
   "metadata": {},
   "outputs": [],
   "source": [
    "a = [1, 4, 5, 6, 3]\n",
    "def solution(list):\n",
    "    b=[]\n",
    "    if len(a)%2==0:\n",
    "        i=0\n",
    "        while i<=len(a)/2:\n",
    "            b.append(a[i])\n",
    "            b.append(a[len(a)-i-1])\n",
    "            i+=1\n",
    "    else:\n",
    "        i=0\n",
    "        while i<int(len(a)/2):\n",
    "            b.append(a[i])\n",
    "            b.append(a[len(a)-i-1])\n",
    "            i+=1\n",
    "        b.append(a[int(len(a)/2)])\n",
    "    if b==sorted(a):\n",
    "        print(\"true\")\n",
    "    else:\n",
    "        print(\"false\")\n",
    "    "
   ]
  },
  {
   "cell_type": "code",
   "execution_count": 88,
   "metadata": {},
   "outputs": [
    {
     "name": "stdout",
     "output_type": "stream",
     "text": [
      "false\n"
     ]
    }
   ],
   "source": [
    "a = [1, 4, 5, 6, 3]\n",
    "solution(b)"
   ]
  },
  {
   "cell_type": "code",
   "execution_count": 89,
   "metadata": {},
   "outputs": [],
   "source": [
    "b=[]\n",
    "if len(a)%2==0:\n",
    "    i=0\n",
    "    while i<=len(a)/2:\n",
    "        b.append(a[i])\n",
    "        b.append(a[len(a)-i-1])\n",
    "        i+=1\n",
    "else:\n",
    "    i=0\n",
    "    while i<int(len(a)/2):\n",
    "        b.append(a[i])\n",
    "        b.append(a[len(a)-i-1])\n",
    "        i+=1\n",
    "    b.append(a[int(len(a)/2)])"
   ]
  },
  {
   "cell_type": "code",
   "execution_count": 90,
   "metadata": {},
   "outputs": [
    {
     "name": "stdout",
     "output_type": "stream",
     "text": [
      "[1, 3, 4, 6, 5]\n"
     ]
    }
   ],
   "source": [
    "print(b)"
   ]
  },
  {
   "cell_type": "code",
   "execution_count": 16,
   "metadata": {},
   "outputs": [
    {
     "name": "stdout",
     "output_type": "stream",
     "text": [
      "116\n",
      "115\n"
     ]
    }
   ],
   "source": [
    "print(ord(\"t\"))\n",
    "print(ord(\"s\"))"
   ]
  },
  {
   "cell_type": "code",
   "execution_count": 38,
   "metadata": {},
   "outputs": [
    {
     "name": "stdout",
     "output_type": "stream",
     "text": [
      "stouperwer\n"
     ]
    }
   ],
   "source": [
    "s1 = \"super\"\n",
    "s2 = \"tower\"\n",
    "#s1 = \"dce\"  \n",
    "#s2 = \"cccbd\"\n",
    "a=list(s1)\n",
    "b=list(s2)\n",
    "i=0\n",
    "j=0\n",
    "s=''\n",
    "ss=''\n",
    "if len(set(s2)) == len(s2) and len(set(s1)) == len(s1):\n",
    "    while i<len(a) and j<len(b):\n",
    "        if ord(a[i])<ord(b[j]):\n",
    "            s=s+str(a[i])\n",
    "            i+=1\n",
    "        elif ord(a[i])>ord(b[j]):\n",
    "            s=s+str(b[j])\n",
    "            j+=1\n",
    "    while i<len(a):\n",
    "        s=s+str(a[i])\n",
    "        i+=1\n",
    "    while j<len(b):\n",
    "        s=s+str(b[j])\n",
    "        j+=1\n",
    "\n",
    "elif len(set(s2)) != len(s2) and len(set(s1)) == len(s1):\n",
    "    s=str(s1)+str(s2)\n",
    "elif len(set(s2)) == len(s2) and len(set(s1)) != len(s1):\n",
    "    s=str(s2)+str(s1)\n",
    "elif len(set(s2)) != len(s2) and len(set(s1)) != len(s1):\n",
    "    s=str(s1)+str(s2)\n",
    "print(s)"
   ]
  },
  {
   "cell_type": "code",
   "execution_count": 41,
   "metadata": {},
   "outputs": [
    {
     "name": "stdout",
     "output_type": "stream",
     "text": [
      "01234\n",
      "['P', 'y', 't', 'h', 'o', 'n']\n",
      "{'a': 4, 'c': 3}\n"
     ]
    }
   ],
   "source": [
    "s = \"\"\n",
    "for i in range(5):\n",
    "    s+=str(i)\n",
    "print(s)\n",
    "my_string = 'Python'\n",
    "tokens = list(my_string)\n",
    "print(tokens)\n",
    "s1='aacccaa'\n",
    "record1={}\n",
    "for ch in s1:\n",
    "    record1[ch] = record1.get(ch,0)+1\n",
    "print(record1)"
   ]
  },
  {
   "cell_type": "code",
   "execution_count": 30,
   "metadata": {},
   "outputs": [],
   "source": [
    "s1 = \"super\"\n",
    "s2 = \"tower\"\n",
    "def mergeStrings(s1, s2):\n",
    "    \n",
    "    # record appear times\n",
    "    record1 = {}\n",
    "    record2 = {}\n",
    "    for ch in s1:\n",
    "        record1[ch] = record1.get(ch,0)+1\n",
    "    for ch in s2:\n",
    "        record2[ch] = record2.get(ch,0)+1\n",
    "    \n",
    "    # merge with two pointers\n",
    "    pt1 = 0\n",
    "    pt2 = 0\n",
    "    len1 = len(s1)\n",
    "    len2 = len(s2)\n",
    "    res = []\n",
    "    while pt1 < len1 and pt2 < len2:\n",
    "        if record1[s1[pt1]] < record2[s2[pt2]]:\n",
    "            res.append(s1[pt1])\n",
    "            pt1 += 1\n",
    "        elif record1[s1[pt1]] > record2[s2[pt2]]:\n",
    "            res.append(s2[pt2])\n",
    "            pt2 += 1\n",
    "        else:\n",
    "            # if equal times\n",
    "            if s1[pt1] <= s2[pt2]:\n",
    "                res.append(s1[pt1])\n",
    "                pt1 += 1\n",
    "            elif s1[pt1] > s2[pt2]:\n",
    "                res.append(s2[pt2])\n",
    "                pt2 += 1\n",
    "                \n",
    "    # continue with the remaining characters\n",
    "    while pt1 < len1:\n",
    "        res.append(s1[pt1])\n",
    "        pt1 += 1\n",
    "    \n",
    "    while pt2 < len2:\n",
    "        res.append(s2[pt2])\n",
    "        pt2 += 1\n",
    "    return \"\".join(res)"
   ]
  },
  {
   "cell_type": "code",
   "execution_count": 31,
   "metadata": {},
   "outputs": [
    {
     "data": {
      "text/plain": [
       "'stouperwer'"
      ]
     },
     "execution_count": 31,
     "metadata": {},
     "output_type": "execute_result"
    }
   ],
   "source": [
    "mergeStrings(s1, s2)"
   ]
  },
  {
   "cell_type": "code",
   "execution_count": 43,
   "metadata": {},
   "outputs": [],
   "source": [
    "def addToValue(hmap,k):\n",
    "    for key,val in hmap.items():\n",
    "        hmap[key]+=k\n",
    "        return hmap\n",
    "def addToKey(hmap,k):\n",
    "    newHmap={}\n",
    "    for key,val in hmap.items():\n",
    "        newKey = key+k\n",
    "        newHmap[newKey]=val\n",
    "        return newHmap\n",
    "\n",
    "def solution(queryType, query):\n",
    "    ans = 0\n",
    "    hmap = {}\n",
    "    ck = 0\n",
    "    cv = 0\n",
    "    for i in range(len(queryType)):\n",
    "        cmd = queryType[i]\n",
    "        quer = query[i]\n",
    "        if cmd == \"insert\":\n",
    "            key,val = quer[0],quer[1]\n",
    "            hmap[key-ck]=val-cv\n",
    "        elif cmd == \"addToValue\":\n",
    "            k = quer[0]\n",
    "            cv+=k\n",
    "        elif cmd == \"addToKey\":\n",
    "            k = quer[0]\n",
    "            ck+=k\n",
    "        else:\n",
    "            k = quer[0]\n",
    "            k-=ck\n",
    "            val = hmap[k] + cv\n",
    "            ans = ans + val\n",
    "    return ans"
   ]
  },
  {
   "cell_type": "code",
   "execution_count": 44,
   "metadata": {},
   "outputs": [
    {
     "data": {
      "text/plain": [
       "5"
      ]
     },
     "execution_count": 44,
     "metadata": {},
     "output_type": "execute_result"
    }
   ],
   "source": [
    "queryType = [\"insert\", \"insert\", \"addToValue\", \"addToKey\", \"get\"]\n",
    "query = [[1, 2], [2, 3], [2], [1], [3]]\n",
    "solution(queryType, query) "
   ]
  },
  {
   "cell_type": "code",
   "execution_count": null,
   "metadata": {},
   "outputs": [],
   "source": []
  },
  {
   "cell_type": "code",
   "execution_count": 53,
   "metadata": {},
   "outputs": [
    {
     "data": {
      "text/plain": [
       "[9]"
      ]
     },
     "execution_count": 53,
     "metadata": {},
     "output_type": "execute_result"
    }
   ],
   "source": [
    "#a = [4, 0, 1, -2, 3]\n",
    "a=[9]\n",
    "def solution(a):\n",
    "    b=[]\n",
    "    i=0\n",
    "    if len(a)==1:\n",
    "        b=a\n",
    "    else:\n",
    "        while i<len(a):\n",
    "            if i==0:\n",
    "                b.append(0+a[i]+a[i+1])\n",
    "                i+=1\n",
    "            elif i+1>=len(a):\n",
    "                b.append(0+a[i]+a[i-1])\n",
    "                break\n",
    "            else:\n",
    "                b.append(a[i-1]+a[i]+a[i+1])\n",
    "                i+=1\n",
    "    return b\n",
    "\n",
    "solution(a)"
   ]
  },
  {
   "cell_type": "code",
   "execution_count": null,
   "metadata": {},
   "outputs": [],
   "source": []
  },
  {
   "cell_type": "code",
   "execution_count": 9,
   "metadata": {},
   "outputs": [
    {
     "name": "stdout",
     "output_type": "stream",
     "text": [
      "\n"
     ]
    }
   ],
   "source": []
  },
  {
   "cell_type": "markdown",
   "metadata": {},
   "source": [
    "You are given a string s. Consider the following algorithm applied to this string:\n",
    "1.\tTake all the prefixes of the string, and choose the longest palindrome between them.\n",
    "2.\tIf this chosen prefix contains at least two characters, cut this prefix from s and go back to the first step with the updated string. Otherwise, end the algorithm with the current string s as a result.\n",
    "Your task is to implement the above algorithm and return its result when applied to string s.\n",
    "Note: you can click on the prefixes and palindrome words to see the definition of the terms if you're not familiar with them.\n"
   ]
  },
  {
   "cell_type": "code",
   "execution_count": 14,
   "metadata": {},
   "outputs": [
    {
     "data": {
      "text/plain": [
       "''"
      ]
     },
     "execution_count": 14,
     "metadata": {},
     "output_type": "execute_result"
    }
   ],
   "source": [
    "s='c'\n",
    "s = \"aaacodedoc\"\n",
    "def solution(s):\n",
    "    n = len(s)\n",
    "    l=0\n",
    "    ml=0\n",
    "    if n==1:\n",
    "        r=s\n",
    "    else:\n",
    "        \n",
    "        while l<len(s) and n>1:\n",
    "            temp = s[ml:l]\n",
    "            temp2 = temp\n",
    "            temp3 = temp2[::-1]\n",
    "            if temp == temp3:\n",
    "                ml=l+1\n",
    "                l+=1\n",
    "            else:\n",
    "                l+=1\n",
    "    if ml!=0:r=s[ml+1:n]\n",
    "    else:r=s\n",
    "    return r\n",
    "\n",
    "solution(s)"
   ]
  },
  {
   "cell_type": "markdown",
   "metadata": {},
   "source": [
    "You are given a matrix of integers field of size n × m representing a game field, and also a matrix of integers figure of size 3 × 3 representing a figure. Both matrices contain only 0s and 1s, where 1 means that the cell is occupied, and 0 means that the cell is free.\n",
    "You choose a position at the top of the game field where you put the figure and then drop it down. The figure falls down until it either reaches the ground (bottom of the field) or lands on an occupied cell, which blocks it from falling further. After the figure has stopped falling, some of the rows in the field may become fully occupied.\n"
   ]
  },
  {
   "cell_type": "code",
   "execution_count": 83,
   "metadata": {},
   "outputs": [
    {
     "name": "stdout",
     "output_type": "stream",
     "text": [
      "0\n",
      "1\n"
     ]
    }
   ],
   "source": [
    "for i in range(1):\n",
    "    print(i)\n",
    "field =  [[0, 0, 0, 0],\n",
    "         [0, 0, 0, 0],\n",
    "        [0, 0, 0, 0],\n",
    "        [1, 0, 0, 1],\n",
    "         [1, 1, 0, 1]]\n",
    "print(field[3][0])"
   ]
  },
  {
   "cell_type": "code",
   "execution_count": 96,
   "metadata": {},
   "outputs": [
    {
     "name": "stdout",
     "output_type": "stream",
     "text": [
      "-1\n"
     ]
    }
   ],
   "source": [
    "field =  [[0, 0, 0, 0],\n",
    "         [0, 0, 0, 0],\n",
    "        [0, 0, 0, 0],\n",
    "        [1, 0, 0, 1],\n",
    "         [1, 1, 0, 1]]\n",
    "figure = [[1, 1, 0],\n",
    "          [1, 0, 0],\n",
    "          [1, 0, 0]]\n",
    "h=len(field)\n",
    "w=len(field[0])\n",
    "fs=len(figure)\n",
    "for col in range(w-fs+1):\n",
    "    r=1\n",
    "    can_fit=True\n",
    "    while r<h-fs+1:\n",
    "        for dx in range(fs):\n",
    "            for dy in range(fs):\n",
    "                if field[r+dx][col+dy]==1 and figure[dx][dy]==1:\n",
    "                    can_fit=False\n",
    "            if can_fit==False:\n",
    "                break\n",
    "        r+=1\n",
    "    r-=1\n",
    "for dx in range(fs):\n",
    "    row_fill=True\n",
    "    for col_index in range(w):\n",
    "        if not (field[row+dx][col_index]==1 or figure[dx][col_index - col]==1) and col + figure_size>col_index>=col:\n",
    "            row_fill=False\n",
    "    if row_fill:\n",
    "        print(column)\n",
    "if row_fill==False:\n",
    "    print(-1)\n",
    "           \n",
    "                "
   ]
  },
  {
   "cell_type": "code",
   "execution_count": 88,
   "metadata": {},
   "outputs": [
    {
     "name": "stdout",
     "output_type": "stream",
     "text": [
      "2\n",
      "2\n",
      "2\n"
     ]
    }
   ],
   "source": [
    "figure = [[1, 1, 1],\n",
    "          [1, 0, 1],\n",
    "          [1, 0, 1]]\n",
    "field =  [[0, 0, 0, 0, 0],\n",
    "         [0, 0, 0, 0, 0],\n",
    "          [0, 0, 0, 0, 0],\n",
    "         [1, 0, 1, 0, 1]]\n",
    "height = len(field)\n",
    "width = len(field[0])\n",
    "figure_size = len(figure)\n",
    "for column in range(width - figure_size + 1):\n",
    "    row = 1\n",
    "    while row < height - figure_size + 1:\n",
    "        can_fit = True\n",
    "        for dx in range(figure_size):\n",
    "            for dy in range(figure_size):\n",
    "                if field[row + dx][column + dy] == 1 and figure[dx][dy] == 1:\n",
    "                    can_fit = False\n",
    "            if not can_fit:\n",
    "                break\n",
    "        row += 1\n",
    "    row -= 1\n",
    "for dx in range(figure_size):\n",
    "    row_fill=True\n",
    "    for col_index in range(figure_size):\n",
    "        if not (field[row+dx][col_index]==1 or figure[dx][column_index - col]==1) and col + figure_size>col_index>=col:\n",
    "            row_fill=False\n",
    "    if row_fill:\n",
    "        print(column)"
   ]
  },
  {
   "cell_type": "code",
   "execution_count": 90,
   "metadata": {},
   "outputs": [],
   "source": [
    "def solution(field, figure):\n",
    "    height = len(field)\n",
    "    width = len(field[0])\n",
    "    figure_size = len(figure)\n",
    "    for column in range(width - figure_size + 1):\n",
    "        row = 1\n",
    "        while row < height - figure_size + 1:\n",
    "            can_fit = True\n",
    "            for dx in range(figure_size):\n",
    "                for dy in range(figure_size):\n",
    "                    if field[row + dx][column + dy] == 1 and figure[dx][dy] == 1:\n",
    "                        can_fit = False\n",
    "                if not can_fit:\n",
    "                    break\n",
    "            row += 1\n",
    "        row -= 1\n",
    "    for dx in range(figure_size):\n",
    "        row_filled = True\n",
    "        for column_index in range(width):\n",
    "            if not (field[row + dx][column_index] == 1 or\n",
    "                    (column <= column_index < column + figure_size and\\\n",
    "                     figure[dx][column_index - column] == 1)):\n",
    "                row_filled = False\n",
    "        if row_filled:\n",
    "            return column\n",
    "    return -1"
   ]
  },
  {
   "cell_type": "code",
   "execution_count": 91,
   "metadata": {},
   "outputs": [
    {
     "data": {
      "text/plain": [
       "-1"
      ]
     },
     "execution_count": 91,
     "metadata": {},
     "output_type": "execute_result"
    }
   ],
   "source": [
    "figure = [[1, 1, 1],\n",
    "          [1, 0, 1],\n",
    "          [1, 0, 1]]\n",
    "field =  [[0, 0, 0, 0, 0],\n",
    "         [0, 0, 0, 0, 0],\n",
    "          [0, 0, 0, 0, 0],\n",
    "         [1, 0, 1, 0, 1]]\n",
    "solution(field, figure)"
   ]
  },
  {
   "cell_type": "markdown",
   "metadata": {},
   "source": [
    "Given an array of unique integers numbers, your task is to find the number of pairs of indices (i, j) such that i ≤ j and the sum numbers[i] + numbers[j] is equal to some power of 2.\n",
    "\n",
    "Note: The numbers 20  = 1, 21 = 2, 22 = 4, 23 = 8, etc. are considered to be powers of 2.\n",
    "\n",
    "Example\n",
    "\n",
    "For numbers = [1, -1, 2, 3], the output should be solution(numbers) = 5.\n",
    "– There is one pair of indices where the sum of the elements is 20 = 1: (1, 2): numbers[1] + numbers[2] = -1 + 2 = 1\n",
    "– There are two pairs of indices where the sum of the elements is 21 = 2: (0, 0) and (1, 3)\n",
    "– There are two pairs of indices where the sum of the elements is 22 = 4: (0, 3) and (2, 2)\n",
    "– In total, there are 1 + 2 + 2 = 5 pairs summing to powers of 2.\n",
    "\n",
    "For numbers = [2], the output should be solution(numbers) = 1.\n",
    "– The only pair of indices is (0, 0) and the sum is equal to 22 = 4. So, the answer is 1.\n",
    "\n",
    "For numbers = [-2, -1, 0, 1, 2], the output should be solution(numbers) = 5.\n",
    "– There are two pairs of indices where the sum of the elements is 20 = 1: (2, 3) and (1, 4)\n",
    "– There are two pairs of indices where the sum of the elements is 21 = 2: (2, 4) and (3, 3)\n",
    "– There is one pair of indices where the sum of the elements is 22 = 4: (4, 4)\n",
    "– In total, there are 2 + 2 + 1 = 5 pairs summing to powers of 2. \n",
    "\n",
    "Guaranteed constraints:\n",
    "\n",
    "1 ≤ numbers.length ≤ 105\n",
    "-106 ≤ numbers[i] ≤ 106"
   ]
  },
  {
   "cell_type": "code",
   "execution_count": 71,
   "metadata": {},
   "outputs": [],
   "source": [
    "#1%2\n",
    "import math\n",
    "math.log2(1)\n",
    "def Log2(x):\n",
    "    return (math.log10(x) /\n",
    "            math.log10(2));"
   ]
  },
  {
   "cell_type": "code",
   "execution_count": 21,
   "metadata": {},
   "outputs": [
    {
     "name": "stdout",
     "output_type": "stream",
     "text": [
      "3.0\n"
     ]
    },
    {
     "data": {
      "text/plain": [
       "False"
      ]
     },
     "execution_count": 21,
     "metadata": {},
     "output_type": "execute_result"
    }
   ],
   "source": [
    "import math\n",
    "print(math.log10(8) /math.log10(2))\n",
    "isinstance(math.log10(8)/math.log10(2), int)"
   ]
  },
  {
   "cell_type": "code",
   "execution_count": 13,
   "metadata": {},
   "outputs": [
    {
     "name": "stdout",
     "output_type": "stream",
     "text": [
      "6\n",
      "[(0, 0), (0, 3), (1, 2), (1, 3), (2, 2), (3, 3)]\n"
     ]
    }
   ],
   "source": [
    "numbers = [1, -1, 2, 3]\n",
    "#numbers = [-2, -1, 0, 1, 2]\n",
    "cnt=0\n",
    "b=[]\n",
    "for i in range(len(numbers)):\n",
    "    for j in range(len(numbers)):\n",
    "        if ((numbers[i]+numbers[j])%2==0 or numbers[i]+numbers[j]==1) and i<=j and (numbers[i]+numbers[j])>0:\n",
    "            cnt+=1\n",
    "            b.append((i,j))\n",
    "print(cnt)\n",
    "print(b)"
   ]
  },
  {
   "cell_type": "code",
   "execution_count": 30,
   "metadata": {},
   "outputs": [],
   "source": [
    "import math\n",
    "def Log2(x):\n",
    "    if x == 0:\n",
    "        return false\n",
    "    return (math.log10(x)/math.log10(2))\n",
    "def isPowerOfTwo(n):\n",
    "    return (math.ceil(Log2(n)) ==\n",
    "            math.floor(Log2(n)))"
   ]
  },
  {
   "cell_type": "code",
   "execution_count": 31,
   "metadata": {},
   "outputs": [
    {
     "data": {
      "text/plain": [
       "5"
      ]
     },
     "execution_count": 31,
     "metadata": {},
     "output_type": "execute_result"
    }
   ],
   "source": [
    "\n",
    "def solution(numbers):\n",
    "    cn=0\n",
    "    \n",
    "    for i in range(len(numbers)):\n",
    "            for j in range(len(numbers)):\n",
    "                if (numbers[i]+numbers[j])>0:\n",
    "                    if isPowerOfTwo(numbers[i]+numbers[j]) and i<=j:\n",
    "                        cn+=1\n",
    "\n",
    "    return cn\n",
    "#numbers=[2]\n",
    "#solution(numbers)\n",
    "numbers = [-2, -1, 0, 1, 2]\n",
    "solution(numbers)"
   ]
  },
  {
   "cell_type": "code",
   "execution_count": 59,
   "metadata": {},
   "outputs": [
    {
     "data": {
      "text/plain": [
       "5"
      ]
     },
     "execution_count": 59,
     "metadata": {},
     "output_type": "execute_result"
    }
   ],
   "source": [
    "from collections import defaultdict\n",
    "\n",
    "def solution(numbers):\n",
    "        counts = defaultdict(int)\n",
    "        answer = 0\n",
    "        for element in numbers:\n",
    "            counts[element] += 1\n",
    "            for two_power in range(21):\n",
    "                second_element = (1 << two_power) - element\n",
    "                answer += counts[second_element]\n",
    "        return answer\n",
    "numbers=[2]\n",
    "solution(numbers)\n",
    "numbers = [-2, -1, 0, 1, 2]\n",
    "solution(numbers)"
   ]
  },
  {
   "cell_type": "code",
   "execution_count": 77,
   "metadata": {},
   "outputs": [
    {
     "name": "stdout",
     "output_type": "stream",
     "text": [
      "28.24.14\n"
     ]
    }
   ],
   "source": [
    "import requests\n",
    "import json\n",
    "url = 'https://api.codesignalcontent.com/libraries1_1/libraries/express/latest'\n",
    "\n",
    "params = dict(\n",
    "    name='express',\n",
    "    version='28.24.14',\n",
    "    installedOnServer='true'\n",
    "\n",
    ")\n",
    "\n",
    "resp = requests.get(url=url, params=params)\n",
    "data = resp.json() \n",
    "#y = json.loads(data)\n",
    "print(data[\"version\"])"
   ]
  },
  {
   "cell_type": "markdown",
   "metadata": {},
   "source": [
    "ou are given an array of integers numbers and two integers left and right. You task is to calculate a boolean array result, where result[i] = true if there exists an integer x, such that numbers[i] = (i + 1) * x and left ≤ x ≤ right. Otherwise, result[i] should be set to false.\n",
    "\n",
    "Example\n",
    "\n",
    "For numbers = [8, 5, 6, 16, 5], left = 1, and right = 3, the output should be solution(numbers, left, right) = [false, false, true, false, true].\n",
    "\n",
    "For numbers[0] = 8, we need to find a value of x such that 1 * x = 8, but the only value that would work is x = 8 which doesn't satisfy the boundaries 1 ≤ x ≤ 3, so result[0] = false.\n",
    "For numbers[1] = 5, we need to find a value of x such that 2 * x = 5, but there is no integer value that would satisfy this equation, so result[1] = false.\n",
    "For numbers[2] = 6, we can choose x = 2 because 3 * 2 = 6 and 1 ≤ 2 ≤ 3, so result[2] = true.\n",
    "For numbers[3] = 16, there is no an integer 1 ≤ x ≤ 3, such that 4 * x = 16, so result[3] = false.\n",
    "For numbers[4] = 5, we can choose x = 1 because 5 * 1 = 5 and 1 ≤ 1 ≤ 3, so result[4] = true."
   ]
  },
  {
   "cell_type": "code",
   "execution_count": 78,
   "metadata": {},
   "outputs": [
    {
     "data": {
      "text/plain": [
       "[False, False, True, False, True]"
      ]
     },
     "execution_count": 78,
     "metadata": {},
     "output_type": "execute_result"
    }
   ],
   "source": [
    "def solution(numbers, left, right):\n",
    "    i=0\n",
    "    results=[]\n",
    "    while i<len(numbers):\n",
    "        k=0\n",
    "        for x in range(left,right+1):\n",
    "            if numbers[i]==(i+1)*x:\n",
    "                k=1\n",
    "                l=True\n",
    "                results.append(l)\n",
    "                break\n",
    "        i+=1\n",
    "        if k==0:\n",
    "            l=False\n",
    "            results.append(l)\n",
    "    return results\n",
    "numbers = [8, 5, 6, 16, 5]\n",
    "left = 1\n",
    "right = 3\n",
    "solution(numbers, left, right) "
   ]
  },
  {
   "cell_type": "markdown",
   "metadata": {},
   "source": [
    "You are given an array of non-negative integers numbers. You are allowed to choose any number from this array and swap any two digits in it. If after the swap operation the number contains leading zeros, they can be omitted and not considered (eg: 010 will be considered just 10).\n",
    "\n",
    "Your task is to check whether it is possible to apply the swap operation at most once, so that the elements of the resulting array are strictly increasing.\n",
    "\n",
    "Example\n",
    "\n",
    "For numbers = [1, 5, 10, 20], the output should be solution(numbers) = true.\n",
    "\n",
    "The initial array is already strictly increasing, so no actions are required.\n",
    "\n",
    "For numbers = [1, 3, 900, 10], the output should be solution(numbers) = true.\n",
    "\n",
    "By choosing numbers[2] = 900 and swapping its first and third digits, the resulting number 009 is considered to be just 9. So the updated array will look like [1, 3, 9, 10], which is strictly increasing.\n",
    "\n",
    "For numbers = [13, 31, 30], the output should be solution(numbers) = false.\n",
    "\n",
    "The initial array elements are not increasing.\n",
    "By swapping the digits of numbers[0] = 13, the array becomes [31, 31, 30] which is not strictly increasing;\n",
    "By swapping the digits of numbers[1] = 31, the array becomes [13, 13, 30] which is not strictly increasing;\n",
    "By swapping the digits of numbers[2] = 30, the array becomes [13, 31, 3] which is not strictly increasing;\n",
    "So, it's not possible to obtain a strictly increasing array, and the answer is false."
   ]
  },
  {
   "cell_type": "code",
   "execution_count": 79,
   "metadata": {},
   "outputs": [],
   "source": [
    "def solution(numbers):\n",
    "    r=0\n",
    "    i=0\n",
    "    while i<len(numbers):\n",
    "        gg=str(numbers[i])\n",
    "        k=0\n",
    "        fake=numbers\n",
    "        if \"0\" in gg:\n",
    "            fake[i]=int(str(fake[i]).strip(\"0\"))\n",
    "            k=1\n",
    "        if fake==sorted(fake):\n",
    "                r+=1\n",
    "                \n",
    "        i+=1\n",
    "    if r>0 or numbers==sorted(numbers):\n",
    "        return True\n",
    "    else:\n",
    "        return False\n",
    "    "
   ]
  },
  {
   "cell_type": "markdown",
   "metadata": {},
   "source": [
    "You are given an array of strings arr. Your task is to construct a string from the words in arr, starting with the 0th character from each word (in the order they appear in arr), followed by the 1st character, then the 2nd character, etc. If one of the words doesn't have an ith character, skip that word.\n",
    "\n",
    "Return the resulting string.\n",
    "\n",
    "Example\n",
    "\n",
    "For arr = [\"Daisy\", \"Rose\", \"Hyacinth\", \"Poppy\"], the output should be solution(arr) = \"DRHPaoyoisapsecpyiynth\".\n",
    "\n",
    "First, we append all 0th characters and obtain string \"DRHP\";\n",
    "Then we append all 1st characters and obtain string \"DRHPaoyo\";\n",
    "Then we append all 2nd characters and obtain string \"DRHPaoyoisap\";\n",
    "Then we append all 3rd characters and obtain string \"DRHPaoyoisapsecp\";\n",
    "Then we append all 4th characters and obtain string \"DRHPaoyoisapsecpyiy\";\n",
    "Finally, only letters in the arr[2] are left, so we append the rest characters and get \"DRHPaoyoisapsecpyiynth\";\n",
    "example\n",
    "\n",
    "For arr = [\"E\", \"M\", \"I\", \"L\", \"Y\"], the output should be solution(arr) = \"EMILY\".\n",
    "\n",
    "Since each of these strings have only one character, the answer will be concatenation of each string in order, so the answer is EMILY."
   ]
  },
  {
   "cell_type": "code",
   "execution_count": 80,
   "metadata": {},
   "outputs": [],
   "source": [
    "def solution(arr):\n",
    "    ml=0\n",
    "    j=0\n",
    "    string=\"\"\n",
    "    for i in arr:\n",
    "        l=len(i)\n",
    "        if ml<l:ml=l\n",
    "            \n",
    "    while j<ml:\n",
    "        ii=0\n",
    "        while ii<len(arr):\n",
    "            if j<len(arr[ii]):\n",
    "                string=str(string)+str(arr[ii][j])\n",
    "            ii+=1\n",
    "                    \n",
    "        j+=1\n",
    "    return string\n",
    "        \n",
    "        "
   ]
  },
  {
   "cell_type": "code",
   "execution_count": 81,
   "metadata": {},
   "outputs": [
    {
     "data": {
      "text/plain": [
       "True"
      ]
     },
     "execution_count": 81,
     "metadata": {},
     "output_type": "execute_result"
    }
   ],
   "source": [
    "arr = [\"E\", \"M\", \"I\", \"L\", \"Y\"]\n",
    "solution(arr)\n",
    "arr = [\"Daisy\", \"Rose\", \"Hyacinth\", \"Poppy\"]\n",
    "solution(arr)=='DRHPaoyoisapsecpyiynth'"
   ]
  },
  {
   "cell_type": "code",
   "execution_count": 84,
   "metadata": {},
   "outputs": [
    {
     "name": "stdout",
     "output_type": "stream",
     "text": [
      "0\n",
      "D\n",
      "0\n",
      "DR\n",
      "0\n",
      "DRH\n",
      "0\n",
      "DRHP\n",
      "0\n",
      "1\n",
      "DRHPa\n",
      "1\n",
      "DRHPao\n",
      "1\n",
      "DRHPaoy\n",
      "1\n",
      "DRHPaoyo\n",
      "1\n",
      "2\n",
      "DRHPaoyoi\n",
      "2\n",
      "DRHPaoyois\n",
      "2\n",
      "DRHPaoyoisa\n",
      "2\n",
      "DRHPaoyoisap\n",
      "2\n",
      "3\n",
      "DRHPaoyoisaps\n",
      "3\n",
      "DRHPaoyoisapse\n",
      "3\n",
      "DRHPaoyoisapsec\n",
      "3\n",
      "DRHPaoyoisapsecp\n",
      "3\n",
      "4\n",
      "DRHPaoyoisapsecpy\n",
      "4\n",
      "DRHPaoyoisapsecpyi\n",
      "4\n",
      "DRHPaoyoisapsecpyiy\n",
      "4\n",
      "5\n",
      "DRHPaoyoisapsecpyiyn\n",
      "5\n",
      "6\n",
      "DRHPaoyoisapsecpyiynt\n",
      "6\n",
      "7\n",
      "DRHPaoyoisapsecpyiynth\n",
      "7\n"
     ]
    }
   ],
   "source": [
    "arr = [\"Daisy\", \"Rose\", \"Hyacinth\", \"Poppy\"]\n",
    "ml=0\n",
    "j=0\n",
    "string=\"\"\n",
    "for i in arr:\n",
    "    l=len(i)\n",
    "    if ml<l:ml=l\n",
    "while j<ml:\n",
    "    print(j)\n",
    "    ii=0\n",
    "    for ii in range(len(arr)):\n",
    "        if j<len(arr[ii]):\n",
    "            string=str(string)+str(arr[ii][j])\n",
    "            print(string)\n",
    "            print(j)\n",
    "    j+=1\n",
    "\n",
    "#while --- for --- only for execute once if for grab firat and last items!!\n",
    "    "
   ]
  },
  {
   "cell_type": "markdown",
   "metadata": {},
   "source": [
    "Given an array of unique integers numbers, your task is to find the number of pairs of indices (i, j) such that i ≤ j and the sum numbers[i] + numbers[j] is equal to some power of 2.\n",
    "\n",
    "Note: numbers 20 = 1, 21 = 2, 22 = 4, 23 = 8, etc. are considered to be powers of 2.\n",
    "\n",
    "Example\n",
    "\n",
    "For numbers = [1, -1, 2, 3], the output should be solution(numbers) = 5.\n",
    "There is one pair of indices where the corresponding elements sum up to 20 = 1:\n",
    "(1, 2): numbers[1] + numbers[2] = -1 + 2 = 1\n",
    "There are two pairs of indices where the corresponding elements sum up to 21 = 2:\n",
    "(0, 0): numbers[0] + numbers[0] = 1 + 1 = 2\n",
    "(1, 3): numbers[1] + numbers[3] = -1 + 3 = 2\n",
    "There are two pairs of indices where the corresponding elements sum up to 22 = 4:\n",
    "(0, 3): numbers[0] + numbers[3] = 1 + 3 = 4\n",
    "(2, 2): numbers[2] + numbers[2] = 2 + 2 = 4\n",
    "In total, there are 1 + 2 + 2 = 5 pairs summing up to powers of two.\n",
    "For numbers = [2], the output should be solution(numbers) = 1.\n",
    "The only pair of indices is (0, 0) and the sum of corresponding elements is equal to 22 = 4. So, the answer is 1.\n",
    "For numbers = [-2, -1, 0, 1, 2], the output should be solution(numbers) = 5.\n",
    "There are two pairs of indices where the corresponding elements sum up to 20 = 1: (2, 3) and (1, 4)\n",
    "There are two pairs of indices where the corresponding elements sum up to 21 = 2: (2, 4) and (3, 3)\n",
    "There is one pair of indices where the corresponding elements sum up to 22 = 4: (4, 4)\n",
    "In total, there are 2 + 2 + 1 = 5 pairs summing up to powers of 2"
   ]
  },
  {
   "cell_type": "code",
   "execution_count": 76,
   "metadata": {},
   "outputs": [
    {
     "ename": "TypeError",
     "evalue": "object of type 'int' has no len()",
     "output_type": "error",
     "traceback": [
      "\u001b[1;31m---------------------------------------------------------------------------\u001b[0m",
      "\u001b[1;31mTypeError\u001b[0m                                 Traceback (most recent call last)",
      "\u001b[1;32m<ipython-input-76-9978a646e5a1>\u001b[0m in \u001b[0;36m<module>\u001b[1;34m\u001b[0m\n\u001b[0;32m      1\u001b[0m \u001b[0mnumbers\u001b[0m \u001b[1;33m=\u001b[0m \u001b[1;33m[\u001b[0m\u001b[1;36m1\u001b[0m\u001b[1;33m,\u001b[0m \u001b[1;33m-\u001b[0m\u001b[1;36m1\u001b[0m\u001b[1;33m,\u001b[0m \u001b[1;36m2\u001b[0m\u001b[1;33m,\u001b[0m \u001b[1;36m3\u001b[0m\u001b[1;33m]\u001b[0m\u001b[1;33m\u001b[0m\u001b[1;33m\u001b[0m\u001b[0m\n\u001b[1;32m----> 2\u001b[1;33m \u001b[0msolution\u001b[0m\u001b[1;33m(\u001b[0m\u001b[0mnumbers\u001b[0m\u001b[1;33m)\u001b[0m\u001b[1;33m\u001b[0m\u001b[1;33m\u001b[0m\u001b[0m\n\u001b[0m",
      "\u001b[1;32m<ipython-input-71-baa9b0594298>\u001b[0m in \u001b[0;36msolution\u001b[1;34m(arr)\u001b[0m\n\u001b[0;32m      4\u001b[0m     \u001b[0mstring\u001b[0m\u001b[1;33m=\u001b[0m\u001b[1;34m\"\"\u001b[0m\u001b[1;33m\u001b[0m\u001b[1;33m\u001b[0m\u001b[0m\n\u001b[0;32m      5\u001b[0m     \u001b[1;32mfor\u001b[0m \u001b[0mi\u001b[0m \u001b[1;32min\u001b[0m \u001b[0marr\u001b[0m\u001b[1;33m:\u001b[0m\u001b[1;33m\u001b[0m\u001b[1;33m\u001b[0m\u001b[0m\n\u001b[1;32m----> 6\u001b[1;33m         \u001b[0ml\u001b[0m\u001b[1;33m=\u001b[0m\u001b[0mlen\u001b[0m\u001b[1;33m(\u001b[0m\u001b[0mi\u001b[0m\u001b[1;33m)\u001b[0m\u001b[1;33m\u001b[0m\u001b[1;33m\u001b[0m\u001b[0m\n\u001b[0m\u001b[0;32m      7\u001b[0m         \u001b[1;32mif\u001b[0m \u001b[0mml\u001b[0m\u001b[1;33m<\u001b[0m\u001b[0ml\u001b[0m\u001b[1;33m:\u001b[0m\u001b[0mml\u001b[0m\u001b[1;33m=\u001b[0m\u001b[0ml\u001b[0m\u001b[1;33m\u001b[0m\u001b[1;33m\u001b[0m\u001b[0m\n\u001b[0;32m      8\u001b[0m \u001b[1;33m\u001b[0m\u001b[0m\n",
      "\u001b[1;31mTypeError\u001b[0m: object of type 'int' has no len()"
     ]
    }
   ],
   "source": [
    "numbers = [1, -1, 2, 3]\n",
    "solution(numbers)"
   ]
  },
  {
   "cell_type": "code",
   "execution_count": 34,
   "metadata": {},
   "outputs": [
    {
     "data": {
      "text/plain": [
       "True"
      ]
     },
     "execution_count": 34,
     "metadata": {},
     "output_type": "execute_result"
    }
   ],
   "source": [
    "def isPowerOfTwo(n):\n",
    "    if (n == 0):\n",
    "        return False\n",
    "    while (n != 1):\n",
    "        if (n % 2 != 0):\n",
    "            return False\n",
    "        n = n // 2\n",
    " \n",
    "    return True\n",
    "\n",
    "isPowerOfTwo(16)"
   ]
  },
  {
   "cell_type": "code",
   "execution_count": 5,
   "metadata": {},
   "outputs": [
    {
     "data": {
      "text/plain": [
       "-4"
      ]
     },
     "execution_count": 5,
     "metadata": {},
     "output_type": "execute_result"
    }
   ],
   "source": [
    "def division(x,y):\n",
    "    return x//y\n",
    "x=-8\n",
    "y=2\n",
    "division(x,y)"
   ]
  },
  {
   "cell_type": "markdown",
   "metadata": {},
   "source": [
    "Implement a function that, given an integer n, uses a specific method on it and returns the number of bits in its binary representation.\n",
    "\n",
    "Note: in this task and most of the following tasks you will be given a code snippet with some part of it replaced by the ellipsis (...). Only this part is allowed to be changed.\n",
    "\n",
    "Example\n",
    "\n",
    "For n = 50, the output should be\n",
    "solution(n) = 6.\n",
    "\n",
    "5010 = 1100102, a number that consists of 6 digits. Thus, the output should be 6."
   ]
  },
  {
   "cell_type": "code",
   "execution_count": 12,
   "metadata": {},
   "outputs": [
    {
     "data": {
      "text/plain": [
       "6"
      ]
     },
     "execution_count": 12,
     "metadata": {},
     "output_type": "execute_result"
    }
   ],
   "source": [
    "def solution(n):\n",
    "    a=bin(n)\n",
    "\n",
    "    b=len(a)-2\n",
    "    return b\n",
    "solution(50)\n",
    "#bin(50)\n",
    "#string = 'Geeks'\n",
    "#letter = 'k'\n",
    "#print(string.rfind(letter))"
   ]
  },
  {
   "cell_type": "code",
   "execution_count": 13,
   "metadata": {},
   "outputs": [],
   "source": [
    "# To fix this, you've decided to write your own modulus operator as a function. Your task is to implement a function that, given a number n, returns -1 if this number is not an integer and n % 2 otherwise. It is guaranteed that if the number represents an integer, it will be written without a decimal point.\n",
    "def modulus(n):\n",
    "    if float(n).is_integer():\n",
    "        return n % 2\n",
    "    else:\n",
    "        return -1"
   ]
  },
  {
   "cell_type": "markdown",
   "metadata": {},
   "source": [
    "Given two strings s and t, both consisting of lowercase English letters and digits, your task is to calculate how many ways exactly one digit could be removed from one of the strings so that s is lexicographically smaller than t after the removal. Note that we are removing only a single instance of a single digit, rather than all instances (eg: removing 1 from the string a11b1c could result in a1b1c or a11bc, but not abc).\n",
    "\n",
    "Also note that digits are considered lexicographically smaller than letters.\n",
    "\n",
    "Example\n",
    "\n",
    "For s = \"ab12c\" and t = \"1zz456\", the output should be solution(s, t) = 1.\n",
    "\n",
    "Here are all the possible removals:\n",
    "\n",
    "We can remove the first digit from s, obtaining \"ab2c\". \"ab2c\" > \"1zz456\", so we don't count this removal\n",
    "We can remove the second digit from s, obtaining \"ab1c\". \"ab1c\" > \"1zz456\", so we don't count this removal\n",
    "We can remove the first digit from t, obtaining \"zz456\". \"ab12c\" < \"zz456\", so we count this removal\n",
    "We can remove the second digit from t, obtaining \"1zz56\". \"ab12c\" > \"1zz56\", so we don't count this removal\n",
    "We can remove the third digit from t, obtaining \"1zz46\". \"ab12c\" > \"1zz46\", so we don't count this removal\n",
    "We can remove the fourth digit from t, obtaining \"1zz45\". \"ab12c\" > \"1zz45\", so we don't count this removal\n",
    "The only valid case where s < t after removing a digit is \"ab12c\" < \"zz456\". Therefore, the answer is 1.\n",
    "\n",
    "For s = \"ab12c\" and t = \"ab24z\", the output should be solution(s, t) = 3.\n",
    "\n",
    "There are 4 possible ways of removing the digit:\n",
    "\n",
    "\"ab1c\" < \"ab24z\"\n",
    "\"ab2c\" > \"ab24z\"\n",
    "\"ab12c\" < \"ab4z\"\n",
    "\"ab12c\" < \"ab2z\"\n",
    "Three of these cases match the requirement that s < t, so the answer is 3."
   ]
  },
  {
   "cell_type": "code",
   "execution_count": 32,
   "metadata": {},
   "outputs": [
    {
     "name": "stdout",
     "output_type": "stream",
     "text": [
      "48\n"
     ]
    }
   ],
   "source": [
    "#48-57  97-122\n",
    "print(ord('0'))"
   ]
  },
  {
   "cell_type": "code",
   "execution_count": 33,
   "metadata": {},
   "outputs": [
    {
     "name": "stdout",
     "output_type": "stream",
     "text": [
      "w\n"
     ]
    }
   ],
   "source": [
    "a='word'\n",
    "print(a[0])"
   ]
  },
  {
   "cell_type": "code",
   "execution_count": 34,
   "metadata": {},
   "outputs": [
    {
     "data": {
      "text/plain": [
       "0"
      ]
     },
     "execution_count": 34,
     "metadata": {},
     "output_type": "execute_result"
    }
   ],
   "source": [
    "def solution(s, t):\n",
    "    i=0\n",
    "    a=0\n",
    "    b=0\n",
    "    l=[]\n",
    "    cnt=0\n",
    "    r=[]\n",
    "\n",
    "    for i in range(len(s)):\n",
    "        if 48<=ord(s[i])<=57:\n",
    "            l=s[:i]+s[i+1:]\n",
    "            r=[]\n",
    "            r.append(l)\n",
    "            r.append(t)\n",
    "            if l==min(r):cnt+=1\n",
    "\n",
    "    return cnt\n",
    "s = \"ab12c\"\n",
    "t = \"1zz456\"\n",
    "solution(s,t)"
   ]
  },
  {
   "cell_type": "code",
   "execution_count": 35,
   "metadata": {},
   "outputs": [
    {
     "name": "stdout",
     "output_type": "stream",
     "text": [
      "0\n"
     ]
    }
   ],
   "source": [
    "i=0\n",
    "a=0\n",
    "b=0\n",
    "l=[]\n",
    "cnt=0\n",
    "r=[]\n",
    "\n",
    "for i in range(len(s)):\n",
    "    if 48<=ord(s[i])<=57:\n",
    "        l=s[:i]+s[i+1:]\n",
    "        r=[]\n",
    "        r.append(l)\n",
    "        r.append(t)\n",
    "        if l==min(r):cnt+=1\n",
    "print(cnt)"
   ]
  },
  {
   "cell_type": "markdown",
   "metadata": {},
   "source": [
    "You are given an array of arrays a. Your task is to group the arrays a[i] by their mean values, so that arrays with equal mean values are in the same group, and arrays with different mean values are in different groups.\n",
    "\n",
    "Each group should contain a set of indices (i, j, etc), such that the corresponding arrays (a[i], a[j], etc) all have the same mean. Return the set of groups as an array of arrays, where the indices within each group are sorted in ascending order, and the groups are sorted in ascending order of their minimum element.\n",
    "\n",
    "Example\n",
    "\n",
    "For\n",
    "\n",
    "a = [[3, 3, 4, 2],\n",
    "     [4, 4],\n",
    "     [4, 0, 3, 3],\n",
    "     [2, 3],\n",
    "     [3, 3, 3]]\n",
    "the output should be\n",
    "\n",
    "solution(a) = [[0, 4],\n",
    "                 [1],\n",
    "                 [2, 3]]\n",
    "mean(a[0]) = (3 + 3 + 4 + 2) / 4 = 3;\n",
    "mean(a[1]) = (4 + 4) / 2 = 4;\n",
    "mean(a[2]) = (4 + 0 + 3 + 3) / 4 = 2.5;\n",
    "mean(a[3]) = (2 + 3) / 2 = 2.5;\n",
    "mean(a[4]) = (3 + 3 + 3) / 3 = 3.\n",
    "There are three groups of means: those with mean 2.5, 3, and 4. And they form the following groups:\n",
    "\n",
    "Arrays with indices 0 and 4 form a group with mean 3;\n",
    "Array with index 1 forms a group with mean 4;\n",
    "Arrays with indices 2 and 3 form a group with mean 2.5.\n",
    "Note that neither\n",
    "\n",
    "solution(a) = [[0, 4],\n",
    "                 [2, 3],\n",
    "                 [1]]\n",
    "nor\n",
    "\n",
    "solution(a) = [[0, 4],\n",
    "                 [1],\n",
    "                 [3, 2]]\n",
    "will be considered as a correct answer:\n",
    "\n",
    "In the first case, the minimal element in the array at index 2 is 1, and it is less then the minimal element in the array at index 1, which is 2.\n",
    "In the second case, the array at index 2 is not sorted in ascending order.\n",
    "For\n",
    "\n",
    "a = [[-5, 2, 3],\n",
    "     [0, 0],\n",
    "     [0],\n",
    "     [-100, 100]]\n",
    "the output should be\n",
    "\n",
    "solution(a) = [[0, 1, 2, 3]]"
   ]
  },
  {
   "cell_type": "code",
   "execution_count": 7,
   "metadata": {},
   "outputs": [
    {
     "data": {
      "text/plain": [
       "[[0, 1, 2, 3]]"
      ]
     },
     "execution_count": 7,
     "metadata": {},
     "output_type": "execute_result"
    }
   ],
   "source": [
    "def solution(a):\n",
    "    groups = {}\n",
    "    for i in range(len(a)):\n",
    "        mean=sum(a[i])/len(a[i])\n",
    "        if mean in groups.keys():\n",
    "            groups[mean].append(i)\n",
    "        else:\n",
    "            groups[mean]=[i]\n",
    "    return list(groups.values())\n",
    "\n",
    "a = [[-5, 2, 3], [0, 0], [0], [-100, 100]]   \n",
    "solution(a) "
   ]
  },
  {
   "cell_type": "code",
   "execution_count": 5,
   "metadata": {},
   "outputs": [
    {
     "data": {
      "text/plain": [
       "[[0, 1, 2, 3]]"
      ]
     },
     "execution_count": 5,
     "metadata": {},
     "output_type": "execute_result"
    }
   ],
   "source": [
    "def solution(a):\n",
    "    groups = {}\n",
    "    for index, array in enumerate(a):\n",
    "        mean = sum(array)/len(array)\n",
    "        if mean in groups.keys():\n",
    "            groups[mean].append(index)\n",
    "        else:\n",
    "            groups[mean] = [index]\n",
    "    return list(groups.values())\n",
    "a = [[-5, 2, 3], [0, 0], [0], [-100, 100]]   \n",
    "solution(a) "
   ]
  },
  {
   "cell_type": "code",
   "execution_count": 23,
   "metadata": {},
   "outputs": [
    {
     "name": "stdout",
     "output_type": "stream",
     "text": [
      "Equal\n"
     ]
    }
   ],
   "source": [
    "dict1 = {'Name': 'asif', 'Age': 5}\n",
    "dict2 = {'Name': 'asif', 'Age': 5}\n",
    " \n",
    "if len(dict1)!=len(dict2):\n",
    "    print(\"Not equal\")\n",
    "     \n",
    "else:\n",
    "   \n",
    "    flag=0\n",
    "    for i in dict1:\n",
    "        if dict1.get(i)!=dict2.get(i):\n",
    "            flag=1\n",
    "            break\n",
    "    if flag==0:\n",
    "        print(\"Equal\")\n",
    "    else:\n",
    "        print(\"Not equal\")"
   ]
  },
  {
   "cell_type": "code",
   "execution_count": 24,
   "metadata": {},
   "outputs": [
    {
     "name": "stdout",
     "output_type": "stream",
     "text": [
      "[ 1 91 23 33]\n",
      "[ 4  2  1 12 13 14]\n"
     ]
    }
   ],
   "source": [
    "import numpy\n",
    " # insert function\n",
    "arr1_insert = numpy.array([1, 23, 33])\n",
    "  \n",
    "arr2_insert = numpy.insert(arr1_insert, 1, 91)\n",
    "  \n",
    "print(arr2_insert)\n",
    "# append function\n",
    "arr1_append = numpy.array([4, 2, 1])\n",
    "  \n",
    "arr2_append = numpy.append (arr1_append, [12, 13, 14])\n",
    "  \n",
    "print(arr2_append)"
   ]
  },
  {
   "cell_type": "markdown",
   "metadata": {},
   "source": [
    "Given an array of positive integers a, your task is to calculate the sum of every possible a[i] ∘ a[j], where a[i] ∘ a[j] is the concatenation of the string representations of a[i] and a[j] respectively.\n",
    "\n",
    "Example\n",
    "\n",
    "For a = [10, 2], the output should be solution(a) = 1344.\n",
    "\n",
    "a[0] ∘ a[0] = 10 ∘ 10 = 1010,\n",
    "a[0] ∘ a[1] = 10 ∘ 2 = 102,\n",
    "a[1] ∘ a[0] = 2 ∘ 10 = 210,\n",
    "a[1] ∘ a[1] = 2 ∘ 2 = 22.\n",
    "So the sum is equal to 1010 + 102 + 210 + 22 = 1344.\n",
    "\n",
    "For a = [8], the output should be solution(a) = 88.\n",
    "\n",
    "There is only one number in a, and a[0] ∘ a[0] = 8 ∘ 8 = 88, so the answer is 88.\n",
    "\n",
    "For a = [1, 2, 3], the output should be solution(a) = 198.\n",
    "\n",
    "a[0] ∘ a[0] = 1 ∘ 1 = 11,\n",
    "a[0] ∘ a[1] = 1 ∘ 2 = 12,\n",
    "a[0] ∘ a[2] = 1 ∘ 3 = 13,\n",
    "a[1] ∘ a[0] = 2 ∘ 1 = 21,\n",
    "a[1] ∘ a[1] = 2 ∘ 2 = 22,\n",
    "a[1] ∘ a[2] = 2 ∘ 3 = 23,\n",
    "a[2] ∘ a[0] = 3 ∘ 1 = 31,\n",
    "a[2] ∘ a[1] = 3 ∘ 2 = 32,\n",
    "a[2] ∘ a[2] = 3 ∘ 3 = 33.\n",
    "The total result is 11 + 12 + 13 + 21 + 22 + 23 + 31 + 32 + 33 = 198."
   ]
  },
  {
   "cell_type": "code",
   "execution_count": 14,
   "metadata": {},
   "outputs": [],
   "source": [
    "def solution(a):\n",
    "    i=0\n",
    "    k=[]\n",
    "    s=[]\n",
    "    g=0\n",
    "    for i in range(len(a)):\n",
    "        for j in range(len(a)):\n",
    "            s=int(str(a[i])+str(a[j]))\n",
    "            k.append(s)\n",
    "    for i in range(len(k)):\n",
    "        g=k[i]+g\n",
    "    return g\n",
    "        "
   ]
  },
  {
   "cell_type": "code",
   "execution_count": 21,
   "metadata": {},
   "outputs": [
    {
     "name": "stdout",
     "output_type": "stream",
     "text": [
      "[1, 2, 2, 3, 3, 5, 5]\n",
      "[1, 2, 2, 3, 3, 4, 5, 5, 7, 8]\n"
     ]
    }
   ],
   "source": [
    "a = [25, 2, 3, 57, 38, 41]\n",
    "b=[]\n",
    "for i in a:\n",
    "    if len(str(i))>1:\n",
    "        for c in str(i):\n",
    "            b.append(int(c))\n",
    "    else:b.append(i)\n",
    "count=0\n",
    "a=sorted(b)\n",
    "k=[]\n",
    "for i in a:\n",
    "    if a.count(i)>=count:\n",
    "        count=a.count(i)\n",
    "        k.append(i)\n",
    "print(k)\n",
    "print(a)\n",
    "#print(b.sort())sorted(a)\n",
    "\n",
    "#sorted(b)"
   ]
  },
  {
   "cell_type": "code",
   "execution_count": 19,
   "metadata": {},
   "outputs": [
    {
     "data": {
      "text/plain": [
       "1"
      ]
     },
     "execution_count": 19,
     "metadata": {},
     "output_type": "execute_result"
    }
   ],
   "source": [
    "a.count(2)"
   ]
  },
  {
   "cell_type": "code",
   "execution_count": 4,
   "metadata": {},
   "outputs": [
    {
     "ename": "SyntaxError",
     "evalue": "invalid syntax (<ipython-input-4-ba4c687c870c>, line 2)",
     "output_type": "error",
     "traceback": [
      "\u001b[1;36m  File \u001b[1;32m\"<ipython-input-4-ba4c687c870c>\"\u001b[1;36m, line \u001b[1;32m2\u001b[0m\n\u001b[1;33m    pip list\u001b[0m\n\u001b[1;37m           ^\u001b[0m\n\u001b[1;31mSyntaxError\u001b[0m\u001b[1;31m:\u001b[0m invalid syntax\n"
     ]
    }
   ],
   "source": [
    "#pip install -U pip\n",
    "pip list\n"
   ]
  },
  {
   "cell_type": "code",
   "execution_count": 3,
   "metadata": {},
   "outputs": [
    {
     "name": "stdout",
     "output_type": "stream",
     "text": [
      "Requirement already satisfied: pip in c:\\users\\shanh\\appdata\\local\\continuum\\anaconda3\\lib\\site-packages (23.0.1)\n",
      "Note: you may need to restart the kernel to use updated packages.\n"
     ]
    }
   ],
   "source": [
    "#pip install --upgrade pip"
   ]
  },
  {
   "cell_type": "markdown",
   "metadata": {},
   "source": [
    "You are given two arrays of integers a and b of the same length, and an integer k. We will be iterating through array a from left to right, and simultaneously through array b from right to left, and looking at pairs (x, y), where x is from a and y is from b. Such a pair is called tiny if the concatenation xy is strictly less than k.\n",
    "\n",
    "Your task is to return the number of tiny pairs that you'll encounter during the simultaneous iteration through a and b.\n",
    "\n",
    "Example\n",
    "\n",
    "For a = [1, 2, 3], b = [1, 2, 3], and k = 31, the output should be\n",
    "solution(a, b, k) = 2.\n",
    "\n",
    "We're considering the following pairs during iteration:\n",
    "\n",
    "(1, 3). Their concatenation equals 13, which is less than 31, so the pair is tiny;\n",
    "(2, 2). Their concatenation equals 22, which is less than 31, so the pair is tiny;\n",
    "(3, 1). Their concatenation equals 31, which is not less than 31, so the pair is not tiny.\n",
    "As you can see, there are 2 tiny pairs during the iteration, so the answer is 2.\n",
    "\n",
    "For a = [16, 1, 4, 2, 14], b = [7, 11, 2, 0, 15], and k = 743, the output should be\n",
    "solution(a, b, k) = 4.\n",
    "\n",
    "We're considering the following pairs during iteration:\n",
    "\n",
    "(16, 15). Their concatenation equals 1615, which is greater than 743, so the pair is not tiny;\n",
    "(1, 0). Their concatenation equals 10, which is less than 743, so the pair is tiny;\n",
    "(4, 2). Their concatenation equals 42, which is less than 743, so the pair is tiny.\n",
    "(2, 11). Their concatenation equals 211, which is less than 743, so the pair is tiny;\n",
    "(14, 7). Their concatenation equals 147, which is less than 743, so the pair is tiny.\n",
    "There are 4 tiny pairs during the iteration, so the answer is 4.\n",
    "\n",
    "Input/Output\n",
    "\n",
    "[execution time limit] 4 seconds (py3)\n",
    "\n",
    "[memory limit] 1 GB\n",
    "\n",
    "[input] array.integer a\n",
    "\n",
    "An array of non-negative integers.\n",
    "\n",
    "Guaranteed constraints:\n",
    "0 ≤ a.length ≤ 105,\n",
    "0 ≤ a[i] ≤ 104.\n",
    "\n",
    "[input] array.integer b\n",
    "\n",
    "An array of non-negative integers.\n",
    "\n",
    "Guaranteed constraints:\n",
    "b.length = a.length,\n",
    "0 ≤ b[i] ≤ 104.\n",
    "\n",
    "[input] integer k\n",
    "\n",
    "An integer to compare concatenated pairs with.\n",
    "\n",
    "Guaranteed constraints:\n",
    "0 ≤ k ≤ 109.\n",
    "\n",
    "[output] integer\n",
    "\n",
    "The number of tiny pairs during the iteration."
   ]
  },
  {
   "cell_type": "code",
   "execution_count": 13,
   "metadata": {},
   "outputs": [],
   "source": [
    "a = [1, 2, 3]\n",
    "b = [1, 2, 3]\n",
    "k=31\n",
    "\n",
    "a=[16, 1, 4, 2, 14]\n",
    "b=[7, 11, 2, 0, 15]\n",
    "k=743\n",
    "def solution(a, b, k):\n",
    "    i=0\n",
    "    count=0\n",
    "    while i<len(a):\n",
    "        if int(str(a[i])+str(b[len(b)-i-1]))<k:\n",
    "            count=count+1\n",
    "        else:\n",
    "            count=count\n",
    "        i=i+1\n",
    "    return count\n",
    "        "
   ]
  },
  {
   "cell_type": "markdown",
   "metadata": {},
   "source": [
    "Given an array of integers a, your task is to count the number of pairs i and j (where 0 ≤ i < j < a.length), such that a[i] and a[j] are digit anagrams.\n",
    "\n",
    "Two integers are considered to be digit anagrams if they contain the same digits. In other words, one can be obtained from the other by rearranging the digits (or trivially, if the numbers are equal). For example, 54275 and 45572 are digit anagrams, but 321 and 782 are not (since they don't contain the same digits). 220 and 22 are also not considered as digit anagrams, since they don't even have the same number of digits.\n",
    "\n",
    "Example\n",
    "\n",
    "For a = [25, 35, 872, 228, 53, 278, 872], the output should be solution(a) = 4.\n",
    "\n",
    "There are 4 pairs of digit anagrams:\n",
    "\n",
    "a[1] = 35 and a[4] = 53 (i = 1 and j = 4),\n",
    "a[2] = 872 and a[5] = 278 (i = 2 and j = 5),\n",
    "a[2] = 872 and a[6] = 872 (i = 2 and j = 6),\n",
    "a[5] = 278 and a[6] = 872 (i = 5 and j = 6).\n",
    "Input/Output\n",
    "\n",
    "[execution time limit] 6 seconds (py3)\n",
    "\n",
    "[memory limit] 1 GB\n",
    "\n",
    "[input] array.integer a\n",
    "\n",
    "An array of non-negative integers.\n",
    "\n",
    "Guaranteed constraints:\n",
    "1 ≤ a.length ≤ 105,\n",
    "0 ≤ a[i] ≤ 109.\n",
    "\n",
    "[output] integer64\n",
    "\n",
    "The number of pairs i and j, such that a[i] and a[j] are digit anagrams."
   ]
  },
  {
   "cell_type": "code",
   "execution_count": 18,
   "metadata": {},
   "outputs": [
    {
     "data": {
      "text/plain": [
       "4"
      ]
     },
     "execution_count": 18,
     "metadata": {},
     "output_type": "execute_result"
    }
   ],
   "source": [
    "a = [25, 35, 872, 228, 53, 278, 872]\n",
    "def solution(a):\n",
    "    count=0 \n",
    "    for i in range(len(a)):\n",
    "        for j in range(i+1,len(a)):   \n",
    "            if(sorted(str(a[i]))== sorted(str(a[j])))  and i<j:\n",
    "                count=count+1\n",
    "            else:count=count\n",
    "    return count\n",
    "\n",
    "\n",
    "\n",
    "from collections import defaultdict\n",
    "\n",
    "def solution(a):\n",
    "    freq_cnt = defaultdict(lambda: 0)\n",
    "    n = len(a)\n",
    "    pair_cnt = 0\n",
    "    for num in a:\n",
    "        formatted_num = ''.join(sorted(str(num))) \n",
    "        appearance_cnt = freq_cnt[formatted_num]\n",
    "        pair_cnt += appearance_cnt\n",
    "    \n",
    "        freq_cnt[formatted_num] += 1\n",
    "    \n",
    "    return pair_cnt                \n",
    "                \n",
    "                \n",
    "solution(a)"
   ]
  },
  {
   "cell_type": "code",
   "execution_count": 26,
   "metadata": {},
   "outputs": [
    {
     "name": "stdout",
     "output_type": "stream",
     "text": [
      "25\n",
      "35\n",
      "872\n",
      "228\n",
      "53\n",
      "278\n",
      "872\n",
      "[['2', '5'], ['3', '5'], ['2', '7', '8'], ['2', '2', '8'], ['3', '5'], ['2', '7', '8'], ['2', '7', '8']]\n",
      "3\n"
     ]
    }
   ],
   "source": [
    "from collections import defaultdict\n",
    "freq_cnt = defaultdict(lambda: 0)\n",
    "# print(freq_cnt)\n",
    "a = [25, 35, 872, 228, 53, 278, 872]\n",
    "freq_cnt = defaultdict(lambda: 0)\n",
    "n = len(a)\n",
    "pair_cnt = 0\n",
    "list=[]\n",
    "for num in a:\n",
    "    print(num)\n",
    "    formatted_num = sorted(str(num))\n",
    "    if formatted_num in list:\n",
    "        pair_cnt=pair_cnt+1\n",
    "    list.append(formatted_num)\n",
    "print(list)\n",
    "print(pair_cnt)"
   ]
  },
  {
   "cell_type": "markdown",
   "metadata": {},
   "source": [
    "Given a string s, find the length of the longest \n",
    "substring\n",
    " without repeating characters."
   ]
  },
  {
   "cell_type": "code",
   "execution_count": 27,
   "metadata": {},
   "outputs": [],
   "source": [
    "class Solution:\n",
    "    def lengthOfLongestSubstring(self, s: str) -> int:\n",
    "        ss=[]\n",
    "        ll=[]\n",
    "        maxx=0\n",
    "        length=0\n",
    "        for i in s:\n",
    "            if i in ss:\n",
    "                length=len(ss)\n",
    "                ss=[]\n",
    "                if length>maxx:\n",
    "                    maxx=length\n",
    "                ss.append(i)\n",
    "            else:\n",
    "                ss.append(i)\n",
    "                length=len(ss)\n",
    "                if length>maxx:\n",
    "                    maxx=length\n",
    "        if len(s)==1:\n",
    "            maxx=1\n",
    "        return maxx"
   ]
  },
  {
   "cell_type": "code",
   "execution_count": 28,
   "metadata": {},
   "outputs": [],
   "source": [
    "class Solution:\n",
    "    def lengthOfLongestSubstring(self, s: str) -> int:\n",
    "        start=0\n",
    "        count=0\n",
    "        for end in range(1,len(s)+1):\n",
    "            if len(set(s[start:end]))==len(s[start:end]):\n",
    "                if (end-start+1)>count:\n",
    "                    count=len(s[start:end])\n",
    "            else:\n",
    "                start+=1\n",
    "        return(count)\n",
    "class Solution:\n",
    "    def lengthOfLongestSubstring(self, s: str) -> int:\n",
    "        seen = {}\n",
    "        l = 0\n",
    "        output = 0\n",
    "        for r in range(len(s)):\n",
    "            \"\"\"\n",
    "            If s[r] not in seen, we can keep increasing the window size by moving right pointer\n",
    "            \"\"\"\n",
    "            if s[r] not in seen:\n",
    "                output = max(output,r-l+1)\n",
    "            \"\"\"\n",
    "            There are two cases if s[r] in seen:\n",
    "            case1: s[r] is inside the current window, we need to change the window by moving left pointer to seen[s[r]] + 1.\n",
    "            case2: s[r] is not inside the current window, we can keep increase the window\n",
    "            \"\"\"\n",
    "            else:\n",
    "                if seen[s[r]] < l:\n",
    "                    output = max(output,r-l+1)\n",
    "                else:\n",
    "                    l = seen[s[r]] + 1\n",
    "            seen[s[r]] = r\n",
    "        return output"
   ]
  },
  {
   "cell_type": "code",
   "execution_count": 33,
   "metadata": {},
   "outputs": [
    {
     "name": "stdout",
     "output_type": "stream",
     "text": [
      "1\n",
      "{'a'}   a\n",
      "2\n",
      "2\n",
      "{'a', 'b'}   ab\n",
      "3\n",
      "3\n",
      "{'c', 'a', 'b'}   abc\n",
      "4\n",
      "4\n",
      "5\n",
      "6\n",
      "7\n",
      "8\n",
      "9\n",
      "10\n",
      "11\n",
      "12\n",
      "{'c', 'a', 'd', 'b'}   abcd\n",
      "5\n",
      "13\n",
      "14\n",
      "15\n",
      "4\n"
     ]
    }
   ],
   "source": [
    "s = \"abcabcbbabcdabc\"\n",
    "start=0\n",
    "count=0\n",
    "for end in range(1,len(s)+1):\n",
    "    print(end)\n",
    "    if len(set(s[start:end]))==len(s[start:end]):\n",
    "        print(set(s[start:end]),\" \",s[start:end])\n",
    "        if (end-start+1)>count:\n",
    "            print((end-start+1))\n",
    "            count=len(s[start:end])\n",
    "    else:\n",
    "        start+=1\n",
    "print(count)"
   ]
  },
  {
   "cell_type": "code",
   "execution_count": 42,
   "metadata": {},
   "outputs": [
    {
     "name": "stdout",
     "output_type": "stream",
     "text": [
      "cherry\n",
      "apple\n",
      "banana\n"
     ]
    }
   ],
   "source": [
    "thisset = {\"a\",\"b\",\"b\",\"c\",\"x\",\"x\",\"a\",\"b\",\"x\",\"xvc\"}\n",
    "thisset =set({\"apple\", \"banana\", \"cherry\", \"apple\"}) \n",
    "\n",
    "for x in thisset:\n",
    "  print(x)"
   ]
  },
  {
   "cell_type": "markdown",
   "metadata": {},
   "source": [
    "Roman numerals are represented by seven different symbols: I, V, X, L, C, D and M.\n",
    "\n",
    "Symbol       Value\n",
    "I             1\n",
    "V             5\n",
    "X             10\n",
    "L             50\n",
    "C             100\n",
    "D             500\n",
    "M             1000\n",
    "For example, 2 is written as II in Roman numeral, just two ones added together. 12 is written as XII, which is simply X + II. The number 27 is written as XXVII, which is XX + V + II.\n",
    "\n",
    "Roman numerals are usually written largest to smallest from left to right. However, the numeral for four is not IIII. Instead, the number four is written as IV. Because the one is before the five we subtract it making four. The same principle applies to the number nine, which is written as IX. There are six instances where subtraction is used:\n",
    "\n",
    "I can be placed before V (5) and X (10) to make 4 and 9. \n",
    "X can be placed before L (50) and C (100) to make 40 and 90. \n",
    "C can be placed before D (500) and M (1000) to make 400 and 900.\n",
    "Given a roman numeral, convert it to an integer."
   ]
  },
  {
   "cell_type": "code",
   "execution_count": 73,
   "metadata": {},
   "outputs": [],
   "source": [
    "\n",
    "class Solution:\n",
    "    def romanToInt(self, s: str) -> int:\n",
    "        num=0\n",
    "        i=0\n",
    "        while i<len(s):\n",
    "            if s[i]==\"I\":\n",
    "                if i+1<len(s):\n",
    "                    if s[i+1]==\"V\":\n",
    "                        num=num+4\n",
    "                        i=i+2\n",
    "                    elif s[i+1] and i+1<len(s)==\"X\":\n",
    "                        num=num+9\n",
    "                        i=i+2\n",
    "                    else:\n",
    "                        num=num+1\n",
    "                        i=i+1\n",
    "                else:\n",
    "                    num=num+1\n",
    "                    i=i+1\n",
    "            elif s[i]==\"V\":\n",
    "                num=num+5\n",
    "                i=i+1\n",
    "            elif s[i]==\"X\":\n",
    "                if i+1<len(s):                \n",
    "                    if s[i+1] and i+1<len(s)==\"L\":\n",
    "                        num=num+4\n",
    "                        i=i+40\n",
    "                    elif s[i+1] and i+1<len(s)==\"C\":\n",
    "                        num=num+90\n",
    "                        i=i+2\n",
    "                    else:\n",
    "                        num=num+10\n",
    "                        i=i+1  \n",
    "                else:\n",
    "                    num=num+10\n",
    "                    i=i+1                \n",
    "            elif s[i]==\"L\":\n",
    "                num=num+50    \n",
    "            elif s[i]==\"C\":\n",
    "                if i+1<len(s):\n",
    "                    if s[i+1] and i+1<len(s)==\"D\":\n",
    "                        num=num+400\n",
    "                        i=i+2\n",
    "                    elif s[i+1] and i+1<len(s)==\"M\":\n",
    "                        num=num+900\n",
    "                        i=i+2\n",
    "                    else:\n",
    "                        num=num+100\n",
    "                        i=i+1\n",
    "                else:\n",
    "                    num=num+100\n",
    "                    i=i+1\n",
    "            elif s[i]==\"D\":\n",
    "                num=num+500\n",
    "                i=i+1\n",
    "            elif s[i]==\"M\":\n",
    "                num=num+1000\n",
    "                i=i+1\n",
    "            else:\n",
    "                num=num\n",
    "                i=i+1\n",
    "\n",
    "            \n",
    "        return num"
   ]
  },
  {
   "cell_type": "code",
   "execution_count": 74,
   "metadata": {},
   "outputs": [
    {
     "name": "stdout",
     "output_type": "stream",
     "text": [
      "M\n",
      "C\n",
      "M\n",
      "X\n",
      "C\n",
      "I\n",
      "V\n"
     ]
    },
    {
     "data": {
      "text/plain": [
       "2216"
      ]
     },
     "execution_count": 74,
     "metadata": {},
     "output_type": "execute_result"
    }
   ],
   "source": [
    "romanToInt(\"MCMXCIV\")"
   ]
  },
  {
   "cell_type": "code",
   "execution_count": 75,
   "metadata": {},
   "outputs": [],
   "source": [
    "class Solution:\n",
    "    def romanToInt(self, s: str) -> int:\n",
    "        roman={\"I\":1,\"V\":5,\"X\":10,\"L\":50,\"C\":100,\"D\":500,\"M\":1000}\n",
    "        number=0\n",
    "        for i in range(len(s)-1):\n",
    "            if roman[s[i]] < roman[s[(i+1)]]:\n",
    "                number-=roman[s[i]]\n",
    "            else:\n",
    "                number+=roman[s[i]]\n",
    "        return number+roman[s[-1]]\n",
    "class Solution:\n",
    "    def romanToInt(self, s: str) -> int:\n",
    "        roman_to_integer = {\n",
    "            'I': 1,\n",
    "            'V': 5,\n",
    "            'X': 10,\n",
    "            'L': 50,\n",
    "            'C': 100,\n",
    "            'D': 500,\n",
    "            'M': 1000,\n",
    "        }\n",
    "        s = s.replace(\"IV\", \"IIII\").replace(\"IX\", \"VIIII\").replace(\"XL\", \"XXXX\").replace(\"XC\", \"LXXXX\").replace(\"CD\", \"CCCC\").replace(\"CM\", \"DCCCC\")\n",
    "        return sum(map(lambda x: roman_to_integer[x], s))"
   ]
  },
  {
   "cell_type": "code",
   "execution_count": 148,
   "metadata": {},
   "outputs": [],
   "source": [
    " def addTwoNumbers(l1,l2):\n",
    "        s1=\"\"\n",
    "        s2=\"\"\n",
    "        i=0\n",
    "        ii=0\n",
    "        while i <len(l1):\n",
    "            s1=s1+str(l1[len(l1)-i-1])\n",
    "            i=i+1\n",
    "        while ii <len(l2):\n",
    "            s2=s2+str(l2[len(l2)-ii-1])\n",
    "            ii=ii+1\n",
    "\n",
    "        k=0\n",
    "        k=int(s1)+int(s2)\n",
    "\n",
    "        final=[]\n",
    "        for i in str(k):\n",
    "            \n",
    "            final.append(int(str(i)))\n",
    "        l3=[]\n",
    "        print(final)\n",
    "        l3=final.reverse()\n",
    "        return l3\n",
    "# class Solution:\n",
    "#     def addTwoNumbers(self, l1: ListNode | None, l2: ListNode | None) -> ListNode | None:\n",
    "#         sum_head = ListNode()\n",
    "#         p, q, curr_sum = l1, l2, sum_head\n",
    "#         carry = 0\n",
    "#         while p or q or carry:\n",
    "#             p, p_val = (p.next, p.val) if p else (p, 0)\n",
    "#             q, q_val = (q.next, q.val) if q else (q, 0)\n",
    "#             carry, sum_ = divmod(p_val + q_val + carry, 10)\n",
    "#             curr_sum.next = ListNode(sum_)\n",
    "#             curr_sum = curr_sum.next\n",
    "#         return sum_head.next  \n",
    "    \n",
    "    \n",
    "\n",
    "# def addTwoNumbers( l1, l2):\n",
    "# #         d = n = ListNode(0)\n",
    "#     num1 = num2 = \"\"\n",
    "#     while l1:\n",
    "#         num1 += str(l1.val)\n",
    "#         print(l1)\n",
    "#         l1 = l1.next\n",
    "#         print(l1)\n",
    "#     while l2:\n",
    "#         num2 += str(l2.val)\n",
    "#         l2 = l2.next\n",
    "#     res = str(int(num1[::-1]) + int(num2[::-1]))[::-1]\n",
    "#     for i in res:\n",
    "#         d.next = ListNode(i)\n",
    "#         d = d.next\n",
    "#     return n.next    "
   ]
  },
  {
   "cell_type": "code",
   "execution_count": 149,
   "metadata": {},
   "outputs": [
    {
     "name": "stdout",
     "output_type": "stream",
     "text": [
      "[1, 0, 0, 0, 9, 9, 9, 8]\n"
     ]
    }
   ],
   "source": [
    "l1 = [9,9,9,9,9,9,9]\n",
    "l2 = [9,9,9,9]\n",
    "addTwoNumbers(l1,l2)"
   ]
  },
  {
   "cell_type": "markdown",
   "metadata": {},
   "source": [
    "You are given two strings - pattern and source. The first string pattern contains only the symbols 0 and 1, and the second string source contains only lowercase English letters.\n",
    "\n",
    "Let's say that pattern matches a substring source[l..r] of source if the following three conditions are met:\n",
    "\n",
    "they have equal length,\n",
    "for each 0 in pattern the corresponding letter in the substring is a vowel,\n",
    "for each 1 in pattern the corresponding letter is a consonant.\n",
    "Your task is to calculate the number of substrings of source that match pattern.\n",
    "\n",
    "Note: In this task we define the vowels as 'a', 'e', 'i', 'o', 'u', and 'y'. All other letters are consonants.\n",
    "\n",
    "Example\n",
    "\n",
    "For pattern = \"010\" and source = \"amazing\", the output should be solution(pattern, source) = 2."
   ]
  },
  {
   "cell_type": "code",
   "execution_count": 121,
   "metadata": {},
   "outputs": [
    {
     "name": "stdout",
     "output_type": "stream",
     "text": [
      "[0, 0, 0, 0, 0, 0, 0, 0, 0, 0]\n",
      "[0, 0]\n",
      "[0, 0]\n",
      "[0, 0]\n",
      "[0, 0]\n",
      "[0, 0]\n",
      "[0, 0]\n",
      "[0, 0]\n",
      "[0, 0]\n",
      "[0, 0]\n",
      "[0, 0]\n",
      "9\n"
     ]
    }
   ],
   "source": [
    "pattern=\"00\"\n",
    "source=\"aaaaaaaaaa\"\n",
    "s=[]\n",
    "for i in source:\n",
    "    if i==\"a\" or i==\"e\" or i==\"i\" or i==\"o\" or i==\"u\" or i==\"y\":\n",
    "        s.append(0)\n",
    "    else:\n",
    "        s.append(1)\n",
    "ii=0\n",
    "count=0\n",
    "print(s)\n",
    "l=[]\n",
    "for i in pattern:\n",
    "    l.append(int(i))\n",
    "print(l)\n",
    "while ii+len(pattern)-1<len(source):\n",
    "    print(s[ii:(ii+len(pattern))])\n",
    "    if s[ii:(ii+len(pattern))]==l:\n",
    "        \n",
    "        count=count+1\n",
    "    ii=ii+1\n",
    "print(count)\n",
    "\n",
    "def solution(pattern, source):\n",
    "    s=[]\n",
    "    for i in source:\n",
    "        if i==\"a\" or i==\"e\" or i==\"i\" or i==\"o\" or i==\"u\" or i==\"y\":\n",
    "            s.append(0)\n",
    "        else:\n",
    "            s.append(1)\n",
    "    ii=0\n",
    "    count=0\n",
    "    print(s)\n",
    "    l=[]\n",
    "    for i in pattern:\n",
    "        l.append(int(i))\n",
    "\n",
    "    while ii+len(pattern)-1<len(source):\n",
    "\n",
    "        if s[ii:(ii+len(pattern))]==l:\n",
    "            \n",
    "            count=count+1\n",
    "        ii=ii+1\n",
    "\n",
    "    return count\n",
    "\n"
   ]
  },
  {
   "cell_type": "markdown",
   "metadata": {},
   "source": [
    "You are given an array of integers a and an integer k. Your task is to calculate the number of ways to pick two different indices i < j, such that a[i] + a[j] is divisible by k.\n",
    "\n",
    "Example\n",
    "\n",
    "For a = [1, 2, 3, 4, 5] and k = 3, the output should be solution(a, k) = 4.\n",
    "\n",
    "There are 4 pairs of numbers that sum to a multiple of k = 3:\n",
    "\n",
    "a[0] + a[1] = 1 + 2 = 3\n",
    "a[0] + a[4] = 1 + 5 = 6\n",
    "a[1] + a[3] = 2 + 4 = 6\n",
    "a[3] + a[4] = 4 + 5 = 9"
   ]
  },
  {
   "cell_type": "code",
   "execution_count": 125,
   "metadata": {},
   "outputs": [],
   "source": [
    "def solution(a, k):\n",
    "    i=0\n",
    "    j=0\n",
    "    count=0\n",
    "    for i in range(len(a)):\n",
    "        for j in range(i+1,len(a)):\n",
    "            if i<j and (a[i]+a[j])%k==0:\n",
    "                count+=1\n",
    "    return count\n"
   ]
  },
  {
   "cell_type": "code",
   "execution_count": 127,
   "metadata": {},
   "outputs": [
    {
     "ename": "NameError",
     "evalue": "name 'powerset' is not defined",
     "output_type": "error",
     "traceback": [
      "\u001b[1;31m---------------------------------------------------------------------------\u001b[0m",
      "\u001b[1;31mNameError\u001b[0m                                 Traceback (most recent call last)",
      "\u001b[1;32m~\\AppData\\Local\\Temp\\ipykernel_71604\\1732291183.py\u001b[0m in \u001b[0;36m<module>\u001b[1;34m\u001b[0m\n\u001b[0;32m      1\u001b[0m \u001b[0mstuff\u001b[0m \u001b[1;33m=\u001b[0m \u001b[1;33m[\u001b[0m\u001b[1;36m1\u001b[0m\u001b[1;33m,\u001b[0m \u001b[1;36m2\u001b[0m\u001b[1;33m,\u001b[0m \u001b[1;36m3\u001b[0m\u001b[1;33m]\u001b[0m\u001b[1;33m\u001b[0m\u001b[1;33m\u001b[0m\u001b[0m\n\u001b[1;32m----> 2\u001b[1;33m \u001b[1;32mfor\u001b[0m \u001b[0mi\u001b[0m\u001b[1;33m,\u001b[0m \u001b[0mcombo\u001b[0m \u001b[1;32min\u001b[0m \u001b[0menumerate\u001b[0m\u001b[1;33m(\u001b[0m\u001b[0mpowerset\u001b[0m\u001b[1;33m(\u001b[0m\u001b[0mstuff\u001b[0m\u001b[1;33m)\u001b[0m\u001b[1;33m,\u001b[0m \u001b[1;36m1\u001b[0m\u001b[1;33m)\u001b[0m\u001b[1;33m:\u001b[0m\u001b[1;33m\u001b[0m\u001b[1;33m\u001b[0m\u001b[0m\n\u001b[0m\u001b[0;32m      3\u001b[0m     \u001b[0mprint\u001b[0m\u001b[1;33m(\u001b[0m\u001b[1;34m'combo #{}: {}'\u001b[0m\u001b[1;33m.\u001b[0m\u001b[0mformat\u001b[0m\u001b[1;33m(\u001b[0m\u001b[0mi\u001b[0m\u001b[1;33m,\u001b[0m \u001b[0mcombo\u001b[0m\u001b[1;33m)\u001b[0m\u001b[1;33m)\u001b[0m\u001b[1;33m\u001b[0m\u001b[1;33m\u001b[0m\u001b[0m\n",
      "\u001b[1;31mNameError\u001b[0m: name 'powerset' is not defined"
     ]
    }
   ],
   "source": [
    "stuff = [1, 2, 3]\n",
    "for i, combo in enumerate(powerset(stuff), 1):\n",
    "    print('combo #{}: {}'.format(i, combo))"
   ]
  },
  {
   "cell_type": "code",
   "execution_count": 138,
   "metadata": {},
   "outputs": [
    {
     "name": "stdout",
     "output_type": "stream",
     "text": [
      "[0, 0, 0]\n",
      "the run num is  1\n",
      "1\n",
      "2\n",
      "2\n",
      "0\n",
      "0\n",
      "the run num is  2\n",
      "2\n",
      "1\n",
      "1\n",
      "1\n",
      "1\n",
      "the run num is  3\n",
      "0\n",
      "3\n",
      "3\n",
      "0\n",
      "1\n",
      "the run num is  4\n",
      "1\n",
      "2\n",
      "2\n",
      "1\n",
      "2\n",
      "the run num is  5\n",
      "2\n",
      "1\n",
      "1\n",
      "2\n",
      "4\n"
     ]
    },
    {
     "data": {
      "text/plain": [
       "4"
      ]
     },
     "execution_count": 138,
     "metadata": {},
     "output_type": "execute_result"
    }
   ],
   "source": [
    "import itertools\n",
    "\n",
    "def solution(a, k):\n",
    "    count = 0\n",
    "    for c in itertools.combinations(sorted(a), 2):\n",
    "        if (c[0] + c[1])% k==0:\n",
    "            count += 1\n",
    "    return count\n",
    "def solution(a, k):  \n",
    "    buckets = [0 for _ in range(k)]\n",
    "    print(buckets )\n",
    "    res = 0\n",
    "    for num in a:\n",
    "        print(\"the run num is \",num)\n",
    "        mod_value = num % k\n",
    "        print(num % k)\n",
    "        print(k - mod_value)\n",
    "        print(k - mod_value%k)\n",
    "        print(buckets[(k - mod_value) % k])\n",
    "        res += buckets[(k - mod_value) % k]\n",
    "        buckets[mod_value] += 1\n",
    "        print(res)\n",
    "    return res\n",
    "a = [1, 2, 3, 4, 5]\n",
    "k = 3\n",
    "solution(a, k)"
   ]
  },
  {
   "cell_type": "code",
   "execution_count": 130,
   "metadata": {},
   "outputs": [
    {
     "name": "stdout",
     "output_type": "stream",
     "text": [
      "Pairs which sum up to  3  are:  {(1, 2)}\n"
     ]
    },
    {
     "data": {
      "text/plain": [
       "1"
      ]
     },
     "execution_count": 130,
     "metadata": {},
     "output_type": "execute_result"
    }
   ],
   "source": [
    "def solution(list_,K):\n",
    "    count = 0\n",
    "    set_ = set(list_)\n",
    "    pairs_ = []\n",
    "    \n",
    "    for val in list_:\n",
    "        if K - val in set_:\n",
    "            # we ensure that pairs are unordered by using min and max\n",
    "            pairs_.append ( (min(val, K-val), max(val, K-val)) )\n",
    "            count+=1\n",
    "\n",
    "    set_pairs = set(pairs_)\n",
    "    \n",
    "    print (\"Pairs which sum up to \",K,\" are: \", set_pairs)\n",
    "\n",
    "    return len(set_pairs)\n",
    "solution(a, k)"
   ]
  },
  {
   "cell_type": "code",
   "execution_count": 140,
   "metadata": {},
   "outputs": [
    {
     "data": {
      "text/plain": [
       "1"
      ]
     },
     "execution_count": 140,
     "metadata": {},
     "output_type": "execute_result"
    }
   ],
   "source": [
    "1%3"
   ]
  },
  {
   "cell_type": "code",
   "execution_count": 136,
   "metadata": {},
   "outputs": [
    {
     "data": {
      "text/plain": [
       "2"
      ]
     },
     "execution_count": 136,
     "metadata": {},
     "output_type": "execute_result"
    }
   ],
   "source": [
    "2%3"
   ]
  },
  {
   "cell_type": "markdown",
   "metadata": {},
   "source": [
    "select a.num as ConsecutiveNums \n",
    "from Logs as a\n",
    "join Logs as b\n",
    "on a.id=b.id-1 and a.num=b.num\n",
    "join Logs as c\n",
    "on a.id=c.id-2 and a.num=c.num\n",
    "group by a.num\n",
    "\n",
    "\n",
    "\n",
    "/* Write your T-SQL query statement below */\n",
    "select a.num as ConsecutiveNums \n",
    "from Logs a,Logs b, Logs c\n",
    "where a.id=b.id-1 and a.num=b.num and\n",
    "a.id=c.id-2 and a.num=c.num \n",
    "group by a.num\n"
   ]
  },
  {
   "cell_type": "code",
   "execution_count": 160,
   "metadata": {},
   "outputs": [
    {
     "name": "stdout",
     "output_type": "stream",
     "text": [
      "['1', '2', '1']\n"
     ]
    }
   ],
   "source": [
    "class Solution:\n",
    "    def isPalindrome(self, x: int) -> bool:\n",
    "        list=[]\n",
    "        for i in str(x):\n",
    "            list.append(str(i))\n",
    "        print(list)\n",
    "        ll=len(str(x))\n",
    "        if len(str(x))%2==0:\n",
    "            l=int(len(str(x))/2)\n",
    "            t=0\n",
    "            for i in range(l):\n",
    "                if list[i]==list[ll-i-1]:\n",
    "                    t=t+1\n",
    "            print(t)\n",
    "            print(l)\n",
    "            if t==l:\n",
    "                lol=True\n",
    "            else:\n",
    "                lol=False\n",
    "        else:\n",
    "            list2=list.copy()\n",
    "            list2.reverse()\n",
    "\n",
    "            if list==list2:\n",
    "                lol=True\n",
    "            else:\n",
    "                lol=False\n",
    "\n",
    "        return lol\n",
    "\n",
    "\n"
   ]
  },
  {
   "cell_type": "code",
   "execution_count": 161,
   "metadata": {},
   "outputs": [
    {
     "data": {
      "text/plain": [
       "1"
      ]
     },
     "execution_count": 161,
     "metadata": {},
     "output_type": "execute_result"
    }
   ],
   "source": [
    "121%10"
   ]
  },
  {
   "cell_type": "code",
   "execution_count": 168,
   "metadata": {},
   "outputs": [
    {
     "name": "stdout",
     "output_type": "stream",
     "text": [
      "325\n",
      "reverse_num is  5\n",
      "temp now is  32\n",
      "32\n",
      "reverse_num is  52\n",
      "temp now is  3\n",
      "3\n",
      "reverse_num is  523\n",
      "temp now is  0\n",
      "False\n"
     ]
    }
   ],
   "source": [
    "class Solution:\n",
    "    def isPalindrome(self, x: int) -> bool:\n",
    "        if x < 0:\n",
    "            return False\n",
    "\n",
    "        reversed_num = 0\n",
    "        temp = x\n",
    "\n",
    "        while temp != 0:\n",
    "            digit = temp % 10\n",
    "            reversed_num = reversed_num * 10 + digit\n",
    "            temp //= 10\n",
    "\n",
    "        return reversed_num == x"
   ]
  },
  {
   "cell_type": "code",
   "execution_count": 170,
   "metadata": {},
   "outputs": [
    {
     "name": "stdout",
     "output_type": "stream",
     "text": [
      "[3, 2, 1]\n"
     ]
    }
   ],
   "source": [
    "list=[1,2,3]\n",
    "print(list[::-1])"
   ]
  },
  {
   "cell_type": "code",
   "execution_count": 176,
   "metadata": {},
   "outputs": [
    {
     "data": {
      "text/plain": [
       "6"
      ]
     },
     "execution_count": 176,
     "metadata": {},
     "output_type": "execute_result"
    }
   ],
   "source": [
    "def intToRoman(num):\n",
    "    numToRoman={\n",
    "    \"I\":1,\n",
    "    \"V\":5,\n",
    "    \"X\":10,\n",
    "    \"L\":50,\n",
    "    \"C\":100,\n",
    "    \"D\":500,\n",
    "    \"M\":1000\n",
    "    }\n",
    "    new_num=num.replace(\"IV\",\"IIII\").replace(\"IX\",\"VIIII\").replace(\"XL\",\"XXXX\").replace(\"XC\",\"LXXXX\").replace(\"CD\",\"CCCC\").replace(\"CM\",\"DCCCC\")\n",
    "    count=0\n",
    "    for i in new_num:\n",
    "        count=numToRoman[i]+count\n",
    "    return count\n",
    "intToRoman(\"VI\")"
   ]
  },
  {
   "cell_type": "code",
   "execution_count": 177,
   "metadata": {},
   "outputs": [],
   "source": [
    "class Solution:\n",
    "    def intToRoman(self, num1: int) -> str:\n",
    "        num = [1, 4, 5, 9, 10, 40, 50, 90,\n",
    "            100, 400, 500, 900, 1000]\n",
    "        sym = [\"I\", \"IV\", \"V\", \"IX\", \"X\", \"XL\",\n",
    "            \"L\", \"XC\", \"C\", \"CD\", \"D\", \"CM\", \"M\"]\n",
    "        i = 12\n",
    "        s=\"\"\n",
    "        while num1:\n",
    "            div = num1 // num[i]\n",
    "            num1 %= num[i]\n",
    "    \n",
    "            while div:\n",
    "                s=s+sym[i]\n",
    "                print(sym[i], end = \"\")\n",
    "                div -= 1\n",
    "            i -= 1\n",
    "        return s"
   ]
  },
  {
   "cell_type": "code",
   "execution_count": 183,
   "metadata": {},
   "outputs": [
    {
     "ename": "IndexError",
     "evalue": "list index out of range",
     "output_type": "error",
     "traceback": [
      "\u001b[1;31m---------------------------------------------------------------------------\u001b[0m",
      "\u001b[1;31mIndexError\u001b[0m                                Traceback (most recent call last)",
      "\u001b[1;32m~\\AppData\\Local\\Temp\\ipykernel_71604\\1714919379.py\u001b[0m in \u001b[0;36m<module>\u001b[1;34m\u001b[0m\n\u001b[0;32m      1\u001b[0m \u001b[1;31m# 13//3\u001b[0m\u001b[1;33m\u001b[0m\u001b[1;33m\u001b[0m\u001b[1;33m\u001b[0m\u001b[0m\n\u001b[0;32m      2\u001b[0m \u001b[0mlist\u001b[0m\u001b[1;33m=\u001b[0m\u001b[1;33m[\u001b[0m\u001b[1;36m1\u001b[0m\u001b[1;33m,\u001b[0m\u001b[1;36m2\u001b[0m\u001b[1;33m,\u001b[0m\u001b[1;36m3\u001b[0m\u001b[1;33m]\u001b[0m\u001b[1;33m\u001b[0m\u001b[1;33m\u001b[0m\u001b[0m\n\u001b[1;32m----> 3\u001b[1;33m \u001b[0mprint\u001b[0m\u001b[1;33m(\u001b[0m\u001b[0mlist\u001b[0m\u001b[1;33m[\u001b[0m\u001b[1;36m3\u001b[0m\u001b[1;33m]\u001b[0m\u001b[1;33m)\u001b[0m\u001b[1;33m\u001b[0m\u001b[1;33m\u001b[0m\u001b[0m\n\u001b[0m",
      "\u001b[1;31mIndexError\u001b[0m: list index out of range"
     ]
    }
   ],
   "source": [
    "# 13//3\n",
    "list=[1,2,3]\n",
    "print(list[3])"
   ]
  },
  {
   "cell_type": "markdown",
   "metadata": {},
   "source": [
    "You are given a string s. Your task is to count the number of ways of splitting s into three non-empty parts a, b and c (s = a + b + c) in such a way that a + b, b + c and c + a are all different strings.\n",
    "\n",
    "NOTE: + refers to string concatenation.\n",
    "\n",
    "Example\n",
    "\n",
    "For s = \"xzxzx\", the output should be solution(s) = 5.\n",
    "\n",
    "Consider all the ways to split s into three non-empty parts:\n",
    "\n",
    "If a = \"x\", b = \"z\" and c = \"xzx\", then all a + b = \"xz\", b + c = \"zxzx\" and c + a = xzxx are different.\n",
    "If a = \"x\", b = \"zx\" and c = \"zx\", then all a + b = \"xzx\", b + c = \"zxzx\" and c + a = zxx are different.\n",
    "If a = \"x\", b = \"zxz\" and c = \"x\", then all a + b = \"xzxz\", b + c = \"zxzx\" and c + a = xx are different.\n",
    "If a = \"xz\", b = \"x\" and c = \"zx\", then a + b = b + c = \"xzx\". Hence, this split is not counted.\n",
    "If a = \"xz\", b = \"xz\" and c = \"x\", then all a + b = \"xzxz\", b + c = \"xzx\" and c + a = xxz are different.\n",
    "If a = \"xzx\", b = \"z\" and c = \"x\", then all a + b = \"xzxz\", b + c = \"zx\" and c + a = xxzx are different.\n",
    "Since there are five valid ways to split s, the answer is 5."
   ]
  },
  {
   "cell_type": "code",
   "execution_count": 212,
   "metadata": {},
   "outputs": [
    {
     "name": "stdout",
     "output_type": "stream",
     "text": [
      "i is  0 j is  1 a is x b is x c is xxxxxxxxx\n",
      "i is  0 j is  2 a is x b is x c is xxxxxxxx\n",
      "i is  0 j is  3 a is x b is x c is xxxxxxx\n",
      "i is  0 j is  4 a is x b is x c is xxxxxx\n",
      "i is  0 j is  5 a is x b is x c is xxxxx\n",
      "i is  0 j is  6 a is x b is x c is xxxx\n",
      "i is  0 j is  7 a is x b is x c is xxx\n",
      "i is  0 j is  8 a is x b is x c is xx\n",
      "i is  1 j is  2 a is x b is x c is xxxxxxxx\n",
      "i is  1 j is  3 a is x b is xx c is xxxxxxx\n",
      "i is  1 j is  4 a is x b is xxx c is xxxxxx\n",
      "i is  1 j is  5 a is x b is xxxx c is xxxxx\n",
      "i is  1 j is  6 a is x b is xxxxx c is xxxx\n",
      "i is  1 j is  7 a is x b is xxxxxx c is xxx\n",
      "i is  1 j is  8 a is x b is xxxxxxx c is xx\n",
      "i is  2 j is  3 a is xx b is x c is xxxxxxx\n",
      "i is  2 j is  4 a is xx b is xx c is xxxxxx\n",
      "i is  2 j is  5 a is xx b is xxx c is xxxxx\n",
      "i is  2 j is  6 a is xx b is xxxx c is xxxx\n",
      "i is  2 j is  7 a is xx b is xxxxx c is xxx\n",
      "i is  2 j is  8 a is xx b is xxxxxx c is xx\n",
      "i is  3 j is  4 a is xxx b is x c is xxxxxx\n",
      "i is  3 j is  5 a is xxx b is xx c is xxxxx\n",
      "i is  3 j is  6 a is xxx b is xxx c is xxxx\n",
      "i is  3 j is  7 a is xxx b is xxxx c is xxx\n",
      "i is  3 j is  8 a is xxx b is xxxxx c is xx\n",
      "i is  4 j is  5 a is xxxx b is x c is xxxxx\n",
      "i is  4 j is  6 a is xxxx b is xx c is xxxx\n",
      "i is  4 j is  7 a is xxxx b is xxx c is xxx\n",
      "i is  4 j is  8 a is xxxx b is xxxx c is xx\n",
      "i is  5 j is  6 a is xxxxx b is x c is xxxx\n",
      "i is  5 j is  7 a is xxxxx b is xx c is xxx\n",
      "i is  5 j is  8 a is xxxxx b is xxx c is xx\n",
      "i is  6 j is  7 a is xxxxxx b is x c is xxx\n",
      "i is  6 j is  8 a is xxxxxx b is xx c is xx\n",
      "i is  7 j is  8 a is xxxxxxx b is x c is xx\n",
      "18\n"
     ]
    }
   ],
   "source": [
    "s=\"xxxxxxxxxx\"\n",
    "count=0\n",
    "if len(s)<3:\n",
    "    count=0\n",
    "else:\n",
    "    i=0\n",
    "    l=len(s)\n",
    "    while i<len(s)-2:\n",
    "        j=i+1\n",
    "        while j<l-1:\n",
    "            if i==0:\n",
    "                a=s[0]\n",
    "                b=s[1]\n",
    "            elif len(s)==3:\n",
    "                if s[0]==s[1]==s[2]:\n",
    "                    count=1\n",
    "            else:\n",
    "                a=s[0:i]\n",
    "                b=s[i:j]\n",
    "            c=s[j:l]\n",
    "            print(\"i is \",i,\"j is \",j,\"a is\",a,\"b is\",b,\"c is\",c)\n",
    "            if a+b != b+c and b+c != c+a and c+a != a+b:\n",
    "                count=count+1\n",
    "            j=j+1\n",
    "        i=i+1\n",
    "print(count)\n",
    "def solution(s):\n",
    "    count=0\n",
    "    if len(s)<3:\n",
    "        count=0\n",
    "    elif len(s)==3:\n",
    "        if s[0]!=s[1] and s[0]!=s[2]:\n",
    "            count=1\n",
    "    else:\n",
    "        i=0\n",
    "        l=len(s)\n",
    "        while i<len(s)-2:\n",
    "            j=i+1\n",
    "            while j<l-1:\n",
    "                if i==0:\n",
    "                    a=s[0]\n",
    "                    b=s[1]\n",
    "                else:\n",
    "                    a=s[0:i]\n",
    "                    b=s[i:j]\n",
    "                c=s[j:l]\n",
    "                # print(\"i is \",i,\"j is \",j,\"a is\",a,\"b is\",b,\"c is\",c)\n",
    "                if  a+b != b+c and b+c != c+a and c+a != a+b:\n",
    "                    count=count+1\n",
    "                j=j+1\n",
    "            i=i+1\n",
    "    return count\n"
   ]
  },
  {
   "cell_type": "markdown",
   "metadata": {},
   "source": [
    "Given an array of integers a, your task is to find how many of its contiguous subarrays of length m contain a pair of integers with a sum equal to k.\n",
    "\n",
    "More formally, given the array a, your task is to count the number of indices 0 ≤ i ≤ a.length - m such that a subarray [a[i], a[i + 1], ..., a[i + m - 1]] contains at least one pair (a[s], a[t]), where:\n",
    "\n",
    "s ≠ t\n",
    "a[s] + a[t] = k\n",
    "Example\n",
    "\n",
    "For a = [2, 4, 7, 5, 3, 5, 8, 5, 1, 7], m = 4, and k = 10, the output should be solution(a, m, k) = 5.\n",
    "\n",
    "Let's consider all subarrays of length m = 4 and see which fit the description conditions:\n",
    "\n",
    "Subarray a[0..3] = [2, 4, 7, 5] doesn't contain any pair of integers with a sum of k = 10. Note that although the pair (a[3], a[3]) has the sum 5 + 5 = 10, it doesn't fit the requirement s ≠ t.\n",
    "Subarray a[1..4] = [4, 7, 5, 3] contains the pair (a[2], a[4]), where a[2] + a[4] = 7 + 3 = 10.\n",
    "Subarray a[2..5] = [7, 5, 3, 5] contains two pairs (a[2], a[4]) and (a[3], a[5]), both with a sum of k = 10.\n",
    "Subarray a[3..6] = [5, 3, 5, 8] contains the pair (a[3], a[5]), where a[3] + a[5] = 5 + 5 = 10.\n",
    "Subarray a[4..7] = [3, 5, 8, 5] contains the pair (a[5], a[7]), where a[5] + a[7] = 5 + 5 = 10.\n",
    "Subarray a[5..8] = [5, 8, 5, 1] contains the pair (a[5], a[7]), where a[5] + a[7] = 5 + 5 = 10.\n",
    "Subarray a[6..9] = [8, 5, 1, 7] doesn't contain any pair with a sum of k = 10.\n",
    "So the answer is 5, because there are 5 contiguous subarrays that contain a pair with a sum of k = 10.\n",
    "\n",
    "For a = [15, 8, 8, 2, 6, 4, 1, 7], m = 2, and k = 8, the output should be solution(a, m, k) = 2.\n",
    "\n",
    "There are 2 subarrays satisfying the description conditions:\n",
    "\n",
    "a[3..4] = [2, 6], where 2 + 6 = 8\n",
    "a[6..7] = [1, 7], where 1 + 7 = 8"
   ]
  },
  {
   "cell_type": "code",
   "execution_count": 227,
   "metadata": {},
   "outputs": [
    {
     "name": "stdout",
     "output_type": "stream",
     "text": [
      "i+m is 4\n",
      "am is  [2, 4, 7, 5]\n",
      "am is  [2, 4, 7, 5]\n",
      "am is  [2, 4, 7, 5]\n",
      "am is  [2, 4, 7, 5]\n",
      "i+m is 5\n",
      "am is  [4, 7, 5, 3]\n",
      "am is  [4, 7, 5, 3]\n",
      "am is  [4, 7, 5, 3]\n",
      "am is  [4, 7, 5, 3]\n",
      "i+m is 6\n",
      "am is  [7, 5, 3, 5]\n",
      "am is  [7, 5, 3, 5]\n",
      "yes, i and j is 2 4\n",
      "am is  [7, 5, 3, 5]\n",
      "am is  [7, 5, 3, 5]\n",
      "i+m is 7\n",
      "am is  [5, 3, 5, 8]\n",
      "am is  [5, 3, 5, 8]\n",
      "yes, i and j is 3 5\n",
      "am is  [5, 3, 5, 8]\n",
      "am is  [5, 3, 5, 8]\n",
      "yes, i and j is 3 7\n",
      "i+m is 8\n",
      "am is  [3, 5, 8, 5]\n",
      "am is  [3, 5, 8, 5]\n",
      "am is  [3, 5, 8, 5]\n",
      "am is  [3, 5, 8, 5]\n",
      "i+m is 9\n",
      "am is  [5, 8, 5, 1]\n",
      "am is  [5, 8, 5, 1]\n",
      "yes, i and j is 5 7\n",
      "am is  [5, 8, 5, 1]\n",
      "am is  [5, 8, 5, 1]\n",
      "i+m is 10\n",
      "am is  [8, 5, 1, 7]\n",
      "am is  [8, 5, 1, 7]\n",
      "am is  [8, 5, 1, 7]\n",
      "am is  [8, 5, 1, 7]\n"
     ]
    },
    {
     "ename": "IndexError",
     "evalue": "list index out of range",
     "output_type": "error",
     "traceback": [
      "\u001b[1;31m---------------------------------------------------------------------------\u001b[0m",
      "\u001b[1;31mIndexError\u001b[0m                                Traceback (most recent call last)",
      "\u001b[1;32m~\\AppData\\Local\\Temp\\ipykernel_71604\\3641035495.py\u001b[0m in \u001b[0;36m<module>\u001b[1;34m\u001b[0m\n\u001b[0;32m      9\u001b[0m     \u001b[1;32mwhile\u001b[0m \u001b[0mj\u001b[0m\u001b[1;33m<\u001b[0m\u001b[0mm\u001b[0m\u001b[1;33m+\u001b[0m\u001b[0mi\u001b[0m\u001b[1;33m+\u001b[0m\u001b[1;36m1\u001b[0m\u001b[1;33m:\u001b[0m\u001b[1;33m\u001b[0m\u001b[1;33m\u001b[0m\u001b[0m\n\u001b[0;32m     10\u001b[0m         \u001b[0mprint\u001b[0m\u001b[1;33m(\u001b[0m\u001b[1;34m\"am is \"\u001b[0m\u001b[1;33m,\u001b[0m\u001b[0ma\u001b[0m\u001b[1;33m[\u001b[0m\u001b[0mi\u001b[0m\u001b[1;33m:\u001b[0m\u001b[0mm\u001b[0m\u001b[1;33m+\u001b[0m\u001b[0mi\u001b[0m\u001b[1;33m]\u001b[0m\u001b[1;33m)\u001b[0m\u001b[1;33m\u001b[0m\u001b[1;33m\u001b[0m\u001b[0m\n\u001b[1;32m---> 11\u001b[1;33m         \u001b[1;32mif\u001b[0m \u001b[0ma\u001b[0m\u001b[1;33m[\u001b[0m\u001b[0mi\u001b[0m\u001b[1;33m]\u001b[0m\u001b[1;33m+\u001b[0m\u001b[0ma\u001b[0m\u001b[1;33m[\u001b[0m\u001b[0mj\u001b[0m\u001b[1;33m]\u001b[0m\u001b[1;33m==\u001b[0m\u001b[0mk\u001b[0m\u001b[1;33m:\u001b[0m\u001b[1;33m\u001b[0m\u001b[1;33m\u001b[0m\u001b[0m\n\u001b[0m\u001b[0;32m     12\u001b[0m             \u001b[0mprint\u001b[0m\u001b[1;33m(\u001b[0m\u001b[1;34m\"yes, i and j is\"\u001b[0m\u001b[1;33m,\u001b[0m\u001b[0mi\u001b[0m\u001b[1;33m,\u001b[0m\u001b[0mj\u001b[0m\u001b[1;33m)\u001b[0m\u001b[1;33m\u001b[0m\u001b[1;33m\u001b[0m\u001b[0m\n\u001b[0;32m     13\u001b[0m             \u001b[0mcount\u001b[0m\u001b[1;33m=\u001b[0m\u001b[0mcount\u001b[0m\u001b[1;33m+\u001b[0m\u001b[1;36m1\u001b[0m\u001b[1;33m\u001b[0m\u001b[1;33m\u001b[0m\u001b[0m\n",
      "\u001b[1;31mIndexError\u001b[0m: list index out of range"
     ]
    }
   ],
   "source": [
    "a=[2, 4, 7, 5, 3, 5, 8, 5, 1, 7]\n",
    "m=4\n",
    "k=10\n",
    "i=0\n",
    "count=0\n",
    "while i+m<len(a)+1:\n",
    "    print(\"i+m is\",i+m)\n",
    "    j=i+1\n",
    "    while j<m+i+1:\n",
    "        print(\"am is \",a[i:m+i])\n",
    "        if a[i]+a[j]==k:\n",
    "            print(\"yes, i and j is\",i,j)\n",
    "            count=count+1\n",
    "        j=j+1\n",
    "    i=i+1\n",
    "print(count)"
   ]
  },
  {
   "cell_type": "markdown",
   "metadata": {},
   "source": [
    "Given two strings s and t, both consisting of lowercase English letters and digits, your task is to calculate how many ways exactly one digit could be removed from one of the strings so that s is lexicographically smaller than t after the removal. Note that we are removing only a single instance of a single digit, rather than all instances (eg: removing 1 from the string a11b1c could result in a1b1c or a11bc, but not abc).\n",
    "\n",
    "Also note that digits are considered lexicographically smaller than letters.\n",
    "\n",
    "Example\n",
    "\n",
    "For s = \"ab12c\" and t = \"1zz456\", the output should be solution(s, t) = 1.\n",
    "\n",
    "Here are all the possible removals:\n",
    "\n",
    "We can remove the first digit from s, obtaining \"ab2c\". \"ab2c\" > \"1zz456\", so we don't count this removal\n",
    "We can remove the second digit from s, obtaining \"ab1c\". \"ab1c\" > \"1zz456\", so we don't count this removal\n",
    "We can remove the first digit from t, obtaining \"zz456\". \"ab12c\" < \"zz456\", so we count this removal\n",
    "We can remove the second digit from t, obtaining \"1zz56\". \"ab12c\" > \"1zz56\", so we don't count this removal\n",
    "We can remove the third digit from t, obtaining \"1zz46\". \"ab12c\" > \"1zz46\", so we don't count this removal\n",
    "We can remove the fourth digit from t, obtaining \"1zz45\". \"ab12c\" > \"1zz45\", so we don't count this removal\n",
    "The only valid case where s < t after removing a digit is \"ab12c\" < \"zz456\". Therefore, the answer is 1.\n",
    "\n",
    "For s = \"ab12c\" and t = \"ab24z\", the output should be solution(s, t) = 3.\n",
    "\n",
    "There are 4 possible ways of removing the digit:\n",
    "\n",
    "\"ab1c\" < \"ab24z\"\n",
    "\"ab2c\" > \"ab24z\"\n",
    "\"ab12c\" < \"ab4z\"\n",
    "\"ab12c\" < \"ab2z\"\n",
    "Three of these cases match the requirement that s < t, so the answer is 3."
   ]
  },
  {
   "cell_type": "code",
   "execution_count": 3,
   "metadata": {},
   "outputs": [
    {
     "name": "stdout",
     "output_type": "stream",
     "text": [
      "True\n"
     ]
    }
   ],
   "source": [
    "def solution(s, t):\n",
    "    cnt=0\n",
    "    for i in range(len(str(s))):\n",
    "        \n",
    "        if s[i].isdigit():\n",
    "            s1=s[0:i]+s[i+1:len(str(s))]\n",
    "            print(s1)\n",
    "            if s1<t:\n",
    "                cnt=cnt+1\n",
    "    for i in range(len(str(t))):\n",
    "        \n",
    "        if t[i].isdigit():\n",
    "            t1=t[0:i]+t[i+1:len(str(t))]\n",
    "            print(t1)\n",
    "            if s<t1:\n",
    "                cnt=cnt+1\n",
    "    return cnt\n"
   ]
  },
  {
   "cell_type": "code",
   "execution_count": 5,
   "metadata": {},
   "outputs": [
    {
     "name": "stdout",
     "output_type": "stream",
     "text": [
      "yes\n"
     ]
    }
   ],
   "source": [
    "s='lo1l'\n",
    "for i in range(len(str(s))):\n",
    "    if s[i].isdigit():\n",
    "        print(\"yes\")"
   ]
  },
  {
   "cell_type": "code",
   "execution_count": 11,
   "metadata": {},
   "outputs": [
    {
     "name": "stdout",
     "output_type": "stream",
     "text": [
      "l1l\n"
     ]
    }
   ],
   "source": [
    "print(s[0:1]+s[2:4])"
   ]
  },
  {
   "cell_type": "code",
   "execution_count": 12,
   "metadata": {},
   "outputs": [
    {
     "name": "stdout",
     "output_type": "stream",
     "text": [
      "2\n"
     ]
    }
   ],
   "source": [
    "dict1={1:1,2:2,3:3,5:1}\n",
    "res = {key : val for key, val in dict1.items()\n",
    "            if val==1}\n",
    "print(len(res.keys()))\n",
    "# res = {key : val for key, val in test_dict.items()\n",
    "#            if not isinstance(val, int) or val > K}"
   ]
  },
  {
   "cell_type": "code",
   "execution_count": 22,
   "metadata": {},
   "outputs": [
    {
     "data": {
      "text/plain": [
       "8"
      ]
     },
     "execution_count": 22,
     "metadata": {},
     "output_type": "execute_result"
    }
   ],
   "source": [
    "def solution(a, k):\n",
    "    dict1=dict()\n",
    "    cnt=0\n",
    "    list1=list()\n",
    "    for i in range(len(a)):\n",
    "        remin=a[i]%k\n",
    "        comp=k-remin\n",
    "        dict1[i]=remin\n",
    "        if comp in dict1.values() and len(dict1)>1:\n",
    "            res = {key : val for key, val in dict1.items()\n",
    "            if val==comp and key!=i}\n",
    "            for kk in res.keys():\n",
    "                if i>kk:\n",
    "                    l=[kk,i]\n",
    "                else:l=[i,kk]\n",
    "                if l not in list1:\n",
    "                    list1.append(l)\n",
    "\n",
    "    return len(list1)\n",
    "a=[1, 3, 5, 7, 9]\n",
    "k=2\n",
    "a=[1, 2, 3, 4, 5, 6, 7, 8, 9, 10]\n",
    "k=5\n",
    "solution(a, k)\n"
   ]
  },
  {
   "cell_type": "code",
   "execution_count": null,
   "metadata": {},
   "outputs": [],
   "source": []
  }
 ],
 "metadata": {
  "kernelspec": {
   "display_name": "Python 3 (ipykernel)",
   "language": "python",
   "name": "python3"
  },
  "language_info": {
   "codemirror_mode": {
    "name": "ipython",
    "version": 3
   },
   "file_extension": ".py",
   "mimetype": "text/x-python",
   "name": "python",
   "nbconvert_exporter": "python",
   "pygments_lexer": "ipython3",
   "version": "3.7.9"
  }
 },
 "nbformat": 4,
 "nbformat_minor": 2
}
